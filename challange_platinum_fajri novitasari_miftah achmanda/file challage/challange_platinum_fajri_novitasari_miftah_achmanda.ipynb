{
  "cells": [
    {
      "cell_type": "markdown",
      "metadata": {
        "id": "ZeAqnpilAar_"
      },
      "source": [
        "# Analysis Data Text"
      ]
    },
    {
      "cell_type": "markdown",
      "metadata": {
        "id": "PswcabFDy4yP"
      },
      "source": [
        "# Import Library"
      ]
    },
    {
      "cell_type": "code",
      "execution_count": null,
      "metadata": {
        "id": "XTtB39FpRiYO"
      },
      "outputs": [],
      "source": [
        "import pandas as pd\n",
        "import numpy as np\n",
        "import seaborn as sns\n",
        "import matplotlib.pyplot as plt"
      ]
    },
    {
      "cell_type": "markdown",
      "metadata": {
        "id": "nTA4flzh9W0w"
      },
      "source": [
        "# Data Preparation"
      ]
    },
    {
      "cell_type": "markdown",
      "metadata": {
        "id": "e7C0_E2xzAJF"
      },
      "source": [
        "## Load Data\n",
        "\n",
        "Load data **`indonlu_smsa_doc-sentiment-prosa.tsv`** with column **text** and **label**"
      ]
    },
    {
      "cell_type": "code",
      "execution_count": null,
      "metadata": {
        "id": "-yojF7EcTNto",
        "colab": {
          "base_uri": "https://localhost:8080/",
          "height": 424
        },
        "outputId": "e04525f4-1653-4c1e-b938-e20dcc9521f4"
      },
      "outputs": [
        {
          "output_type": "execute_result",
          "data": {
            "text/plain": [
              "                                                 tweets    labels\n",
              "0     tempat yang nyaman untuk berkumpul dengan tema...  positive\n",
              "1     memang banyak bacot sih , omongan doang gede b...  negative\n",
              "2     buat yang berkunjung ke bandung , yang ingin m...  positive\n",
              "3     restoran menyajikan makanan khas sunda yang en...  positive\n",
              "4     kalau travelling ke bandung , wajib makan bata...  positive\n",
              "...                                                 ...       ...\n",
              "9895  warung nasi ampera memiliki konsep rumah makan...  positive\n",
              "9896  mbak della sangat baik dan ramah , makanna nya...  positive\n",
              "9897  suasana nya sangat romantis jika makan malam d...  positive\n",
              "9898  masyarakat tidak kecewa jika dipimpin oleh jok...  positive\n",
              "9899  mau itu pak ridwan kamil atau pak dedi mulyadi...  positive\n",
              "\n",
              "[9900 rows x 2 columns]"
            ],
            "text/html": [
              "\n",
              "  <div id=\"df-950f2b33-c517-43c8-8835-96f342d888a2\">\n",
              "    <div class=\"colab-df-container\">\n",
              "      <div>\n",
              "<style scoped>\n",
              "    .dataframe tbody tr th:only-of-type {\n",
              "        vertical-align: middle;\n",
              "    }\n",
              "\n",
              "    .dataframe tbody tr th {\n",
              "        vertical-align: top;\n",
              "    }\n",
              "\n",
              "    .dataframe thead th {\n",
              "        text-align: right;\n",
              "    }\n",
              "</style>\n",
              "<table border=\"1\" class=\"dataframe\">\n",
              "  <thead>\n",
              "    <tr style=\"text-align: right;\">\n",
              "      <th></th>\n",
              "      <th>tweets</th>\n",
              "      <th>labels</th>\n",
              "    </tr>\n",
              "  </thead>\n",
              "  <tbody>\n",
              "    <tr>\n",
              "      <th>0</th>\n",
              "      <td>tempat yang nyaman untuk berkumpul dengan tema...</td>\n",
              "      <td>positive</td>\n",
              "    </tr>\n",
              "    <tr>\n",
              "      <th>1</th>\n",
              "      <td>memang banyak bacot sih , omongan doang gede b...</td>\n",
              "      <td>negative</td>\n",
              "    </tr>\n",
              "    <tr>\n",
              "      <th>2</th>\n",
              "      <td>buat yang berkunjung ke bandung , yang ingin m...</td>\n",
              "      <td>positive</td>\n",
              "    </tr>\n",
              "    <tr>\n",
              "      <th>3</th>\n",
              "      <td>restoran menyajikan makanan khas sunda yang en...</td>\n",
              "      <td>positive</td>\n",
              "    </tr>\n",
              "    <tr>\n",
              "      <th>4</th>\n",
              "      <td>kalau travelling ke bandung , wajib makan bata...</td>\n",
              "      <td>positive</td>\n",
              "    </tr>\n",
              "    <tr>\n",
              "      <th>...</th>\n",
              "      <td>...</td>\n",
              "      <td>...</td>\n",
              "    </tr>\n",
              "    <tr>\n",
              "      <th>9895</th>\n",
              "      <td>warung nasi ampera memiliki konsep rumah makan...</td>\n",
              "      <td>positive</td>\n",
              "    </tr>\n",
              "    <tr>\n",
              "      <th>9896</th>\n",
              "      <td>mbak della sangat baik dan ramah , makanna nya...</td>\n",
              "      <td>positive</td>\n",
              "    </tr>\n",
              "    <tr>\n",
              "      <th>9897</th>\n",
              "      <td>suasana nya sangat romantis jika makan malam d...</td>\n",
              "      <td>positive</td>\n",
              "    </tr>\n",
              "    <tr>\n",
              "      <th>9898</th>\n",
              "      <td>masyarakat tidak kecewa jika dipimpin oleh jok...</td>\n",
              "      <td>positive</td>\n",
              "    </tr>\n",
              "    <tr>\n",
              "      <th>9899</th>\n",
              "      <td>mau itu pak ridwan kamil atau pak dedi mulyadi...</td>\n",
              "      <td>positive</td>\n",
              "    </tr>\n",
              "  </tbody>\n",
              "</table>\n",
              "<p>9900 rows × 2 columns</p>\n",
              "</div>\n",
              "      <button class=\"colab-df-convert\" onclick=\"convertToInteractive('df-950f2b33-c517-43c8-8835-96f342d888a2')\"\n",
              "              title=\"Convert this dataframe to an interactive table.\"\n",
              "              style=\"display:none;\">\n",
              "        \n",
              "  <svg xmlns=\"http://www.w3.org/2000/svg\" height=\"24px\"viewBox=\"0 0 24 24\"\n",
              "       width=\"24px\">\n",
              "    <path d=\"M0 0h24v24H0V0z\" fill=\"none\"/>\n",
              "    <path d=\"M18.56 5.44l.94 2.06.94-2.06 2.06-.94-2.06-.94-.94-2.06-.94 2.06-2.06.94zm-11 1L8.5 8.5l.94-2.06 2.06-.94-2.06-.94L8.5 2.5l-.94 2.06-2.06.94zm10 10l.94 2.06.94-2.06 2.06-.94-2.06-.94-.94-2.06-.94 2.06-2.06.94z\"/><path d=\"M17.41 7.96l-1.37-1.37c-.4-.4-.92-.59-1.43-.59-.52 0-1.04.2-1.43.59L10.3 9.45l-7.72 7.72c-.78.78-.78 2.05 0 2.83L4 21.41c.39.39.9.59 1.41.59.51 0 1.02-.2 1.41-.59l7.78-7.78 2.81-2.81c.8-.78.8-2.07 0-2.86zM5.41 20L4 18.59l7.72-7.72 1.47 1.35L5.41 20z\"/>\n",
              "  </svg>\n",
              "      </button>\n",
              "      \n",
              "  <style>\n",
              "    .colab-df-container {\n",
              "      display:flex;\n",
              "      flex-wrap:wrap;\n",
              "      gap: 12px;\n",
              "    }\n",
              "\n",
              "    .colab-df-convert {\n",
              "      background-color: #E8F0FE;\n",
              "      border: none;\n",
              "      border-radius: 50%;\n",
              "      cursor: pointer;\n",
              "      display: none;\n",
              "      fill: #1967D2;\n",
              "      height: 32px;\n",
              "      padding: 0 0 0 0;\n",
              "      width: 32px;\n",
              "    }\n",
              "\n",
              "    .colab-df-convert:hover {\n",
              "      background-color: #E2EBFA;\n",
              "      box-shadow: 0px 1px 2px rgba(60, 64, 67, 0.3), 0px 1px 3px 1px rgba(60, 64, 67, 0.15);\n",
              "      fill: #174EA6;\n",
              "    }\n",
              "\n",
              "    [theme=dark] .colab-df-convert {\n",
              "      background-color: #3B4455;\n",
              "      fill: #D2E3FC;\n",
              "    }\n",
              "\n",
              "    [theme=dark] .colab-df-convert:hover {\n",
              "      background-color: #434B5C;\n",
              "      box-shadow: 0px 1px 3px 1px rgba(0, 0, 0, 0.15);\n",
              "      filter: drop-shadow(0px 1px 2px rgba(0, 0, 0, 0.3));\n",
              "      fill: #FFFFFF;\n",
              "    }\n",
              "  </style>\n",
              "\n",
              "      <script>\n",
              "        const buttonEl =\n",
              "          document.querySelector('#df-950f2b33-c517-43c8-8835-96f342d888a2 button.colab-df-convert');\n",
              "        buttonEl.style.display =\n",
              "          google.colab.kernel.accessAllowed ? 'block' : 'none';\n",
              "\n",
              "        async function convertToInteractive(key) {\n",
              "          const element = document.querySelector('#df-950f2b33-c517-43c8-8835-96f342d888a2');\n",
              "          const dataTable =\n",
              "            await google.colab.kernel.invokeFunction('convertToInteractive',\n",
              "                                                     [key], {});\n",
              "          if (!dataTable) return;\n",
              "\n",
              "          const docLinkHtml = 'Like what you see? Visit the ' +\n",
              "            '<a target=\"_blank\" href=https://colab.research.google.com/notebooks/data_table.ipynb>data table notebook</a>'\n",
              "            + ' to learn more about interactive tables.';\n",
              "          element.innerHTML = '';\n",
              "          dataTable['output_type'] = 'display_data';\n",
              "          await google.colab.output.renderOutput(dataTable, element);\n",
              "          const docLink = document.createElement('div');\n",
              "          docLink.innerHTML = docLinkHtml;\n",
              "          element.appendChild(docLink);\n",
              "        }\n",
              "      </script>\n",
              "    </div>\n",
              "  </div>\n",
              "  "
            ]
          },
          "metadata": {},
          "execution_count": 12
        }
      ],
      "source": [
        "df = pd.read_csv('train_data.csv')\n",
        "df"
      ]
    },
    {
      "cell_type": "code",
      "execution_count": null,
      "metadata": {
        "id": "4lI6lDIae7ot"
      },
      "outputs": [],
      "source": [
        "# 1. jumlah data yang pakai (11rb; train:10rb, backtest: 1rb)\n",
        "# 2. datanya darimana (twitter/kaggle)\n",
        "# 3. jumlah labelnya (2: positive/negative)\n",
        "# 4. rentang waktu pengambilan data ()"
      ]
    },
    {
      "cell_type": "code",
      "execution_count": null,
      "metadata": {
        "id": "_ausxqvUe7ou",
        "colab": {
          "base_uri": "https://localhost:8080/",
          "height": 424
        },
        "outputId": "6d7b95d9-4ca1-4df3-fa16-45bd26483279"
      },
      "outputs": [
        {
          "output_type": "execute_result",
          "data": {
            "text/plain": [
              "                                                 tweets    labels\n",
              "0     tempat yang nyaman untuk berkumpul dengan tema...  positive\n",
              "1     memang banyak bacot sih , omongan doang gede b...  negative\n",
              "2     buat yang berkunjung ke bandung , yang ingin m...  positive\n",
              "3     restoran menyajikan makanan khas sunda yang en...  positive\n",
              "4     kalau travelling ke bandung , wajib makan bata...  positive\n",
              "...                                                 ...       ...\n",
              "9895  warung nasi ampera memiliki konsep rumah makan...  positive\n",
              "9896  mbak della sangat baik dan ramah , makanna nya...  positive\n",
              "9897  suasana nya sangat romantis jika makan malam d...  positive\n",
              "9898  masyarakat tidak kecewa jika dipimpin oleh jok...  positive\n",
              "9899  mau itu pak ridwan kamil atau pak dedi mulyadi...  positive\n",
              "\n",
              "[9900 rows x 2 columns]"
            ],
            "text/html": [
              "\n",
              "  <div id=\"df-499c25ed-54ab-4a87-839f-fdfa880cd865\">\n",
              "    <div class=\"colab-df-container\">\n",
              "      <div>\n",
              "<style scoped>\n",
              "    .dataframe tbody tr th:only-of-type {\n",
              "        vertical-align: middle;\n",
              "    }\n",
              "\n",
              "    .dataframe tbody tr th {\n",
              "        vertical-align: top;\n",
              "    }\n",
              "\n",
              "    .dataframe thead th {\n",
              "        text-align: right;\n",
              "    }\n",
              "</style>\n",
              "<table border=\"1\" class=\"dataframe\">\n",
              "  <thead>\n",
              "    <tr style=\"text-align: right;\">\n",
              "      <th></th>\n",
              "      <th>tweets</th>\n",
              "      <th>labels</th>\n",
              "    </tr>\n",
              "  </thead>\n",
              "  <tbody>\n",
              "    <tr>\n",
              "      <th>0</th>\n",
              "      <td>tempat yang nyaman untuk berkumpul dengan tema...</td>\n",
              "      <td>positive</td>\n",
              "    </tr>\n",
              "    <tr>\n",
              "      <th>1</th>\n",
              "      <td>memang banyak bacot sih , omongan doang gede b...</td>\n",
              "      <td>negative</td>\n",
              "    </tr>\n",
              "    <tr>\n",
              "      <th>2</th>\n",
              "      <td>buat yang berkunjung ke bandung , yang ingin m...</td>\n",
              "      <td>positive</td>\n",
              "    </tr>\n",
              "    <tr>\n",
              "      <th>3</th>\n",
              "      <td>restoran menyajikan makanan khas sunda yang en...</td>\n",
              "      <td>positive</td>\n",
              "    </tr>\n",
              "    <tr>\n",
              "      <th>4</th>\n",
              "      <td>kalau travelling ke bandung , wajib makan bata...</td>\n",
              "      <td>positive</td>\n",
              "    </tr>\n",
              "    <tr>\n",
              "      <th>...</th>\n",
              "      <td>...</td>\n",
              "      <td>...</td>\n",
              "    </tr>\n",
              "    <tr>\n",
              "      <th>9895</th>\n",
              "      <td>warung nasi ampera memiliki konsep rumah makan...</td>\n",
              "      <td>positive</td>\n",
              "    </tr>\n",
              "    <tr>\n",
              "      <th>9896</th>\n",
              "      <td>mbak della sangat baik dan ramah , makanna nya...</td>\n",
              "      <td>positive</td>\n",
              "    </tr>\n",
              "    <tr>\n",
              "      <th>9897</th>\n",
              "      <td>suasana nya sangat romantis jika makan malam d...</td>\n",
              "      <td>positive</td>\n",
              "    </tr>\n",
              "    <tr>\n",
              "      <th>9898</th>\n",
              "      <td>masyarakat tidak kecewa jika dipimpin oleh jok...</td>\n",
              "      <td>positive</td>\n",
              "    </tr>\n",
              "    <tr>\n",
              "      <th>9899</th>\n",
              "      <td>mau itu pak ridwan kamil atau pak dedi mulyadi...</td>\n",
              "      <td>positive</td>\n",
              "    </tr>\n",
              "  </tbody>\n",
              "</table>\n",
              "<p>9900 rows × 2 columns</p>\n",
              "</div>\n",
              "      <button class=\"colab-df-convert\" onclick=\"convertToInteractive('df-499c25ed-54ab-4a87-839f-fdfa880cd865')\"\n",
              "              title=\"Convert this dataframe to an interactive table.\"\n",
              "              style=\"display:none;\">\n",
              "        \n",
              "  <svg xmlns=\"http://www.w3.org/2000/svg\" height=\"24px\"viewBox=\"0 0 24 24\"\n",
              "       width=\"24px\">\n",
              "    <path d=\"M0 0h24v24H0V0z\" fill=\"none\"/>\n",
              "    <path d=\"M18.56 5.44l.94 2.06.94-2.06 2.06-.94-2.06-.94-.94-2.06-.94 2.06-2.06.94zm-11 1L8.5 8.5l.94-2.06 2.06-.94-2.06-.94L8.5 2.5l-.94 2.06-2.06.94zm10 10l.94 2.06.94-2.06 2.06-.94-2.06-.94-.94-2.06-.94 2.06-2.06.94z\"/><path d=\"M17.41 7.96l-1.37-1.37c-.4-.4-.92-.59-1.43-.59-.52 0-1.04.2-1.43.59L10.3 9.45l-7.72 7.72c-.78.78-.78 2.05 0 2.83L4 21.41c.39.39.9.59 1.41.59.51 0 1.02-.2 1.41-.59l7.78-7.78 2.81-2.81c.8-.78.8-2.07 0-2.86zM5.41 20L4 18.59l7.72-7.72 1.47 1.35L5.41 20z\"/>\n",
              "  </svg>\n",
              "      </button>\n",
              "      \n",
              "  <style>\n",
              "    .colab-df-container {\n",
              "      display:flex;\n",
              "      flex-wrap:wrap;\n",
              "      gap: 12px;\n",
              "    }\n",
              "\n",
              "    .colab-df-convert {\n",
              "      background-color: #E8F0FE;\n",
              "      border: none;\n",
              "      border-radius: 50%;\n",
              "      cursor: pointer;\n",
              "      display: none;\n",
              "      fill: #1967D2;\n",
              "      height: 32px;\n",
              "      padding: 0 0 0 0;\n",
              "      width: 32px;\n",
              "    }\n",
              "\n",
              "    .colab-df-convert:hover {\n",
              "      background-color: #E2EBFA;\n",
              "      box-shadow: 0px 1px 2px rgba(60, 64, 67, 0.3), 0px 1px 3px 1px rgba(60, 64, 67, 0.15);\n",
              "      fill: #174EA6;\n",
              "    }\n",
              "\n",
              "    [theme=dark] .colab-df-convert {\n",
              "      background-color: #3B4455;\n",
              "      fill: #D2E3FC;\n",
              "    }\n",
              "\n",
              "    [theme=dark] .colab-df-convert:hover {\n",
              "      background-color: #434B5C;\n",
              "      box-shadow: 0px 1px 3px 1px rgba(0, 0, 0, 0.15);\n",
              "      filter: drop-shadow(0px 1px 2px rgba(0, 0, 0, 0.3));\n",
              "      fill: #FFFFFF;\n",
              "    }\n",
              "  </style>\n",
              "\n",
              "      <script>\n",
              "        const buttonEl =\n",
              "          document.querySelector('#df-499c25ed-54ab-4a87-839f-fdfa880cd865 button.colab-df-convert');\n",
              "        buttonEl.style.display =\n",
              "          google.colab.kernel.accessAllowed ? 'block' : 'none';\n",
              "\n",
              "        async function convertToInteractive(key) {\n",
              "          const element = document.querySelector('#df-499c25ed-54ab-4a87-839f-fdfa880cd865');\n",
              "          const dataTable =\n",
              "            await google.colab.kernel.invokeFunction('convertToInteractive',\n",
              "                                                     [key], {});\n",
              "          if (!dataTable) return;\n",
              "\n",
              "          const docLinkHtml = 'Like what you see? Visit the ' +\n",
              "            '<a target=\"_blank\" href=https://colab.research.google.com/notebooks/data_table.ipynb>data table notebook</a>'\n",
              "            + ' to learn more about interactive tables.';\n",
              "          element.innerHTML = '';\n",
              "          dataTable['output_type'] = 'display_data';\n",
              "          await google.colab.output.renderOutput(dataTable, element);\n",
              "          const docLink = document.createElement('div');\n",
              "          docLink.innerHTML = docLinkHtml;\n",
              "          element.appendChild(docLink);\n",
              "        }\n",
              "      </script>\n",
              "    </div>\n",
              "  </div>\n",
              "  "
            ]
          },
          "metadata": {},
          "execution_count": 14
        }
      ],
      "source": [
        "def clean_text(text):\n",
        "    text = text.replace(\",\",\"\")\n",
        "    return text\n",
        "df"
      ]
    },
    {
      "cell_type": "code",
      "execution_count": null,
      "metadata": {
        "id": "XCFnjORUe7oy",
        "colab": {
          "base_uri": "https://localhost:8080/",
          "height": 424
        },
        "outputId": "0b532383-e419-4032-eae9-31c8cbf711ee"
      },
      "outputs": [
        {
          "output_type": "execute_result",
          "data": {
            "text/plain": [
              "                                                  tweet     label  \\\n",
              "0     tempat yang nyaman untuk berkumpul dengan tema...  positive   \n",
              "1     memang banyak bacot sih , omongan doang gede b...  negative   \n",
              "2     buat yang berkunjung ke bandung , yang ingin m...  positive   \n",
              "3     restoran menyajikan makanan khas sunda yang en...  positive   \n",
              "4     kalau travelling ke bandung , wajib makan bata...  positive   \n",
              "...                                                 ...       ...   \n",
              "9895  warung nasi ampera memiliki konsep rumah makan...  positive   \n",
              "9896  mbak della sangat baik dan ramah , makanna nya...  positive   \n",
              "9897  suasana nya sangat romantis jika makan malam d...  positive   \n",
              "9898  masyarakat tidak kecewa jika dipimpin oleh jok...  positive   \n",
              "9899  mau itu pak ridwan kamil atau pak dedi mulyadi...  positive   \n",
              "\n",
              "      length_of_tweet  \n",
              "0                 207  \n",
              "1                 207  \n",
              "2                 257  \n",
              "3                 253  \n",
              "4                 251  \n",
              "...               ...  \n",
              "9895              302  \n",
              "9896              271  \n",
              "9897              286  \n",
              "9898               54  \n",
              "9899              211  \n",
              "\n",
              "[9900 rows x 3 columns]"
            ],
            "text/html": [
              "\n",
              "  <div id=\"df-73b40dcb-2e29-4bbe-aa9e-463dff45c5ed\">\n",
              "    <div class=\"colab-df-container\">\n",
              "      <div>\n",
              "<style scoped>\n",
              "    .dataframe tbody tr th:only-of-type {\n",
              "        vertical-align: middle;\n",
              "    }\n",
              "\n",
              "    .dataframe tbody tr th {\n",
              "        vertical-align: top;\n",
              "    }\n",
              "\n",
              "    .dataframe thead th {\n",
              "        text-align: right;\n",
              "    }\n",
              "</style>\n",
              "<table border=\"1\" class=\"dataframe\">\n",
              "  <thead>\n",
              "    <tr style=\"text-align: right;\">\n",
              "      <th></th>\n",
              "      <th>tweet</th>\n",
              "      <th>label</th>\n",
              "      <th>length_of_tweet</th>\n",
              "    </tr>\n",
              "  </thead>\n",
              "  <tbody>\n",
              "    <tr>\n",
              "      <th>0</th>\n",
              "      <td>tempat yang nyaman untuk berkumpul dengan tema...</td>\n",
              "      <td>positive</td>\n",
              "      <td>207</td>\n",
              "    </tr>\n",
              "    <tr>\n",
              "      <th>1</th>\n",
              "      <td>memang banyak bacot sih , omongan doang gede b...</td>\n",
              "      <td>negative</td>\n",
              "      <td>207</td>\n",
              "    </tr>\n",
              "    <tr>\n",
              "      <th>2</th>\n",
              "      <td>buat yang berkunjung ke bandung , yang ingin m...</td>\n",
              "      <td>positive</td>\n",
              "      <td>257</td>\n",
              "    </tr>\n",
              "    <tr>\n",
              "      <th>3</th>\n",
              "      <td>restoran menyajikan makanan khas sunda yang en...</td>\n",
              "      <td>positive</td>\n",
              "      <td>253</td>\n",
              "    </tr>\n",
              "    <tr>\n",
              "      <th>4</th>\n",
              "      <td>kalau travelling ke bandung , wajib makan bata...</td>\n",
              "      <td>positive</td>\n",
              "      <td>251</td>\n",
              "    </tr>\n",
              "    <tr>\n",
              "      <th>...</th>\n",
              "      <td>...</td>\n",
              "      <td>...</td>\n",
              "      <td>...</td>\n",
              "    </tr>\n",
              "    <tr>\n",
              "      <th>9895</th>\n",
              "      <td>warung nasi ampera memiliki konsep rumah makan...</td>\n",
              "      <td>positive</td>\n",
              "      <td>302</td>\n",
              "    </tr>\n",
              "    <tr>\n",
              "      <th>9896</th>\n",
              "      <td>mbak della sangat baik dan ramah , makanna nya...</td>\n",
              "      <td>positive</td>\n",
              "      <td>271</td>\n",
              "    </tr>\n",
              "    <tr>\n",
              "      <th>9897</th>\n",
              "      <td>suasana nya sangat romantis jika makan malam d...</td>\n",
              "      <td>positive</td>\n",
              "      <td>286</td>\n",
              "    </tr>\n",
              "    <tr>\n",
              "      <th>9898</th>\n",
              "      <td>masyarakat tidak kecewa jika dipimpin oleh jok...</td>\n",
              "      <td>positive</td>\n",
              "      <td>54</td>\n",
              "    </tr>\n",
              "    <tr>\n",
              "      <th>9899</th>\n",
              "      <td>mau itu pak ridwan kamil atau pak dedi mulyadi...</td>\n",
              "      <td>positive</td>\n",
              "      <td>211</td>\n",
              "    </tr>\n",
              "  </tbody>\n",
              "</table>\n",
              "<p>9900 rows × 3 columns</p>\n",
              "</div>\n",
              "      <button class=\"colab-df-convert\" onclick=\"convertToInteractive('df-73b40dcb-2e29-4bbe-aa9e-463dff45c5ed')\"\n",
              "              title=\"Convert this dataframe to an interactive table.\"\n",
              "              style=\"display:none;\">\n",
              "        \n",
              "  <svg xmlns=\"http://www.w3.org/2000/svg\" height=\"24px\"viewBox=\"0 0 24 24\"\n",
              "       width=\"24px\">\n",
              "    <path d=\"M0 0h24v24H0V0z\" fill=\"none\"/>\n",
              "    <path d=\"M18.56 5.44l.94 2.06.94-2.06 2.06-.94-2.06-.94-.94-2.06-.94 2.06-2.06.94zm-11 1L8.5 8.5l.94-2.06 2.06-.94-2.06-.94L8.5 2.5l-.94 2.06-2.06.94zm10 10l.94 2.06.94-2.06 2.06-.94-2.06-.94-.94-2.06-.94 2.06-2.06.94z\"/><path d=\"M17.41 7.96l-1.37-1.37c-.4-.4-.92-.59-1.43-.59-.52 0-1.04.2-1.43.59L10.3 9.45l-7.72 7.72c-.78.78-.78 2.05 0 2.83L4 21.41c.39.39.9.59 1.41.59.51 0 1.02-.2 1.41-.59l7.78-7.78 2.81-2.81c.8-.78.8-2.07 0-2.86zM5.41 20L4 18.59l7.72-7.72 1.47 1.35L5.41 20z\"/>\n",
              "  </svg>\n",
              "      </button>\n",
              "      \n",
              "  <style>\n",
              "    .colab-df-container {\n",
              "      display:flex;\n",
              "      flex-wrap:wrap;\n",
              "      gap: 12px;\n",
              "    }\n",
              "\n",
              "    .colab-df-convert {\n",
              "      background-color: #E8F0FE;\n",
              "      border: none;\n",
              "      border-radius: 50%;\n",
              "      cursor: pointer;\n",
              "      display: none;\n",
              "      fill: #1967D2;\n",
              "      height: 32px;\n",
              "      padding: 0 0 0 0;\n",
              "      width: 32px;\n",
              "    }\n",
              "\n",
              "    .colab-df-convert:hover {\n",
              "      background-color: #E2EBFA;\n",
              "      box-shadow: 0px 1px 2px rgba(60, 64, 67, 0.3), 0px 1px 3px 1px rgba(60, 64, 67, 0.15);\n",
              "      fill: #174EA6;\n",
              "    }\n",
              "\n",
              "    [theme=dark] .colab-df-convert {\n",
              "      background-color: #3B4455;\n",
              "      fill: #D2E3FC;\n",
              "    }\n",
              "\n",
              "    [theme=dark] .colab-df-convert:hover {\n",
              "      background-color: #434B5C;\n",
              "      box-shadow: 0px 1px 3px 1px rgba(0, 0, 0, 0.15);\n",
              "      filter: drop-shadow(0px 1px 2px rgba(0, 0, 0, 0.3));\n",
              "      fill: #FFFFFF;\n",
              "    }\n",
              "  </style>\n",
              "\n",
              "      <script>\n",
              "        const buttonEl =\n",
              "          document.querySelector('#df-73b40dcb-2e29-4bbe-aa9e-463dff45c5ed button.colab-df-convert');\n",
              "        buttonEl.style.display =\n",
              "          google.colab.kernel.accessAllowed ? 'block' : 'none';\n",
              "\n",
              "        async function convertToInteractive(key) {\n",
              "          const element = document.querySelector('#df-73b40dcb-2e29-4bbe-aa9e-463dff45c5ed');\n",
              "          const dataTable =\n",
              "            await google.colab.kernel.invokeFunction('convertToInteractive',\n",
              "                                                     [key], {});\n",
              "          if (!dataTable) return;\n",
              "\n",
              "          const docLinkHtml = 'Like what you see? Visit the ' +\n",
              "            '<a target=\"_blank\" href=https://colab.research.google.com/notebooks/data_table.ipynb>data table notebook</a>'\n",
              "            + ' to learn more about interactive tables.';\n",
              "          element.innerHTML = '';\n",
              "          dataTable['output_type'] = 'display_data';\n",
              "          await google.colab.output.renderOutput(dataTable, element);\n",
              "          const docLink = document.createElement('div');\n",
              "          docLink.innerHTML = docLinkHtml;\n",
              "          element.appendChild(docLink);\n",
              "        }\n",
              "      </script>\n",
              "    </div>\n",
              "  </div>\n",
              "  "
            ]
          },
          "metadata": {},
          "execution_count": 22
        }
      ],
      "source": [
        "df['length_of_tweet'] = df['tweet'].apply(lambda x: len(x))\n",
        "df"
      ]
    },
    {
      "cell_type": "code",
      "execution_count": null,
      "metadata": {
        "id": "zKIqYo_Ye7oy"
      },
      "outputs": [],
      "source": [
        "def normalize_column(values):\n",
        "    min_values = min(values)\n",
        "    max_values = max(values)\n",
        "    \n",
        "    new_values = []\n",
        "    for value in values:\n",
        "        new_value = (value - min_values) / (max_values - min_values)\n",
        "        new_values.append(new_value)\n",
        "    return new_values"
      ]
    },
    {
      "cell_type": "code",
      "execution_count": null,
      "metadata": {
        "id": "uLebXiqde7oy",
        "colab": {
          "base_uri": "https://localhost:8080/",
          "height": 424
        },
        "outputId": "2c64e6de-555e-4fff-ead6-ae98182d1d27"
      },
      "outputs": [
        {
          "output_type": "execute_result",
          "data": {
            "text/plain": [
              "                                                  tweet     label  \\\n",
              "0     tempat yang nyaman untuk berkumpul dengan tema...  positive   \n",
              "1     memang banyak bacot sih , omongan doang gede b...  negative   \n",
              "2     buat yang berkunjung ke bandung , yang ingin m...  positive   \n",
              "3     restoran menyajikan makanan khas sunda yang en...  positive   \n",
              "4     kalau travelling ke bandung , wajib makan bata...  positive   \n",
              "...                                                 ...       ...   \n",
              "9895  warung nasi ampera memiliki konsep rumah makan...  positive   \n",
              "9896  mbak della sangat baik dan ramah , makanna nya...  positive   \n",
              "9897  suasana nya sangat romantis jika makan malam d...  positive   \n",
              "9898  masyarakat tidak kecewa jika dipimpin oleh jok...  positive   \n",
              "9899  mau itu pak ridwan kamil atau pak dedi mulyadi...  positive   \n",
              "\n",
              "      length_of_tweet  normalized_length_of_tweet  \n",
              "0                 207                    0.361702  \n",
              "1                 207                    0.361702  \n",
              "2                 257                    0.450355  \n",
              "3                 253                    0.443262  \n",
              "4                 251                    0.439716  \n",
              "...               ...                         ...  \n",
              "9895              302                    0.530142  \n",
              "9896              271                    0.475177  \n",
              "9897              286                    0.501773  \n",
              "9898               54                    0.090426  \n",
              "9899              211                    0.368794  \n",
              "\n",
              "[9900 rows x 4 columns]"
            ],
            "text/html": [
              "\n",
              "  <div id=\"df-f467d17b-54bd-4847-82cd-1c7482939c14\">\n",
              "    <div class=\"colab-df-container\">\n",
              "      <div>\n",
              "<style scoped>\n",
              "    .dataframe tbody tr th:only-of-type {\n",
              "        vertical-align: middle;\n",
              "    }\n",
              "\n",
              "    .dataframe tbody tr th {\n",
              "        vertical-align: top;\n",
              "    }\n",
              "\n",
              "    .dataframe thead th {\n",
              "        text-align: right;\n",
              "    }\n",
              "</style>\n",
              "<table border=\"1\" class=\"dataframe\">\n",
              "  <thead>\n",
              "    <tr style=\"text-align: right;\">\n",
              "      <th></th>\n",
              "      <th>tweet</th>\n",
              "      <th>label</th>\n",
              "      <th>length_of_tweet</th>\n",
              "      <th>normalized_length_of_tweet</th>\n",
              "    </tr>\n",
              "  </thead>\n",
              "  <tbody>\n",
              "    <tr>\n",
              "      <th>0</th>\n",
              "      <td>tempat yang nyaman untuk berkumpul dengan tema...</td>\n",
              "      <td>positive</td>\n",
              "      <td>207</td>\n",
              "      <td>0.361702</td>\n",
              "    </tr>\n",
              "    <tr>\n",
              "      <th>1</th>\n",
              "      <td>memang banyak bacot sih , omongan doang gede b...</td>\n",
              "      <td>negative</td>\n",
              "      <td>207</td>\n",
              "      <td>0.361702</td>\n",
              "    </tr>\n",
              "    <tr>\n",
              "      <th>2</th>\n",
              "      <td>buat yang berkunjung ke bandung , yang ingin m...</td>\n",
              "      <td>positive</td>\n",
              "      <td>257</td>\n",
              "      <td>0.450355</td>\n",
              "    </tr>\n",
              "    <tr>\n",
              "      <th>3</th>\n",
              "      <td>restoran menyajikan makanan khas sunda yang en...</td>\n",
              "      <td>positive</td>\n",
              "      <td>253</td>\n",
              "      <td>0.443262</td>\n",
              "    </tr>\n",
              "    <tr>\n",
              "      <th>4</th>\n",
              "      <td>kalau travelling ke bandung , wajib makan bata...</td>\n",
              "      <td>positive</td>\n",
              "      <td>251</td>\n",
              "      <td>0.439716</td>\n",
              "    </tr>\n",
              "    <tr>\n",
              "      <th>...</th>\n",
              "      <td>...</td>\n",
              "      <td>...</td>\n",
              "      <td>...</td>\n",
              "      <td>...</td>\n",
              "    </tr>\n",
              "    <tr>\n",
              "      <th>9895</th>\n",
              "      <td>warung nasi ampera memiliki konsep rumah makan...</td>\n",
              "      <td>positive</td>\n",
              "      <td>302</td>\n",
              "      <td>0.530142</td>\n",
              "    </tr>\n",
              "    <tr>\n",
              "      <th>9896</th>\n",
              "      <td>mbak della sangat baik dan ramah , makanna nya...</td>\n",
              "      <td>positive</td>\n",
              "      <td>271</td>\n",
              "      <td>0.475177</td>\n",
              "    </tr>\n",
              "    <tr>\n",
              "      <th>9897</th>\n",
              "      <td>suasana nya sangat romantis jika makan malam d...</td>\n",
              "      <td>positive</td>\n",
              "      <td>286</td>\n",
              "      <td>0.501773</td>\n",
              "    </tr>\n",
              "    <tr>\n",
              "      <th>9898</th>\n",
              "      <td>masyarakat tidak kecewa jika dipimpin oleh jok...</td>\n",
              "      <td>positive</td>\n",
              "      <td>54</td>\n",
              "      <td>0.090426</td>\n",
              "    </tr>\n",
              "    <tr>\n",
              "      <th>9899</th>\n",
              "      <td>mau itu pak ridwan kamil atau pak dedi mulyadi...</td>\n",
              "      <td>positive</td>\n",
              "      <td>211</td>\n",
              "      <td>0.368794</td>\n",
              "    </tr>\n",
              "  </tbody>\n",
              "</table>\n",
              "<p>9900 rows × 4 columns</p>\n",
              "</div>\n",
              "      <button class=\"colab-df-convert\" onclick=\"convertToInteractive('df-f467d17b-54bd-4847-82cd-1c7482939c14')\"\n",
              "              title=\"Convert this dataframe to an interactive table.\"\n",
              "              style=\"display:none;\">\n",
              "        \n",
              "  <svg xmlns=\"http://www.w3.org/2000/svg\" height=\"24px\"viewBox=\"0 0 24 24\"\n",
              "       width=\"24px\">\n",
              "    <path d=\"M0 0h24v24H0V0z\" fill=\"none\"/>\n",
              "    <path d=\"M18.56 5.44l.94 2.06.94-2.06 2.06-.94-2.06-.94-.94-2.06-.94 2.06-2.06.94zm-11 1L8.5 8.5l.94-2.06 2.06-.94-2.06-.94L8.5 2.5l-.94 2.06-2.06.94zm10 10l.94 2.06.94-2.06 2.06-.94-2.06-.94-.94-2.06-.94 2.06-2.06.94z\"/><path d=\"M17.41 7.96l-1.37-1.37c-.4-.4-.92-.59-1.43-.59-.52 0-1.04.2-1.43.59L10.3 9.45l-7.72 7.72c-.78.78-.78 2.05 0 2.83L4 21.41c.39.39.9.59 1.41.59.51 0 1.02-.2 1.41-.59l7.78-7.78 2.81-2.81c.8-.78.8-2.07 0-2.86zM5.41 20L4 18.59l7.72-7.72 1.47 1.35L5.41 20z\"/>\n",
              "  </svg>\n",
              "      </button>\n",
              "      \n",
              "  <style>\n",
              "    .colab-df-container {\n",
              "      display:flex;\n",
              "      flex-wrap:wrap;\n",
              "      gap: 12px;\n",
              "    }\n",
              "\n",
              "    .colab-df-convert {\n",
              "      background-color: #E8F0FE;\n",
              "      border: none;\n",
              "      border-radius: 50%;\n",
              "      cursor: pointer;\n",
              "      display: none;\n",
              "      fill: #1967D2;\n",
              "      height: 32px;\n",
              "      padding: 0 0 0 0;\n",
              "      width: 32px;\n",
              "    }\n",
              "\n",
              "    .colab-df-convert:hover {\n",
              "      background-color: #E2EBFA;\n",
              "      box-shadow: 0px 1px 2px rgba(60, 64, 67, 0.3), 0px 1px 3px 1px rgba(60, 64, 67, 0.15);\n",
              "      fill: #174EA6;\n",
              "    }\n",
              "\n",
              "    [theme=dark] .colab-df-convert {\n",
              "      background-color: #3B4455;\n",
              "      fill: #D2E3FC;\n",
              "    }\n",
              "\n",
              "    [theme=dark] .colab-df-convert:hover {\n",
              "      background-color: #434B5C;\n",
              "      box-shadow: 0px 1px 3px 1px rgba(0, 0, 0, 0.15);\n",
              "      filter: drop-shadow(0px 1px 2px rgba(0, 0, 0, 0.3));\n",
              "      fill: #FFFFFF;\n",
              "    }\n",
              "  </style>\n",
              "\n",
              "      <script>\n",
              "        const buttonEl =\n",
              "          document.querySelector('#df-f467d17b-54bd-4847-82cd-1c7482939c14 button.colab-df-convert');\n",
              "        buttonEl.style.display =\n",
              "          google.colab.kernel.accessAllowed ? 'block' : 'none';\n",
              "\n",
              "        async function convertToInteractive(key) {\n",
              "          const element = document.querySelector('#df-f467d17b-54bd-4847-82cd-1c7482939c14');\n",
              "          const dataTable =\n",
              "            await google.colab.kernel.invokeFunction('convertToInteractive',\n",
              "                                                     [key], {});\n",
              "          if (!dataTable) return;\n",
              "\n",
              "          const docLinkHtml = 'Like what you see? Visit the ' +\n",
              "            '<a target=\"_blank\" href=https://colab.research.google.com/notebooks/data_table.ipynb>data table notebook</a>'\n",
              "            + ' to learn more about interactive tables.';\n",
              "          element.innerHTML = '';\n",
              "          dataTable['output_type'] = 'display_data';\n",
              "          await google.colab.output.renderOutput(dataTable, element);\n",
              "          const docLink = document.createElement('div');\n",
              "          docLink.innerHTML = docLinkHtml;\n",
              "          element.appendChild(docLink);\n",
              "        }\n",
              "      </script>\n",
              "    </div>\n",
              "  </div>\n",
              "  "
            ]
          },
          "metadata": {},
          "execution_count": 25
        }
      ],
      "source": [
        "df['normalized_length_of_tweet'] = normalize_column(df['length_of_tweet'])\n",
        "df"
      ]
    },
    {
      "cell_type": "code",
      "execution_count": null,
      "metadata": {
        "id": "qQyp4-XYe7oy",
        "outputId": "b8564c38-a2e7-4e26-f2e7-5f3cf2f95730",
        "colab": {
          "base_uri": "https://localhost:8080/"
        }
      },
      "outputs": [
        {
          "output_type": "execute_result",
          "data": {
            "text/plain": [
              "0       0.361702\n",
              "1       0.361702\n",
              "2       0.450355\n",
              "3       0.443262\n",
              "4       0.439716\n",
              "          ...   \n",
              "9895    0.530142\n",
              "9896    0.475177\n",
              "9897    0.501773\n",
              "9898    0.090426\n",
              "9899    0.368794\n",
              "Name: normalized_length_of_tweet, Length: 9900, dtype: float64"
            ]
          },
          "metadata": {},
          "execution_count": 26
        }
      ],
      "source": [
        "df['normalized_length_of_tweet']"
      ]
    },
    {
      "cell_type": "markdown",
      "metadata": {
        "id": "VN-07hpZ9aLz"
      },
      "source": [
        "Terlebih dahulu kita mengecek data yang akan kita proses sebelum dilakukan analisis"
      ]
    },
    {
      "cell_type": "markdown",
      "metadata": {
        "id": "IbyO44wXseL3"
      },
      "source": [
        "## Cek data 5 teratas dan terbawah"
      ]
    },
    {
      "cell_type": "code",
      "execution_count": null,
      "metadata": {
        "colab": {
          "base_uri": "https://localhost:8080/",
          "height": 206
        },
        "id": "gZoZYws7TfC3",
        "outputId": "fca65212-19dd-48e2-fa54-e019fd7c9bb5"
      },
      "outputs": [
        {
          "output_type": "execute_result",
          "data": {
            "text/plain": [
              "                                               tweet     label  \\\n",
              "0  tempat yang nyaman untuk berkumpul dengan tema...  positive   \n",
              "1  memang banyak bacot sih , omongan doang gede b...  negative   \n",
              "2  buat yang berkunjung ke bandung , yang ingin m...  positive   \n",
              "3  restoran menyajikan makanan khas sunda yang en...  positive   \n",
              "4  kalau travelling ke bandung , wajib makan bata...  positive   \n",
              "\n",
              "   length_of_tweet  normalized_length_of_tweet  \n",
              "0              207                    0.361702  \n",
              "1              207                    0.361702  \n",
              "2              257                    0.450355  \n",
              "3              253                    0.443262  \n",
              "4              251                    0.439716  "
            ],
            "text/html": [
              "\n",
              "  <div id=\"df-7db3c130-1386-466a-9629-d3626467ced9\">\n",
              "    <div class=\"colab-df-container\">\n",
              "      <div>\n",
              "<style scoped>\n",
              "    .dataframe tbody tr th:only-of-type {\n",
              "        vertical-align: middle;\n",
              "    }\n",
              "\n",
              "    .dataframe tbody tr th {\n",
              "        vertical-align: top;\n",
              "    }\n",
              "\n",
              "    .dataframe thead th {\n",
              "        text-align: right;\n",
              "    }\n",
              "</style>\n",
              "<table border=\"1\" class=\"dataframe\">\n",
              "  <thead>\n",
              "    <tr style=\"text-align: right;\">\n",
              "      <th></th>\n",
              "      <th>tweet</th>\n",
              "      <th>label</th>\n",
              "      <th>length_of_tweet</th>\n",
              "      <th>normalized_length_of_tweet</th>\n",
              "    </tr>\n",
              "  </thead>\n",
              "  <tbody>\n",
              "    <tr>\n",
              "      <th>0</th>\n",
              "      <td>tempat yang nyaman untuk berkumpul dengan tema...</td>\n",
              "      <td>positive</td>\n",
              "      <td>207</td>\n",
              "      <td>0.361702</td>\n",
              "    </tr>\n",
              "    <tr>\n",
              "      <th>1</th>\n",
              "      <td>memang banyak bacot sih , omongan doang gede b...</td>\n",
              "      <td>negative</td>\n",
              "      <td>207</td>\n",
              "      <td>0.361702</td>\n",
              "    </tr>\n",
              "    <tr>\n",
              "      <th>2</th>\n",
              "      <td>buat yang berkunjung ke bandung , yang ingin m...</td>\n",
              "      <td>positive</td>\n",
              "      <td>257</td>\n",
              "      <td>0.450355</td>\n",
              "    </tr>\n",
              "    <tr>\n",
              "      <th>3</th>\n",
              "      <td>restoran menyajikan makanan khas sunda yang en...</td>\n",
              "      <td>positive</td>\n",
              "      <td>253</td>\n",
              "      <td>0.443262</td>\n",
              "    </tr>\n",
              "    <tr>\n",
              "      <th>4</th>\n",
              "      <td>kalau travelling ke bandung , wajib makan bata...</td>\n",
              "      <td>positive</td>\n",
              "      <td>251</td>\n",
              "      <td>0.439716</td>\n",
              "    </tr>\n",
              "  </tbody>\n",
              "</table>\n",
              "</div>\n",
              "      <button class=\"colab-df-convert\" onclick=\"convertToInteractive('df-7db3c130-1386-466a-9629-d3626467ced9')\"\n",
              "              title=\"Convert this dataframe to an interactive table.\"\n",
              "              style=\"display:none;\">\n",
              "        \n",
              "  <svg xmlns=\"http://www.w3.org/2000/svg\" height=\"24px\"viewBox=\"0 0 24 24\"\n",
              "       width=\"24px\">\n",
              "    <path d=\"M0 0h24v24H0V0z\" fill=\"none\"/>\n",
              "    <path d=\"M18.56 5.44l.94 2.06.94-2.06 2.06-.94-2.06-.94-.94-2.06-.94 2.06-2.06.94zm-11 1L8.5 8.5l.94-2.06 2.06-.94-2.06-.94L8.5 2.5l-.94 2.06-2.06.94zm10 10l.94 2.06.94-2.06 2.06-.94-2.06-.94-.94-2.06-.94 2.06-2.06.94z\"/><path d=\"M17.41 7.96l-1.37-1.37c-.4-.4-.92-.59-1.43-.59-.52 0-1.04.2-1.43.59L10.3 9.45l-7.72 7.72c-.78.78-.78 2.05 0 2.83L4 21.41c.39.39.9.59 1.41.59.51 0 1.02-.2 1.41-.59l7.78-7.78 2.81-2.81c.8-.78.8-2.07 0-2.86zM5.41 20L4 18.59l7.72-7.72 1.47 1.35L5.41 20z\"/>\n",
              "  </svg>\n",
              "      </button>\n",
              "      \n",
              "  <style>\n",
              "    .colab-df-container {\n",
              "      display:flex;\n",
              "      flex-wrap:wrap;\n",
              "      gap: 12px;\n",
              "    }\n",
              "\n",
              "    .colab-df-convert {\n",
              "      background-color: #E8F0FE;\n",
              "      border: none;\n",
              "      border-radius: 50%;\n",
              "      cursor: pointer;\n",
              "      display: none;\n",
              "      fill: #1967D2;\n",
              "      height: 32px;\n",
              "      padding: 0 0 0 0;\n",
              "      width: 32px;\n",
              "    }\n",
              "\n",
              "    .colab-df-convert:hover {\n",
              "      background-color: #E2EBFA;\n",
              "      box-shadow: 0px 1px 2px rgba(60, 64, 67, 0.3), 0px 1px 3px 1px rgba(60, 64, 67, 0.15);\n",
              "      fill: #174EA6;\n",
              "    }\n",
              "\n",
              "    [theme=dark] .colab-df-convert {\n",
              "      background-color: #3B4455;\n",
              "      fill: #D2E3FC;\n",
              "    }\n",
              "\n",
              "    [theme=dark] .colab-df-convert:hover {\n",
              "      background-color: #434B5C;\n",
              "      box-shadow: 0px 1px 3px 1px rgba(0, 0, 0, 0.15);\n",
              "      filter: drop-shadow(0px 1px 2px rgba(0, 0, 0, 0.3));\n",
              "      fill: #FFFFFF;\n",
              "    }\n",
              "  </style>\n",
              "\n",
              "      <script>\n",
              "        const buttonEl =\n",
              "          document.querySelector('#df-7db3c130-1386-466a-9629-d3626467ced9 button.colab-df-convert');\n",
              "        buttonEl.style.display =\n",
              "          google.colab.kernel.accessAllowed ? 'block' : 'none';\n",
              "\n",
              "        async function convertToInteractive(key) {\n",
              "          const element = document.querySelector('#df-7db3c130-1386-466a-9629-d3626467ced9');\n",
              "          const dataTable =\n",
              "            await google.colab.kernel.invokeFunction('convertToInteractive',\n",
              "                                                     [key], {});\n",
              "          if (!dataTable) return;\n",
              "\n",
              "          const docLinkHtml = 'Like what you see? Visit the ' +\n",
              "            '<a target=\"_blank\" href=https://colab.research.google.com/notebooks/data_table.ipynb>data table notebook</a>'\n",
              "            + ' to learn more about interactive tables.';\n",
              "          element.innerHTML = '';\n",
              "          dataTable['output_type'] = 'display_data';\n",
              "          await google.colab.output.renderOutput(dataTable, element);\n",
              "          const docLink = document.createElement('div');\n",
              "          docLink.innerHTML = docLinkHtml;\n",
              "          element.appendChild(docLink);\n",
              "        }\n",
              "      </script>\n",
              "    </div>\n",
              "  </div>\n",
              "  "
            ]
          },
          "metadata": {},
          "execution_count": 27
        }
      ],
      "source": [
        "# 5 teratas\n",
        "df.head()"
      ]
    },
    {
      "cell_type": "code",
      "execution_count": null,
      "metadata": {
        "colab": {
          "base_uri": "https://localhost:8080/",
          "height": 206
        },
        "id": "ReP473vXXhXm",
        "outputId": "75f236be-d488-4bda-f009-970be0a45b86"
      },
      "outputs": [
        {
          "output_type": "execute_result",
          "data": {
            "text/plain": [
              "                                                  tweet     label  \\\n",
              "9895  warung nasi ampera memiliki konsep rumah makan...  positive   \n",
              "9896  mbak della sangat baik dan ramah , makanna nya...  positive   \n",
              "9897  suasana nya sangat romantis jika makan malam d...  positive   \n",
              "9898  masyarakat tidak kecewa jika dipimpin oleh jok...  positive   \n",
              "9899  mau itu pak ridwan kamil atau pak dedi mulyadi...  positive   \n",
              "\n",
              "      length_of_tweet  normalized_length_of_tweet  \n",
              "9895              302                    0.530142  \n",
              "9896              271                    0.475177  \n",
              "9897              286                    0.501773  \n",
              "9898               54                    0.090426  \n",
              "9899              211                    0.368794  "
            ],
            "text/html": [
              "\n",
              "  <div id=\"df-55c41cbf-278d-4cf6-8abd-c4342e316ddc\">\n",
              "    <div class=\"colab-df-container\">\n",
              "      <div>\n",
              "<style scoped>\n",
              "    .dataframe tbody tr th:only-of-type {\n",
              "        vertical-align: middle;\n",
              "    }\n",
              "\n",
              "    .dataframe tbody tr th {\n",
              "        vertical-align: top;\n",
              "    }\n",
              "\n",
              "    .dataframe thead th {\n",
              "        text-align: right;\n",
              "    }\n",
              "</style>\n",
              "<table border=\"1\" class=\"dataframe\">\n",
              "  <thead>\n",
              "    <tr style=\"text-align: right;\">\n",
              "      <th></th>\n",
              "      <th>tweet</th>\n",
              "      <th>label</th>\n",
              "      <th>length_of_tweet</th>\n",
              "      <th>normalized_length_of_tweet</th>\n",
              "    </tr>\n",
              "  </thead>\n",
              "  <tbody>\n",
              "    <tr>\n",
              "      <th>9895</th>\n",
              "      <td>warung nasi ampera memiliki konsep rumah makan...</td>\n",
              "      <td>positive</td>\n",
              "      <td>302</td>\n",
              "      <td>0.530142</td>\n",
              "    </tr>\n",
              "    <tr>\n",
              "      <th>9896</th>\n",
              "      <td>mbak della sangat baik dan ramah , makanna nya...</td>\n",
              "      <td>positive</td>\n",
              "      <td>271</td>\n",
              "      <td>0.475177</td>\n",
              "    </tr>\n",
              "    <tr>\n",
              "      <th>9897</th>\n",
              "      <td>suasana nya sangat romantis jika makan malam d...</td>\n",
              "      <td>positive</td>\n",
              "      <td>286</td>\n",
              "      <td>0.501773</td>\n",
              "    </tr>\n",
              "    <tr>\n",
              "      <th>9898</th>\n",
              "      <td>masyarakat tidak kecewa jika dipimpin oleh jok...</td>\n",
              "      <td>positive</td>\n",
              "      <td>54</td>\n",
              "      <td>0.090426</td>\n",
              "    </tr>\n",
              "    <tr>\n",
              "      <th>9899</th>\n",
              "      <td>mau itu pak ridwan kamil atau pak dedi mulyadi...</td>\n",
              "      <td>positive</td>\n",
              "      <td>211</td>\n",
              "      <td>0.368794</td>\n",
              "    </tr>\n",
              "  </tbody>\n",
              "</table>\n",
              "</div>\n",
              "      <button class=\"colab-df-convert\" onclick=\"convertToInteractive('df-55c41cbf-278d-4cf6-8abd-c4342e316ddc')\"\n",
              "              title=\"Convert this dataframe to an interactive table.\"\n",
              "              style=\"display:none;\">\n",
              "        \n",
              "  <svg xmlns=\"http://www.w3.org/2000/svg\" height=\"24px\"viewBox=\"0 0 24 24\"\n",
              "       width=\"24px\">\n",
              "    <path d=\"M0 0h24v24H0V0z\" fill=\"none\"/>\n",
              "    <path d=\"M18.56 5.44l.94 2.06.94-2.06 2.06-.94-2.06-.94-.94-2.06-.94 2.06-2.06.94zm-11 1L8.5 8.5l.94-2.06 2.06-.94-2.06-.94L8.5 2.5l-.94 2.06-2.06.94zm10 10l.94 2.06.94-2.06 2.06-.94-2.06-.94-.94-2.06-.94 2.06-2.06.94z\"/><path d=\"M17.41 7.96l-1.37-1.37c-.4-.4-.92-.59-1.43-.59-.52 0-1.04.2-1.43.59L10.3 9.45l-7.72 7.72c-.78.78-.78 2.05 0 2.83L4 21.41c.39.39.9.59 1.41.59.51 0 1.02-.2 1.41-.59l7.78-7.78 2.81-2.81c.8-.78.8-2.07 0-2.86zM5.41 20L4 18.59l7.72-7.72 1.47 1.35L5.41 20z\"/>\n",
              "  </svg>\n",
              "      </button>\n",
              "      \n",
              "  <style>\n",
              "    .colab-df-container {\n",
              "      display:flex;\n",
              "      flex-wrap:wrap;\n",
              "      gap: 12px;\n",
              "    }\n",
              "\n",
              "    .colab-df-convert {\n",
              "      background-color: #E8F0FE;\n",
              "      border: none;\n",
              "      border-radius: 50%;\n",
              "      cursor: pointer;\n",
              "      display: none;\n",
              "      fill: #1967D2;\n",
              "      height: 32px;\n",
              "      padding: 0 0 0 0;\n",
              "      width: 32px;\n",
              "    }\n",
              "\n",
              "    .colab-df-convert:hover {\n",
              "      background-color: #E2EBFA;\n",
              "      box-shadow: 0px 1px 2px rgba(60, 64, 67, 0.3), 0px 1px 3px 1px rgba(60, 64, 67, 0.15);\n",
              "      fill: #174EA6;\n",
              "    }\n",
              "\n",
              "    [theme=dark] .colab-df-convert {\n",
              "      background-color: #3B4455;\n",
              "      fill: #D2E3FC;\n",
              "    }\n",
              "\n",
              "    [theme=dark] .colab-df-convert:hover {\n",
              "      background-color: #434B5C;\n",
              "      box-shadow: 0px 1px 3px 1px rgba(0, 0, 0, 0.15);\n",
              "      filter: drop-shadow(0px 1px 2px rgba(0, 0, 0, 0.3));\n",
              "      fill: #FFFFFF;\n",
              "    }\n",
              "  </style>\n",
              "\n",
              "      <script>\n",
              "        const buttonEl =\n",
              "          document.querySelector('#df-55c41cbf-278d-4cf6-8abd-c4342e316ddc button.colab-df-convert');\n",
              "        buttonEl.style.display =\n",
              "          google.colab.kernel.accessAllowed ? 'block' : 'none';\n",
              "\n",
              "        async function convertToInteractive(key) {\n",
              "          const element = document.querySelector('#df-55c41cbf-278d-4cf6-8abd-c4342e316ddc');\n",
              "          const dataTable =\n",
              "            await google.colab.kernel.invokeFunction('convertToInteractive',\n",
              "                                                     [key], {});\n",
              "          if (!dataTable) return;\n",
              "\n",
              "          const docLinkHtml = 'Like what you see? Visit the ' +\n",
              "            '<a target=\"_blank\" href=https://colab.research.google.com/notebooks/data_table.ipynb>data table notebook</a>'\n",
              "            + ' to learn more about interactive tables.';\n",
              "          element.innerHTML = '';\n",
              "          dataTable['output_type'] = 'display_data';\n",
              "          await google.colab.output.renderOutput(dataTable, element);\n",
              "          const docLink = document.createElement('div');\n",
              "          docLink.innerHTML = docLinkHtml;\n",
              "          element.appendChild(docLink);\n",
              "        }\n",
              "      </script>\n",
              "    </div>\n",
              "  </div>\n",
              "  "
            ]
          },
          "metadata": {},
          "execution_count": 28
        }
      ],
      "source": [
        "# 5 teratas\n",
        "df.tail()"
      ]
    },
    {
      "cell_type": "markdown",
      "metadata": {
        "id": "5_7KYFsaso4c"
      },
      "source": [
        "## Cek jumlah kolom dan total data"
      ]
    },
    {
      "cell_type": "markdown",
      "metadata": {
        "id": "hSe6sc_OswF7"
      },
      "source": [
        "Data yang diolah memiliki 2 kolom dan total data 11000"
      ]
    },
    {
      "cell_type": "code",
      "execution_count": null,
      "metadata": {
        "colab": {
          "base_uri": "https://localhost:8080/"
        },
        "id": "eyMu6IsPXmCc",
        "outputId": "42502c80-72b5-4075-ba61-1c54cdbab587"
      },
      "outputs": [
        {
          "output_type": "execute_result",
          "data": {
            "text/plain": [
              "(9900, 4)"
            ]
          },
          "metadata": {},
          "execution_count": 29
        }
      ],
      "source": [
        "df.shape"
      ]
    },
    {
      "cell_type": "markdown",
      "metadata": {
        "id": "5KllKx_ns77j"
      },
      "source": [
        "## Cek total duplikat data"
      ]
    },
    {
      "cell_type": "markdown",
      "metadata": {
        "id": "W4A_lsqLtfng"
      },
      "source": [
        "Total data yang duplikat sejumlah 67"
      ]
    },
    {
      "cell_type": "code",
      "execution_count": null,
      "metadata": {
        "colab": {
          "base_uri": "https://localhost:8080/",
          "height": 424
        },
        "id": "kre0JzLsX-Df",
        "outputId": "9a8e236a-8a65-4cfc-aacc-c6c7e5737ea3"
      },
      "outputs": [
        {
          "output_type": "execute_result",
          "data": {
            "text/plain": [
              "                                                  tweet     label  \\\n",
              "3747  aman gemstone menyediakan berbagai cincin / pe...   neutral   \n",
              "8907  aman gemstone menyediakan berbagai cincin / pe...   neutral   \n",
              "5060                                          apresiasi  positive   \n",
              "9724                                          apresiasi  positive   \n",
              "2864  banyak masyarakat yang tidak kecewa dengan kep...  positive   \n",
              "...                                                 ...       ...   \n",
              "8240                                     tidak menyesal  positive   \n",
              "3440                                       tidak senang  negative   \n",
              "9723                                       tidak senang  negative   \n",
              "3131  wow iya kok hitam mental mahal amat ya kenapa ...  negative   \n",
              "4874  wow iya kok hitam mental mahal amat ya kenapa ...  negative   \n",
              "\n",
              "      length_of_tweet  normalized_length_of_tweet  \n",
              "3747               97                    0.166667  \n",
              "8907               97                    0.166667  \n",
              "5060                9                    0.010638  \n",
              "9724                9                    0.010638  \n",
              "2864               62                    0.104610  \n",
              "...               ...                         ...  \n",
              "8240               14                    0.019504  \n",
              "3440               12                    0.015957  \n",
              "9723               12                    0.015957  \n",
              "3131              112                    0.193262  \n",
              "4874              112                    0.193262  \n",
              "\n",
              "[113 rows x 4 columns]"
            ],
            "text/html": [
              "\n",
              "  <div id=\"df-0cfc133b-43be-4f8b-9d3f-a13e6b1d89cc\">\n",
              "    <div class=\"colab-df-container\">\n",
              "      <div>\n",
              "<style scoped>\n",
              "    .dataframe tbody tr th:only-of-type {\n",
              "        vertical-align: middle;\n",
              "    }\n",
              "\n",
              "    .dataframe tbody tr th {\n",
              "        vertical-align: top;\n",
              "    }\n",
              "\n",
              "    .dataframe thead th {\n",
              "        text-align: right;\n",
              "    }\n",
              "</style>\n",
              "<table border=\"1\" class=\"dataframe\">\n",
              "  <thead>\n",
              "    <tr style=\"text-align: right;\">\n",
              "      <th></th>\n",
              "      <th>tweet</th>\n",
              "      <th>label</th>\n",
              "      <th>length_of_tweet</th>\n",
              "      <th>normalized_length_of_tweet</th>\n",
              "    </tr>\n",
              "  </thead>\n",
              "  <tbody>\n",
              "    <tr>\n",
              "      <th>3747</th>\n",
              "      <td>aman gemstone menyediakan berbagai cincin / pe...</td>\n",
              "      <td>neutral</td>\n",
              "      <td>97</td>\n",
              "      <td>0.166667</td>\n",
              "    </tr>\n",
              "    <tr>\n",
              "      <th>8907</th>\n",
              "      <td>aman gemstone menyediakan berbagai cincin / pe...</td>\n",
              "      <td>neutral</td>\n",
              "      <td>97</td>\n",
              "      <td>0.166667</td>\n",
              "    </tr>\n",
              "    <tr>\n",
              "      <th>5060</th>\n",
              "      <td>apresiasi</td>\n",
              "      <td>positive</td>\n",
              "      <td>9</td>\n",
              "      <td>0.010638</td>\n",
              "    </tr>\n",
              "    <tr>\n",
              "      <th>9724</th>\n",
              "      <td>apresiasi</td>\n",
              "      <td>positive</td>\n",
              "      <td>9</td>\n",
              "      <td>0.010638</td>\n",
              "    </tr>\n",
              "    <tr>\n",
              "      <th>2864</th>\n",
              "      <td>banyak masyarakat yang tidak kecewa dengan kep...</td>\n",
              "      <td>positive</td>\n",
              "      <td>62</td>\n",
              "      <td>0.104610</td>\n",
              "    </tr>\n",
              "    <tr>\n",
              "      <th>...</th>\n",
              "      <td>...</td>\n",
              "      <td>...</td>\n",
              "      <td>...</td>\n",
              "      <td>...</td>\n",
              "    </tr>\n",
              "    <tr>\n",
              "      <th>8240</th>\n",
              "      <td>tidak menyesal</td>\n",
              "      <td>positive</td>\n",
              "      <td>14</td>\n",
              "      <td>0.019504</td>\n",
              "    </tr>\n",
              "    <tr>\n",
              "      <th>3440</th>\n",
              "      <td>tidak senang</td>\n",
              "      <td>negative</td>\n",
              "      <td>12</td>\n",
              "      <td>0.015957</td>\n",
              "    </tr>\n",
              "    <tr>\n",
              "      <th>9723</th>\n",
              "      <td>tidak senang</td>\n",
              "      <td>negative</td>\n",
              "      <td>12</td>\n",
              "      <td>0.015957</td>\n",
              "    </tr>\n",
              "    <tr>\n",
              "      <th>3131</th>\n",
              "      <td>wow iya kok hitam mental mahal amat ya kenapa ...</td>\n",
              "      <td>negative</td>\n",
              "      <td>112</td>\n",
              "      <td>0.193262</td>\n",
              "    </tr>\n",
              "    <tr>\n",
              "      <th>4874</th>\n",
              "      <td>wow iya kok hitam mental mahal amat ya kenapa ...</td>\n",
              "      <td>negative</td>\n",
              "      <td>112</td>\n",
              "      <td>0.193262</td>\n",
              "    </tr>\n",
              "  </tbody>\n",
              "</table>\n",
              "<p>113 rows × 4 columns</p>\n",
              "</div>\n",
              "      <button class=\"colab-df-convert\" onclick=\"convertToInteractive('df-0cfc133b-43be-4f8b-9d3f-a13e6b1d89cc')\"\n",
              "              title=\"Convert this dataframe to an interactive table.\"\n",
              "              style=\"display:none;\">\n",
              "        \n",
              "  <svg xmlns=\"http://www.w3.org/2000/svg\" height=\"24px\"viewBox=\"0 0 24 24\"\n",
              "       width=\"24px\">\n",
              "    <path d=\"M0 0h24v24H0V0z\" fill=\"none\"/>\n",
              "    <path d=\"M18.56 5.44l.94 2.06.94-2.06 2.06-.94-2.06-.94-.94-2.06-.94 2.06-2.06.94zm-11 1L8.5 8.5l.94-2.06 2.06-.94-2.06-.94L8.5 2.5l-.94 2.06-2.06.94zm10 10l.94 2.06.94-2.06 2.06-.94-2.06-.94-.94-2.06-.94 2.06-2.06.94z\"/><path d=\"M17.41 7.96l-1.37-1.37c-.4-.4-.92-.59-1.43-.59-.52 0-1.04.2-1.43.59L10.3 9.45l-7.72 7.72c-.78.78-.78 2.05 0 2.83L4 21.41c.39.39.9.59 1.41.59.51 0 1.02-.2 1.41-.59l7.78-7.78 2.81-2.81c.8-.78.8-2.07 0-2.86zM5.41 20L4 18.59l7.72-7.72 1.47 1.35L5.41 20z\"/>\n",
              "  </svg>\n",
              "      </button>\n",
              "      \n",
              "  <style>\n",
              "    .colab-df-container {\n",
              "      display:flex;\n",
              "      flex-wrap:wrap;\n",
              "      gap: 12px;\n",
              "    }\n",
              "\n",
              "    .colab-df-convert {\n",
              "      background-color: #E8F0FE;\n",
              "      border: none;\n",
              "      border-radius: 50%;\n",
              "      cursor: pointer;\n",
              "      display: none;\n",
              "      fill: #1967D2;\n",
              "      height: 32px;\n",
              "      padding: 0 0 0 0;\n",
              "      width: 32px;\n",
              "    }\n",
              "\n",
              "    .colab-df-convert:hover {\n",
              "      background-color: #E2EBFA;\n",
              "      box-shadow: 0px 1px 2px rgba(60, 64, 67, 0.3), 0px 1px 3px 1px rgba(60, 64, 67, 0.15);\n",
              "      fill: #174EA6;\n",
              "    }\n",
              "\n",
              "    [theme=dark] .colab-df-convert {\n",
              "      background-color: #3B4455;\n",
              "      fill: #D2E3FC;\n",
              "    }\n",
              "\n",
              "    [theme=dark] .colab-df-convert:hover {\n",
              "      background-color: #434B5C;\n",
              "      box-shadow: 0px 1px 3px 1px rgba(0, 0, 0, 0.15);\n",
              "      filter: drop-shadow(0px 1px 2px rgba(0, 0, 0, 0.3));\n",
              "      fill: #FFFFFF;\n",
              "    }\n",
              "  </style>\n",
              "\n",
              "      <script>\n",
              "        const buttonEl =\n",
              "          document.querySelector('#df-0cfc133b-43be-4f8b-9d3f-a13e6b1d89cc button.colab-df-convert');\n",
              "        buttonEl.style.display =\n",
              "          google.colab.kernel.accessAllowed ? 'block' : 'none';\n",
              "\n",
              "        async function convertToInteractive(key) {\n",
              "          const element = document.querySelector('#df-0cfc133b-43be-4f8b-9d3f-a13e6b1d89cc');\n",
              "          const dataTable =\n",
              "            await google.colab.kernel.invokeFunction('convertToInteractive',\n",
              "                                                     [key], {});\n",
              "          if (!dataTable) return;\n",
              "\n",
              "          const docLinkHtml = 'Like what you see? Visit the ' +\n",
              "            '<a target=\"_blank\" href=https://colab.research.google.com/notebooks/data_table.ipynb>data table notebook</a>'\n",
              "            + ' to learn more about interactive tables.';\n",
              "          element.innerHTML = '';\n",
              "          dataTable['output_type'] = 'display_data';\n",
              "          await google.colab.output.renderOutput(dataTable, element);\n",
              "          const docLink = document.createElement('div');\n",
              "          docLink.innerHTML = docLinkHtml;\n",
              "          element.appendChild(docLink);\n",
              "        }\n",
              "      </script>\n",
              "    </div>\n",
              "  </div>\n",
              "  "
            ]
          },
          "metadata": {},
          "execution_count": 30
        }
      ],
      "source": [
        "df.loc[df.duplicated(keep=False)].sort_values('tweet')"
      ]
    },
    {
      "cell_type": "markdown",
      "metadata": {
        "id": "7BHudrPLtn6H"
      },
      "source": [
        "Menghilangkan data yang duplikat"
      ]
    },
    {
      "cell_type": "code",
      "execution_count": null,
      "metadata": {
        "id": "6-zdkNMIZ7FI"
      },
      "outputs": [],
      "source": [
        "df = df.drop_duplicates()\n"
      ]
    },
    {
      "cell_type": "markdown",
      "metadata": {
        "id": "e22s8x1ht10m"
      },
      "source": [
        "Cek total data yang duplikat. Hasilnya data yang duplikat sudah tidak ada."
      ]
    },
    {
      "cell_type": "code",
      "execution_count": null,
      "metadata": {
        "colab": {
          "base_uri": "https://localhost:8080/"
        },
        "id": "JZN2JyOPZ7pw",
        "outputId": "894116ec-bd3e-492b-8376-b08c141b4a43"
      },
      "outputs": [
        {
          "output_type": "execute_result",
          "data": {
            "text/plain": [
              "0"
            ]
          },
          "metadata": {},
          "execution_count": 35
        }
      ],
      "source": [
        "df.duplicated().sum()"
      ]
    },
    {
      "cell_type": "markdown",
      "metadata": {
        "id": "UP1-lvNbukEi"
      },
      "source": [
        "## Cek Missing Values"
      ]
    },
    {
      "cell_type": "markdown",
      "metadata": {
        "id": "BaITPnhPusao"
      },
      "source": [
        "Jalankan perintah di bawah untuk mendeteksi missing values."
      ]
    },
    {
      "cell_type": "code",
      "execution_count": null,
      "metadata": {
        "colab": {
          "base_uri": "https://localhost:8080/"
        },
        "id": "4Wv2OPH2eKYy",
        "outputId": "3d7df645-8003-452c-cd9d-6895a8032ee1"
      },
      "outputs": [
        {
          "output_type": "execute_result",
          "data": {
            "text/plain": [
              "tweet                         0\n",
              "label                         0\n",
              "length_of_tweet               0\n",
              "normalized_length_of_tweet    0\n",
              "dtype: int64"
            ]
          },
          "metadata": {},
          "execution_count": 36
        }
      ],
      "source": [
        "df.isna().sum()"
      ]
    },
    {
      "cell_type": "markdown",
      "metadata": {
        "id": "_UsPxgplu0Cp"
      },
      "source": [
        "Jalankan perintah untuk melihat persentase missing values dari setiap kolom. \n",
        "\n",
        "Terlihat pada setiap kolom memiliki persentase 0. Ini menandakan data kita aman dari missing values"
      ]
    },
    {
      "cell_type": "code",
      "execution_count": null,
      "metadata": {
        "colab": {
          "base_uri": "https://localhost:8080/"
        },
        "id": "9K-KhB-rePgZ",
        "outputId": "4b64b31e-92e2-4f87-eda8-4e44f4168f95"
      },
      "outputs": [
        {
          "output_type": "execute_result",
          "data": {
            "text/plain": [
              "tweet                         0\n",
              "label                         0\n",
              "length_of_tweet               0\n",
              "normalized_length_of_tweet    0\n",
              "dtype: int64"
            ]
          },
          "metadata": {},
          "execution_count": 37
        }
      ],
      "source": [
        "df.isna().sum()"
      ]
    },
    {
      "cell_type": "markdown",
      "metadata": {
        "id": "-_WvMts2BVvG"
      },
      "source": [
        "Cek kondisi data terakhir"
      ]
    },
    {
      "cell_type": "code",
      "execution_count": null,
      "metadata": {
        "colab": {
          "base_uri": "https://localhost:8080/",
          "height": 424
        },
        "id": "pK0ZZYh8BSil",
        "outputId": "17d33387-2e79-4c7a-8766-e8a1ebd843da"
      },
      "outputs": [
        {
          "output_type": "execute_result",
          "data": {
            "text/plain": [
              "                                                  tweet     label  \\\n",
              "0     tempat yang nyaman untuk berkumpul dengan tema...  positive   \n",
              "1     memang banyak bacot sih , omongan doang gede b...  negative   \n",
              "2     buat yang berkunjung ke bandung , yang ingin m...  positive   \n",
              "3     restoran menyajikan makanan khas sunda yang en...  positive   \n",
              "4     kalau travelling ke bandung , wajib makan bata...  positive   \n",
              "...                                                 ...       ...   \n",
              "9894  tiap kegaduhan melanda presiden sowan ke prabo...  negative   \n",
              "9895  warung nasi ampera memiliki konsep rumah makan...  positive   \n",
              "9896  mbak della sangat baik dan ramah , makanna nya...  positive   \n",
              "9897  suasana nya sangat romantis jika makan malam d...  positive   \n",
              "9899  mau itu pak ridwan kamil atau pak dedi mulyadi...  positive   \n",
              "\n",
              "      length_of_tweet  normalized_length_of_tweet  \n",
              "0                 207                    0.361702  \n",
              "1                 207                    0.361702  \n",
              "2                 257                    0.450355  \n",
              "3                 253                    0.443262  \n",
              "4                 251                    0.439716  \n",
              "...               ...                         ...  \n",
              "9894              122                    0.210993  \n",
              "9895              302                    0.530142  \n",
              "9896              271                    0.475177  \n",
              "9897              286                    0.501773  \n",
              "9899              211                    0.368794  \n",
              "\n",
              "[9840 rows x 4 columns]"
            ],
            "text/html": [
              "\n",
              "  <div id=\"df-4d44e599-6347-4182-ae68-087148931830\">\n",
              "    <div class=\"colab-df-container\">\n",
              "      <div>\n",
              "<style scoped>\n",
              "    .dataframe tbody tr th:only-of-type {\n",
              "        vertical-align: middle;\n",
              "    }\n",
              "\n",
              "    .dataframe tbody tr th {\n",
              "        vertical-align: top;\n",
              "    }\n",
              "\n",
              "    .dataframe thead th {\n",
              "        text-align: right;\n",
              "    }\n",
              "</style>\n",
              "<table border=\"1\" class=\"dataframe\">\n",
              "  <thead>\n",
              "    <tr style=\"text-align: right;\">\n",
              "      <th></th>\n",
              "      <th>tweet</th>\n",
              "      <th>label</th>\n",
              "      <th>length_of_tweet</th>\n",
              "      <th>normalized_length_of_tweet</th>\n",
              "    </tr>\n",
              "  </thead>\n",
              "  <tbody>\n",
              "    <tr>\n",
              "      <th>0</th>\n",
              "      <td>tempat yang nyaman untuk berkumpul dengan tema...</td>\n",
              "      <td>positive</td>\n",
              "      <td>207</td>\n",
              "      <td>0.361702</td>\n",
              "    </tr>\n",
              "    <tr>\n",
              "      <th>1</th>\n",
              "      <td>memang banyak bacot sih , omongan doang gede b...</td>\n",
              "      <td>negative</td>\n",
              "      <td>207</td>\n",
              "      <td>0.361702</td>\n",
              "    </tr>\n",
              "    <tr>\n",
              "      <th>2</th>\n",
              "      <td>buat yang berkunjung ke bandung , yang ingin m...</td>\n",
              "      <td>positive</td>\n",
              "      <td>257</td>\n",
              "      <td>0.450355</td>\n",
              "    </tr>\n",
              "    <tr>\n",
              "      <th>3</th>\n",
              "      <td>restoran menyajikan makanan khas sunda yang en...</td>\n",
              "      <td>positive</td>\n",
              "      <td>253</td>\n",
              "      <td>0.443262</td>\n",
              "    </tr>\n",
              "    <tr>\n",
              "      <th>4</th>\n",
              "      <td>kalau travelling ke bandung , wajib makan bata...</td>\n",
              "      <td>positive</td>\n",
              "      <td>251</td>\n",
              "      <td>0.439716</td>\n",
              "    </tr>\n",
              "    <tr>\n",
              "      <th>...</th>\n",
              "      <td>...</td>\n",
              "      <td>...</td>\n",
              "      <td>...</td>\n",
              "      <td>...</td>\n",
              "    </tr>\n",
              "    <tr>\n",
              "      <th>9894</th>\n",
              "      <td>tiap kegaduhan melanda presiden sowan ke prabo...</td>\n",
              "      <td>negative</td>\n",
              "      <td>122</td>\n",
              "      <td>0.210993</td>\n",
              "    </tr>\n",
              "    <tr>\n",
              "      <th>9895</th>\n",
              "      <td>warung nasi ampera memiliki konsep rumah makan...</td>\n",
              "      <td>positive</td>\n",
              "      <td>302</td>\n",
              "      <td>0.530142</td>\n",
              "    </tr>\n",
              "    <tr>\n",
              "      <th>9896</th>\n",
              "      <td>mbak della sangat baik dan ramah , makanna nya...</td>\n",
              "      <td>positive</td>\n",
              "      <td>271</td>\n",
              "      <td>0.475177</td>\n",
              "    </tr>\n",
              "    <tr>\n",
              "      <th>9897</th>\n",
              "      <td>suasana nya sangat romantis jika makan malam d...</td>\n",
              "      <td>positive</td>\n",
              "      <td>286</td>\n",
              "      <td>0.501773</td>\n",
              "    </tr>\n",
              "    <tr>\n",
              "      <th>9899</th>\n",
              "      <td>mau itu pak ridwan kamil atau pak dedi mulyadi...</td>\n",
              "      <td>positive</td>\n",
              "      <td>211</td>\n",
              "      <td>0.368794</td>\n",
              "    </tr>\n",
              "  </tbody>\n",
              "</table>\n",
              "<p>9840 rows × 4 columns</p>\n",
              "</div>\n",
              "      <button class=\"colab-df-convert\" onclick=\"convertToInteractive('df-4d44e599-6347-4182-ae68-087148931830')\"\n",
              "              title=\"Convert this dataframe to an interactive table.\"\n",
              "              style=\"display:none;\">\n",
              "        \n",
              "  <svg xmlns=\"http://www.w3.org/2000/svg\" height=\"24px\"viewBox=\"0 0 24 24\"\n",
              "       width=\"24px\">\n",
              "    <path d=\"M0 0h24v24H0V0z\" fill=\"none\"/>\n",
              "    <path d=\"M18.56 5.44l.94 2.06.94-2.06 2.06-.94-2.06-.94-.94-2.06-.94 2.06-2.06.94zm-11 1L8.5 8.5l.94-2.06 2.06-.94-2.06-.94L8.5 2.5l-.94 2.06-2.06.94zm10 10l.94 2.06.94-2.06 2.06-.94-2.06-.94-.94-2.06-.94 2.06-2.06.94z\"/><path d=\"M17.41 7.96l-1.37-1.37c-.4-.4-.92-.59-1.43-.59-.52 0-1.04.2-1.43.59L10.3 9.45l-7.72 7.72c-.78.78-.78 2.05 0 2.83L4 21.41c.39.39.9.59 1.41.59.51 0 1.02-.2 1.41-.59l7.78-7.78 2.81-2.81c.8-.78.8-2.07 0-2.86zM5.41 20L4 18.59l7.72-7.72 1.47 1.35L5.41 20z\"/>\n",
              "  </svg>\n",
              "      </button>\n",
              "      \n",
              "  <style>\n",
              "    .colab-df-container {\n",
              "      display:flex;\n",
              "      flex-wrap:wrap;\n",
              "      gap: 12px;\n",
              "    }\n",
              "\n",
              "    .colab-df-convert {\n",
              "      background-color: #E8F0FE;\n",
              "      border: none;\n",
              "      border-radius: 50%;\n",
              "      cursor: pointer;\n",
              "      display: none;\n",
              "      fill: #1967D2;\n",
              "      height: 32px;\n",
              "      padding: 0 0 0 0;\n",
              "      width: 32px;\n",
              "    }\n",
              "\n",
              "    .colab-df-convert:hover {\n",
              "      background-color: #E2EBFA;\n",
              "      box-shadow: 0px 1px 2px rgba(60, 64, 67, 0.3), 0px 1px 3px 1px rgba(60, 64, 67, 0.15);\n",
              "      fill: #174EA6;\n",
              "    }\n",
              "\n",
              "    [theme=dark] .colab-df-convert {\n",
              "      background-color: #3B4455;\n",
              "      fill: #D2E3FC;\n",
              "    }\n",
              "\n",
              "    [theme=dark] .colab-df-convert:hover {\n",
              "      background-color: #434B5C;\n",
              "      box-shadow: 0px 1px 3px 1px rgba(0, 0, 0, 0.15);\n",
              "      filter: drop-shadow(0px 1px 2px rgba(0, 0, 0, 0.3));\n",
              "      fill: #FFFFFF;\n",
              "    }\n",
              "  </style>\n",
              "\n",
              "      <script>\n",
              "        const buttonEl =\n",
              "          document.querySelector('#df-4d44e599-6347-4182-ae68-087148931830 button.colab-df-convert');\n",
              "        buttonEl.style.display =\n",
              "          google.colab.kernel.accessAllowed ? 'block' : 'none';\n",
              "\n",
              "        async function convertToInteractive(key) {\n",
              "          const element = document.querySelector('#df-4d44e599-6347-4182-ae68-087148931830');\n",
              "          const dataTable =\n",
              "            await google.colab.kernel.invokeFunction('convertToInteractive',\n",
              "                                                     [key], {});\n",
              "          if (!dataTable) return;\n",
              "\n",
              "          const docLinkHtml = 'Like what you see? Visit the ' +\n",
              "            '<a target=\"_blank\" href=https://colab.research.google.com/notebooks/data_table.ipynb>data table notebook</a>'\n",
              "            + ' to learn more about interactive tables.';\n",
              "          element.innerHTML = '';\n",
              "          dataTable['output_type'] = 'display_data';\n",
              "          await google.colab.output.renderOutput(dataTable, element);\n",
              "          const docLink = document.createElement('div');\n",
              "          docLink.innerHTML = docLinkHtml;\n",
              "          element.appendChild(docLink);\n",
              "        }\n",
              "      </script>\n",
              "    </div>\n",
              "  </div>\n",
              "  "
            ]
          },
          "metadata": {},
          "execution_count": 38
        }
      ],
      "source": [
        "df"
      ]
    },
    {
      "cell_type": "code",
      "execution_count": null,
      "metadata": {
        "id": "PCLckcv7e7o5"
      },
      "outputs": [],
      "source": [
        "# 1. Sentiment apa yang paling banyak (proporsi labels)\n",
        "# 2. jumlah kata per row\n",
        "# 3. Untuk masing masing label, 10 Kata apa yang paling sering muncul.\n",
        "# 4. Apakah ada tweet yang duplicated, tapi beda label."
      ]
    },
    {
      "cell_type": "markdown",
      "metadata": {
        "id": "rPRbY4Blt_1-"
      },
      "source": [
        "## Buat kolom baru bernama \"total_char\" berisi panjang karakter dari setiap teks."
      ]
    },
    {
      "cell_type": "code",
      "execution_count": null,
      "metadata": {
        "id": "YEoELLF7agBj",
        "colab": {
          "base_uri": "https://localhost:8080/",
          "height": 424
        },
        "outputId": "422747f7-7939-4022-8635-ca7121dc5707"
      },
      "outputs": [
        {
          "output_type": "execute_result",
          "data": {
            "text/plain": [
              "                                                  tweet     label  \\\n",
              "0     tempat yang nyaman untuk berkumpul dengan tema...  positive   \n",
              "1     memang banyak bacot sih , omongan doang gede b...  negative   \n",
              "2     buat yang berkunjung ke bandung , yang ingin m...  positive   \n",
              "3     restoran menyajikan makanan khas sunda yang en...  positive   \n",
              "4     kalau travelling ke bandung , wajib makan bata...  positive   \n",
              "...                                                 ...       ...   \n",
              "9894  tiap kegaduhan melanda presiden sowan ke prabo...  negative   \n",
              "9895  warung nasi ampera memiliki konsep rumah makan...  positive   \n",
              "9896  mbak della sangat baik dan ramah , makanna nya...  positive   \n",
              "9897  suasana nya sangat romantis jika makan malam d...  positive   \n",
              "9899  mau itu pak ridwan kamil atau pak dedi mulyadi...  positive   \n",
              "\n",
              "      length_of_tweet  normalized_length_of_tweet  total_char  \n",
              "0                 207                    0.361702         207  \n",
              "1                 207                    0.361702         207  \n",
              "2                 257                    0.450355         257  \n",
              "3                 253                    0.443262         253  \n",
              "4                 251                    0.439716         251  \n",
              "...               ...                         ...         ...  \n",
              "9894              122                    0.210993         122  \n",
              "9895              302                    0.530142         302  \n",
              "9896              271                    0.475177         271  \n",
              "9897              286                    0.501773         286  \n",
              "9899              211                    0.368794         211  \n",
              "\n",
              "[9840 rows x 5 columns]"
            ],
            "text/html": [
              "\n",
              "  <div id=\"df-43a3ab39-d068-4334-b1be-a59885a7c422\">\n",
              "    <div class=\"colab-df-container\">\n",
              "      <div>\n",
              "<style scoped>\n",
              "    .dataframe tbody tr th:only-of-type {\n",
              "        vertical-align: middle;\n",
              "    }\n",
              "\n",
              "    .dataframe tbody tr th {\n",
              "        vertical-align: top;\n",
              "    }\n",
              "\n",
              "    .dataframe thead th {\n",
              "        text-align: right;\n",
              "    }\n",
              "</style>\n",
              "<table border=\"1\" class=\"dataframe\">\n",
              "  <thead>\n",
              "    <tr style=\"text-align: right;\">\n",
              "      <th></th>\n",
              "      <th>tweet</th>\n",
              "      <th>label</th>\n",
              "      <th>length_of_tweet</th>\n",
              "      <th>normalized_length_of_tweet</th>\n",
              "      <th>total_char</th>\n",
              "    </tr>\n",
              "  </thead>\n",
              "  <tbody>\n",
              "    <tr>\n",
              "      <th>0</th>\n",
              "      <td>tempat yang nyaman untuk berkumpul dengan tema...</td>\n",
              "      <td>positive</td>\n",
              "      <td>207</td>\n",
              "      <td>0.361702</td>\n",
              "      <td>207</td>\n",
              "    </tr>\n",
              "    <tr>\n",
              "      <th>1</th>\n",
              "      <td>memang banyak bacot sih , omongan doang gede b...</td>\n",
              "      <td>negative</td>\n",
              "      <td>207</td>\n",
              "      <td>0.361702</td>\n",
              "      <td>207</td>\n",
              "    </tr>\n",
              "    <tr>\n",
              "      <th>2</th>\n",
              "      <td>buat yang berkunjung ke bandung , yang ingin m...</td>\n",
              "      <td>positive</td>\n",
              "      <td>257</td>\n",
              "      <td>0.450355</td>\n",
              "      <td>257</td>\n",
              "    </tr>\n",
              "    <tr>\n",
              "      <th>3</th>\n",
              "      <td>restoran menyajikan makanan khas sunda yang en...</td>\n",
              "      <td>positive</td>\n",
              "      <td>253</td>\n",
              "      <td>0.443262</td>\n",
              "      <td>253</td>\n",
              "    </tr>\n",
              "    <tr>\n",
              "      <th>4</th>\n",
              "      <td>kalau travelling ke bandung , wajib makan bata...</td>\n",
              "      <td>positive</td>\n",
              "      <td>251</td>\n",
              "      <td>0.439716</td>\n",
              "      <td>251</td>\n",
              "    </tr>\n",
              "    <tr>\n",
              "      <th>...</th>\n",
              "      <td>...</td>\n",
              "      <td>...</td>\n",
              "      <td>...</td>\n",
              "      <td>...</td>\n",
              "      <td>...</td>\n",
              "    </tr>\n",
              "    <tr>\n",
              "      <th>9894</th>\n",
              "      <td>tiap kegaduhan melanda presiden sowan ke prabo...</td>\n",
              "      <td>negative</td>\n",
              "      <td>122</td>\n",
              "      <td>0.210993</td>\n",
              "      <td>122</td>\n",
              "    </tr>\n",
              "    <tr>\n",
              "      <th>9895</th>\n",
              "      <td>warung nasi ampera memiliki konsep rumah makan...</td>\n",
              "      <td>positive</td>\n",
              "      <td>302</td>\n",
              "      <td>0.530142</td>\n",
              "      <td>302</td>\n",
              "    </tr>\n",
              "    <tr>\n",
              "      <th>9896</th>\n",
              "      <td>mbak della sangat baik dan ramah , makanna nya...</td>\n",
              "      <td>positive</td>\n",
              "      <td>271</td>\n",
              "      <td>0.475177</td>\n",
              "      <td>271</td>\n",
              "    </tr>\n",
              "    <tr>\n",
              "      <th>9897</th>\n",
              "      <td>suasana nya sangat romantis jika makan malam d...</td>\n",
              "      <td>positive</td>\n",
              "      <td>286</td>\n",
              "      <td>0.501773</td>\n",
              "      <td>286</td>\n",
              "    </tr>\n",
              "    <tr>\n",
              "      <th>9899</th>\n",
              "      <td>mau itu pak ridwan kamil atau pak dedi mulyadi...</td>\n",
              "      <td>positive</td>\n",
              "      <td>211</td>\n",
              "      <td>0.368794</td>\n",
              "      <td>211</td>\n",
              "    </tr>\n",
              "  </tbody>\n",
              "</table>\n",
              "<p>9840 rows × 5 columns</p>\n",
              "</div>\n",
              "      <button class=\"colab-df-convert\" onclick=\"convertToInteractive('df-43a3ab39-d068-4334-b1be-a59885a7c422')\"\n",
              "              title=\"Convert this dataframe to an interactive table.\"\n",
              "              style=\"display:none;\">\n",
              "        \n",
              "  <svg xmlns=\"http://www.w3.org/2000/svg\" height=\"24px\"viewBox=\"0 0 24 24\"\n",
              "       width=\"24px\">\n",
              "    <path d=\"M0 0h24v24H0V0z\" fill=\"none\"/>\n",
              "    <path d=\"M18.56 5.44l.94 2.06.94-2.06 2.06-.94-2.06-.94-.94-2.06-.94 2.06-2.06.94zm-11 1L8.5 8.5l.94-2.06 2.06-.94-2.06-.94L8.5 2.5l-.94 2.06-2.06.94zm10 10l.94 2.06.94-2.06 2.06-.94-2.06-.94-.94-2.06-.94 2.06-2.06.94z\"/><path d=\"M17.41 7.96l-1.37-1.37c-.4-.4-.92-.59-1.43-.59-.52 0-1.04.2-1.43.59L10.3 9.45l-7.72 7.72c-.78.78-.78 2.05 0 2.83L4 21.41c.39.39.9.59 1.41.59.51 0 1.02-.2 1.41-.59l7.78-7.78 2.81-2.81c.8-.78.8-2.07 0-2.86zM5.41 20L4 18.59l7.72-7.72 1.47 1.35L5.41 20z\"/>\n",
              "  </svg>\n",
              "      </button>\n",
              "      \n",
              "  <style>\n",
              "    .colab-df-container {\n",
              "      display:flex;\n",
              "      flex-wrap:wrap;\n",
              "      gap: 12px;\n",
              "    }\n",
              "\n",
              "    .colab-df-convert {\n",
              "      background-color: #E8F0FE;\n",
              "      border: none;\n",
              "      border-radius: 50%;\n",
              "      cursor: pointer;\n",
              "      display: none;\n",
              "      fill: #1967D2;\n",
              "      height: 32px;\n",
              "      padding: 0 0 0 0;\n",
              "      width: 32px;\n",
              "    }\n",
              "\n",
              "    .colab-df-convert:hover {\n",
              "      background-color: #E2EBFA;\n",
              "      box-shadow: 0px 1px 2px rgba(60, 64, 67, 0.3), 0px 1px 3px 1px rgba(60, 64, 67, 0.15);\n",
              "      fill: #174EA6;\n",
              "    }\n",
              "\n",
              "    [theme=dark] .colab-df-convert {\n",
              "      background-color: #3B4455;\n",
              "      fill: #D2E3FC;\n",
              "    }\n",
              "\n",
              "    [theme=dark] .colab-df-convert:hover {\n",
              "      background-color: #434B5C;\n",
              "      box-shadow: 0px 1px 3px 1px rgba(0, 0, 0, 0.15);\n",
              "      filter: drop-shadow(0px 1px 2px rgba(0, 0, 0, 0.3));\n",
              "      fill: #FFFFFF;\n",
              "    }\n",
              "  </style>\n",
              "\n",
              "      <script>\n",
              "        const buttonEl =\n",
              "          document.querySelector('#df-43a3ab39-d068-4334-b1be-a59885a7c422 button.colab-df-convert');\n",
              "        buttonEl.style.display =\n",
              "          google.colab.kernel.accessAllowed ? 'block' : 'none';\n",
              "\n",
              "        async function convertToInteractive(key) {\n",
              "          const element = document.querySelector('#df-43a3ab39-d068-4334-b1be-a59885a7c422');\n",
              "          const dataTable =\n",
              "            await google.colab.kernel.invokeFunction('convertToInteractive',\n",
              "                                                     [key], {});\n",
              "          if (!dataTable) return;\n",
              "\n",
              "          const docLinkHtml = 'Like what you see? Visit the ' +\n",
              "            '<a target=\"_blank\" href=https://colab.research.google.com/notebooks/data_table.ipynb>data table notebook</a>'\n",
              "            + ' to learn more about interactive tables.';\n",
              "          element.innerHTML = '';\n",
              "          dataTable['output_type'] = 'display_data';\n",
              "          await google.colab.output.renderOutput(dataTable, element);\n",
              "          const docLink = document.createElement('div');\n",
              "          docLink.innerHTML = docLinkHtml;\n",
              "          element.appendChild(docLink);\n",
              "        }\n",
              "      </script>\n",
              "    </div>\n",
              "  </div>\n",
              "  "
            ]
          },
          "metadata": {},
          "execution_count": 40
        }
      ],
      "source": [
        "df['total_char'] = df['tweet'].apply(len)\n",
        "df"
      ]
    },
    {
      "cell_type": "markdown",
      "metadata": {
        "id": "nbqkD6wDuNli"
      },
      "source": [
        "Cek 5 data teratas lagi. Terlihat sekarang sudah ada kolom \"total_char\" yang berisi masing-masing panjang karakter dari setiap teks.\n"
      ]
    },
    {
      "cell_type": "code",
      "execution_count": null,
      "metadata": {
        "id": "9ADCajPrazxA"
      },
      "outputs": [],
      "source": []
    },
    {
      "cell_type": "markdown",
      "metadata": {
        "id": "UVkHJE1SyGqn"
      },
      "source": [
        "## Buat kolom baru bernama \"total_word\" berisi banyaknya kata dari setiap teks."
      ]
    },
    {
      "cell_type": "markdown",
      "metadata": {
        "id": "yUncOoexyiIk"
      },
      "source": [
        "Cek 5 data teratas lagi. Terlihat sekarang sudah ada kolom \"total_word\" yang berisi masing-masing panjang kata dari setiap teks."
      ]
    },
    {
      "cell_type": "code",
      "execution_count": null,
      "metadata": {
        "id": "_DUAzExVyPCU"
      },
      "outputs": [],
      "source": [
        "df['total_word'] = df['tweet'].apply(lambda sent: len(sent.split()))"
      ]
    },
    {
      "cell_type": "code",
      "execution_count": null,
      "metadata": {
        "colab": {
          "base_uri": "https://localhost:8080/",
          "height": 302
        },
        "id": "DAzVj-sWyayM",
        "outputId": "5efb0090-7f65-43ec-91c8-778c1cce06e5"
      },
      "outputs": [
        {
          "output_type": "execute_result",
          "data": {
            "text/plain": [
              "                                               tweet     label  \\\n",
              "0  tempat yang nyaman untuk berkumpul dengan tema...  positive   \n",
              "1  memang banyak bacot sih , omongan doang gede b...  negative   \n",
              "2  buat yang berkunjung ke bandung , yang ingin m...  positive   \n",
              "3  restoran menyajikan makanan khas sunda yang en...  positive   \n",
              "4  kalau travelling ke bandung , wajib makan bata...  positive   \n",
              "\n",
              "   length_of_tweet  normalized_length_of_tweet  total_char  total_word  \n",
              "0              207                    0.361702         207          36  \n",
              "1              207                    0.361702         207          37  \n",
              "2              257                    0.450355         257          45  \n",
              "3              253                    0.443262         253          41  \n",
              "4              251                    0.439716         251          48  "
            ],
            "text/html": [
              "\n",
              "  <div id=\"df-c3efc9fc-d46f-4769-ad55-a289b3a4d2e9\">\n",
              "    <div class=\"colab-df-container\">\n",
              "      <div>\n",
              "<style scoped>\n",
              "    .dataframe tbody tr th:only-of-type {\n",
              "        vertical-align: middle;\n",
              "    }\n",
              "\n",
              "    .dataframe tbody tr th {\n",
              "        vertical-align: top;\n",
              "    }\n",
              "\n",
              "    .dataframe thead th {\n",
              "        text-align: right;\n",
              "    }\n",
              "</style>\n",
              "<table border=\"1\" class=\"dataframe\">\n",
              "  <thead>\n",
              "    <tr style=\"text-align: right;\">\n",
              "      <th></th>\n",
              "      <th>tweet</th>\n",
              "      <th>label</th>\n",
              "      <th>length_of_tweet</th>\n",
              "      <th>normalized_length_of_tweet</th>\n",
              "      <th>total_char</th>\n",
              "      <th>total_word</th>\n",
              "    </tr>\n",
              "  </thead>\n",
              "  <tbody>\n",
              "    <tr>\n",
              "      <th>0</th>\n",
              "      <td>tempat yang nyaman untuk berkumpul dengan tema...</td>\n",
              "      <td>positive</td>\n",
              "      <td>207</td>\n",
              "      <td>0.361702</td>\n",
              "      <td>207</td>\n",
              "      <td>36</td>\n",
              "    </tr>\n",
              "    <tr>\n",
              "      <th>1</th>\n",
              "      <td>memang banyak bacot sih , omongan doang gede b...</td>\n",
              "      <td>negative</td>\n",
              "      <td>207</td>\n",
              "      <td>0.361702</td>\n",
              "      <td>207</td>\n",
              "      <td>37</td>\n",
              "    </tr>\n",
              "    <tr>\n",
              "      <th>2</th>\n",
              "      <td>buat yang berkunjung ke bandung , yang ingin m...</td>\n",
              "      <td>positive</td>\n",
              "      <td>257</td>\n",
              "      <td>0.450355</td>\n",
              "      <td>257</td>\n",
              "      <td>45</td>\n",
              "    </tr>\n",
              "    <tr>\n",
              "      <th>3</th>\n",
              "      <td>restoran menyajikan makanan khas sunda yang en...</td>\n",
              "      <td>positive</td>\n",
              "      <td>253</td>\n",
              "      <td>0.443262</td>\n",
              "      <td>253</td>\n",
              "      <td>41</td>\n",
              "    </tr>\n",
              "    <tr>\n",
              "      <th>4</th>\n",
              "      <td>kalau travelling ke bandung , wajib makan bata...</td>\n",
              "      <td>positive</td>\n",
              "      <td>251</td>\n",
              "      <td>0.439716</td>\n",
              "      <td>251</td>\n",
              "      <td>48</td>\n",
              "    </tr>\n",
              "  </tbody>\n",
              "</table>\n",
              "</div>\n",
              "      <button class=\"colab-df-convert\" onclick=\"convertToInteractive('df-c3efc9fc-d46f-4769-ad55-a289b3a4d2e9')\"\n",
              "              title=\"Convert this dataframe to an interactive table.\"\n",
              "              style=\"display:none;\">\n",
              "        \n",
              "  <svg xmlns=\"http://www.w3.org/2000/svg\" height=\"24px\"viewBox=\"0 0 24 24\"\n",
              "       width=\"24px\">\n",
              "    <path d=\"M0 0h24v24H0V0z\" fill=\"none\"/>\n",
              "    <path d=\"M18.56 5.44l.94 2.06.94-2.06 2.06-.94-2.06-.94-.94-2.06-.94 2.06-2.06.94zm-11 1L8.5 8.5l.94-2.06 2.06-.94-2.06-.94L8.5 2.5l-.94 2.06-2.06.94zm10 10l.94 2.06.94-2.06 2.06-.94-2.06-.94-.94-2.06-.94 2.06-2.06.94z\"/><path d=\"M17.41 7.96l-1.37-1.37c-.4-.4-.92-.59-1.43-.59-.52 0-1.04.2-1.43.59L10.3 9.45l-7.72 7.72c-.78.78-.78 2.05 0 2.83L4 21.41c.39.39.9.59 1.41.59.51 0 1.02-.2 1.41-.59l7.78-7.78 2.81-2.81c.8-.78.8-2.07 0-2.86zM5.41 20L4 18.59l7.72-7.72 1.47 1.35L5.41 20z\"/>\n",
              "  </svg>\n",
              "      </button>\n",
              "      \n",
              "  <style>\n",
              "    .colab-df-container {\n",
              "      display:flex;\n",
              "      flex-wrap:wrap;\n",
              "      gap: 12px;\n",
              "    }\n",
              "\n",
              "    .colab-df-convert {\n",
              "      background-color: #E8F0FE;\n",
              "      border: none;\n",
              "      border-radius: 50%;\n",
              "      cursor: pointer;\n",
              "      display: none;\n",
              "      fill: #1967D2;\n",
              "      height: 32px;\n",
              "      padding: 0 0 0 0;\n",
              "      width: 32px;\n",
              "    }\n",
              "\n",
              "    .colab-df-convert:hover {\n",
              "      background-color: #E2EBFA;\n",
              "      box-shadow: 0px 1px 2px rgba(60, 64, 67, 0.3), 0px 1px 3px 1px rgba(60, 64, 67, 0.15);\n",
              "      fill: #174EA6;\n",
              "    }\n",
              "\n",
              "    [theme=dark] .colab-df-convert {\n",
              "      background-color: #3B4455;\n",
              "      fill: #D2E3FC;\n",
              "    }\n",
              "\n",
              "    [theme=dark] .colab-df-convert:hover {\n",
              "      background-color: #434B5C;\n",
              "      box-shadow: 0px 1px 3px 1px rgba(0, 0, 0, 0.15);\n",
              "      filter: drop-shadow(0px 1px 2px rgba(0, 0, 0, 0.3));\n",
              "      fill: #FFFFFF;\n",
              "    }\n",
              "  </style>\n",
              "\n",
              "      <script>\n",
              "        const buttonEl =\n",
              "          document.querySelector('#df-c3efc9fc-d46f-4769-ad55-a289b3a4d2e9 button.colab-df-convert');\n",
              "        buttonEl.style.display =\n",
              "          google.colab.kernel.accessAllowed ? 'block' : 'none';\n",
              "\n",
              "        async function convertToInteractive(key) {\n",
              "          const element = document.querySelector('#df-c3efc9fc-d46f-4769-ad55-a289b3a4d2e9');\n",
              "          const dataTable =\n",
              "            await google.colab.kernel.invokeFunction('convertToInteractive',\n",
              "                                                     [key], {});\n",
              "          if (!dataTable) return;\n",
              "\n",
              "          const docLinkHtml = 'Like what you see? Visit the ' +\n",
              "            '<a target=\"_blank\" href=https://colab.research.google.com/notebooks/data_table.ipynb>data table notebook</a>'\n",
              "            + ' to learn more about interactive tables.';\n",
              "          element.innerHTML = '';\n",
              "          dataTable['output_type'] = 'display_data';\n",
              "          await google.colab.output.renderOutput(dataTable, element);\n",
              "          const docLink = document.createElement('div');\n",
              "          docLink.innerHTML = docLinkHtml;\n",
              "          element.appendChild(docLink);\n",
              "        }\n",
              "      </script>\n",
              "    </div>\n",
              "  </div>\n",
              "  "
            ]
          },
          "metadata": {},
          "execution_count": 42
        }
      ],
      "source": [
        "# Cek data teratas\n",
        "df.head()"
      ]
    },
    {
      "cell_type": "code",
      "execution_count": null,
      "metadata": {
        "id": "iibtysese7o6"
      },
      "outputs": [],
      "source": [
        "splited_tweet = df['tweet'].apply(lambda sent: sent.split())"
      ]
    },
    {
      "cell_type": "code",
      "execution_count": null,
      "metadata": {
        "id": "QG9UqCkRe7o6"
      },
      "outputs": [],
      "source": [
        "positive_words = {}\n",
        "neutral_words = {}\n",
        "negative_words = {}\n",
        "for lab, twe in zip(df['label'], splited_tweet):\n",
        "    if lab == 'positive':\n",
        "        for word in twe:\n",
        "            try:\n",
        "                positive_words[word] += 1\n",
        "            except KeyError:\n",
        "                positive_words[word] = 1\n",
        "    if lab == 'neutral':\n",
        "        for word in twe:\n",
        "            try:\n",
        "                neutral_words[word] += 1\n",
        "            except KeyError:\n",
        "                neutral_words[word] = 1\n",
        "    if lab == 'negative':\n",
        "        for word in twe:\n",
        "            try:\n",
        "                negative_words[word] += 1\n",
        "            except KeyError:\n",
        "                negative_words[word] = 1"
      ]
    },
    {
      "cell_type": "code",
      "execution_count": null,
      "metadata": {
        "id": "DOiS6rgpe7o6"
      },
      "outputs": [],
      "source": [
        "kamus_negative = ['sombong']\n",
        "kamus_positive = []"
      ]
    },
    {
      "cell_type": "code",
      "execution_count": null,
      "metadata": {
        "id": "y--ZOVTye7o7"
      },
      "outputs": [],
      "source": [
        "contoh_text = df.loc[df.label == 'negative'].iloc[0].values"
      ]
    },
    {
      "cell_type": "code",
      "execution_count": null,
      "metadata": {
        "scrolled": true,
        "id": "IrqyrR25e7o7"
      },
      "outputs": [],
      "source": [
        "score = 0\n",
        "for word in contoh_text[0].split():\n",
        "    if word in kamus_negative:\n",
        "        score = score-1\n",
        "    elif word in kamus_positive:\n",
        "        score = score+1\n",
        "    else:\n",
        "        score = score+0\n",
        "    "
      ]
    },
    {
      "cell_type": "code",
      "execution_count": null,
      "metadata": {
        "id": "OP6MuZCve7o7",
        "outputId": "6d785700-6d1f-444c-b5d6-81a494a379a5",
        "colab": {
          "base_uri": "https://localhost:8080/"
        }
      },
      "outputs": [
        {
          "output_type": "execute_result",
          "data": {
            "text/plain": [
              "[('.', 16518),\n",
              " (',', 10779),\n",
              " ('nya', 9866),\n",
              " ('yang', 6615),\n",
              " ('dan', 5807),\n",
              " ('di', 5573),\n",
              " ('enak', 2965),\n",
              " ('dengan', 2897),\n",
              " ('tempat', 2864),\n",
              " ('makanan', 2835)]"
            ]
          },
          "metadata": {},
          "execution_count": 48
        }
      ],
      "source": [
        "sorted(positive_words.items(), key = lambda x:x[1], reverse=True)[:10]"
      ]
    },
    {
      "cell_type": "code",
      "execution_count": null,
      "metadata": {
        "id": "l5I6B1Tye7o7",
        "outputId": "1b2754d9-28e6-4a19-fa44-ae92006c8633",
        "colab": {
          "base_uri": "https://localhost:8080/"
        }
      },
      "outputs": [
        {
          "output_type": "execute_result",
          "data": {
            "text/plain": [
              "[('.', 4352),\n",
              " (',', 3063),\n",
              " ('nya', 2078),\n",
              " ('tidak', 1732),\n",
              " ('yang', 1531),\n",
              " ('dan', 1129),\n",
              " ('di', 1054),\n",
              " ('saya', 967),\n",
              " ('ini', 694),\n",
              " ('saja', 593)]"
            ]
          },
          "metadata": {},
          "execution_count": 49
        }
      ],
      "source": [
        "sorted(negative_words.items(), key = lambda x:x[1], reverse=True)[:10]"
      ]
    },
    {
      "cell_type": "code",
      "execution_count": null,
      "metadata": {
        "scrolled": false,
        "id": "Gg44suQce7o7",
        "outputId": "73f6cbe1-ec17-4e29-95d6-e7b3382f50cb",
        "colab": {
          "base_uri": "https://localhost:8080/"
        }
      },
      "outputs": [
        {
          "output_type": "execute_result",
          "data": {
            "text/plain": [
              "[(',', 585),\n",
              " ('.', 501),\n",
              " ('di', 303),\n",
              " ('dan', 194),\n",
              " ('yang', 186),\n",
              " ('nya', 184),\n",
              " ('-', 158),\n",
              " ('untuk', 135),\n",
              " (':', 123),\n",
              " ('dengan', 121)]"
            ]
          },
          "metadata": {},
          "execution_count": 50
        }
      ],
      "source": [
        "sorted(neutral_words.items(), key = lambda x:x[1], reverse=True)[:10]"
      ]
    },
    {
      "cell_type": "code",
      "execution_count": null,
      "metadata": {
        "id": "SbPBraPge7o7"
      },
      "outputs": [],
      "source": [
        "import numpy as np\n",
        "import seaborn as sns"
      ]
    },
    {
      "cell_type": "code",
      "execution_count": null,
      "metadata": {
        "id": "VxNQ65_1e7o8",
        "outputId": "a49e7535-6498-4c05-e5fc-f6abaf820ab4",
        "colab": {
          "base_uri": "https://localhost:8080/"
        }
      },
      "outputs": [
        {
          "output_type": "execute_result",
          "data": {
            "text/plain": [
              "8.0"
            ]
          },
          "metadata": {},
          "execution_count": 52
        }
      ],
      "source": [
        "np.quantile(df['total_char'], 0.01)"
      ]
    },
    {
      "cell_type": "code",
      "execution_count": null,
      "metadata": {
        "scrolled": true,
        "id": "ZniPyeFue7o8",
        "outputId": "e10d5b42-4d1a-4412-bccf-7ef7effa12ef",
        "colab": {
          "base_uri": "https://localhost:8080/"
        }
      },
      "outputs": [
        {
          "output_type": "stream",
          "name": "stderr",
          "text": [
            "<ipython-input-53-6e83b5daaa1e>:1: FutureWarning: Dropping of nuisance columns in DataFrame reductions (with 'numeric_only=None') is deprecated; in a future version this will raise TypeError.  Select only valid columns before calling the reduction.\n",
            "  df.loc[df.total_char<449].mean()\n"
          ]
        },
        {
          "output_type": "execute_result",
          "data": {
            "text/plain": [
              "length_of_tweet               186.517720\n",
              "normalized_length_of_tweet      0.325386\n",
              "total_char                    186.517720\n",
              "total_word                     32.554905\n",
              "dtype: float64"
            ]
          },
          "metadata": {},
          "execution_count": 53
        }
      ],
      "source": [
        "df.loc[df.total_char<449].mean()"
      ]
    },
    {
      "cell_type": "code",
      "execution_count": null,
      "metadata": {
        "id": "Lc_nziU-e7o8",
        "outputId": "7b3caf33-53c9-4e04-beb7-1277e3c02465",
        "colab": {
          "base_uri": "https://localhost:8080/",
          "height": 300
        }
      },
      "outputs": [
        {
          "output_type": "execute_result",
          "data": {
            "text/plain": [
              "       length_of_tweet  normalized_length_of_tweet   total_char   total_word\n",
              "count      9840.000000                 9840.000000  9840.000000  9840.000000\n",
              "mean        189.556098                    0.330773   189.556098    33.060467\n",
              "std         121.022216                    0.214578   121.022216    21.176229\n",
              "min           3.000000                    0.000000     3.000000     1.000000\n",
              "25%          90.000000                    0.154255    90.000000    16.000000\n",
              "50%         160.000000                    0.278369   160.000000    28.000000\n",
              "75%         276.250000                    0.484486   276.250000    48.000000\n",
              "max         567.000000                    1.000000   567.000000   110.000000"
            ],
            "text/html": [
              "\n",
              "  <div id=\"df-d054c60f-b68c-4c67-9a8b-ff73b987f481\">\n",
              "    <div class=\"colab-df-container\">\n",
              "      <div>\n",
              "<style scoped>\n",
              "    .dataframe tbody tr th:only-of-type {\n",
              "        vertical-align: middle;\n",
              "    }\n",
              "\n",
              "    .dataframe tbody tr th {\n",
              "        vertical-align: top;\n",
              "    }\n",
              "\n",
              "    .dataframe thead th {\n",
              "        text-align: right;\n",
              "    }\n",
              "</style>\n",
              "<table border=\"1\" class=\"dataframe\">\n",
              "  <thead>\n",
              "    <tr style=\"text-align: right;\">\n",
              "      <th></th>\n",
              "      <th>length_of_tweet</th>\n",
              "      <th>normalized_length_of_tweet</th>\n",
              "      <th>total_char</th>\n",
              "      <th>total_word</th>\n",
              "    </tr>\n",
              "  </thead>\n",
              "  <tbody>\n",
              "    <tr>\n",
              "      <th>count</th>\n",
              "      <td>9840.000000</td>\n",
              "      <td>9840.000000</td>\n",
              "      <td>9840.000000</td>\n",
              "      <td>9840.000000</td>\n",
              "    </tr>\n",
              "    <tr>\n",
              "      <th>mean</th>\n",
              "      <td>189.556098</td>\n",
              "      <td>0.330773</td>\n",
              "      <td>189.556098</td>\n",
              "      <td>33.060467</td>\n",
              "    </tr>\n",
              "    <tr>\n",
              "      <th>std</th>\n",
              "      <td>121.022216</td>\n",
              "      <td>0.214578</td>\n",
              "      <td>121.022216</td>\n",
              "      <td>21.176229</td>\n",
              "    </tr>\n",
              "    <tr>\n",
              "      <th>min</th>\n",
              "      <td>3.000000</td>\n",
              "      <td>0.000000</td>\n",
              "      <td>3.000000</td>\n",
              "      <td>1.000000</td>\n",
              "    </tr>\n",
              "    <tr>\n",
              "      <th>25%</th>\n",
              "      <td>90.000000</td>\n",
              "      <td>0.154255</td>\n",
              "      <td>90.000000</td>\n",
              "      <td>16.000000</td>\n",
              "    </tr>\n",
              "    <tr>\n",
              "      <th>50%</th>\n",
              "      <td>160.000000</td>\n",
              "      <td>0.278369</td>\n",
              "      <td>160.000000</td>\n",
              "      <td>28.000000</td>\n",
              "    </tr>\n",
              "    <tr>\n",
              "      <th>75%</th>\n",
              "      <td>276.250000</td>\n",
              "      <td>0.484486</td>\n",
              "      <td>276.250000</td>\n",
              "      <td>48.000000</td>\n",
              "    </tr>\n",
              "    <tr>\n",
              "      <th>max</th>\n",
              "      <td>567.000000</td>\n",
              "      <td>1.000000</td>\n",
              "      <td>567.000000</td>\n",
              "      <td>110.000000</td>\n",
              "    </tr>\n",
              "  </tbody>\n",
              "</table>\n",
              "</div>\n",
              "      <button class=\"colab-df-convert\" onclick=\"convertToInteractive('df-d054c60f-b68c-4c67-9a8b-ff73b987f481')\"\n",
              "              title=\"Convert this dataframe to an interactive table.\"\n",
              "              style=\"display:none;\">\n",
              "        \n",
              "  <svg xmlns=\"http://www.w3.org/2000/svg\" height=\"24px\"viewBox=\"0 0 24 24\"\n",
              "       width=\"24px\">\n",
              "    <path d=\"M0 0h24v24H0V0z\" fill=\"none\"/>\n",
              "    <path d=\"M18.56 5.44l.94 2.06.94-2.06 2.06-.94-2.06-.94-.94-2.06-.94 2.06-2.06.94zm-11 1L8.5 8.5l.94-2.06 2.06-.94-2.06-.94L8.5 2.5l-.94 2.06-2.06.94zm10 10l.94 2.06.94-2.06 2.06-.94-2.06-.94-.94-2.06-.94 2.06-2.06.94z\"/><path d=\"M17.41 7.96l-1.37-1.37c-.4-.4-.92-.59-1.43-.59-.52 0-1.04.2-1.43.59L10.3 9.45l-7.72 7.72c-.78.78-.78 2.05 0 2.83L4 21.41c.39.39.9.59 1.41.59.51 0 1.02-.2 1.41-.59l7.78-7.78 2.81-2.81c.8-.78.8-2.07 0-2.86zM5.41 20L4 18.59l7.72-7.72 1.47 1.35L5.41 20z\"/>\n",
              "  </svg>\n",
              "      </button>\n",
              "      \n",
              "  <style>\n",
              "    .colab-df-container {\n",
              "      display:flex;\n",
              "      flex-wrap:wrap;\n",
              "      gap: 12px;\n",
              "    }\n",
              "\n",
              "    .colab-df-convert {\n",
              "      background-color: #E8F0FE;\n",
              "      border: none;\n",
              "      border-radius: 50%;\n",
              "      cursor: pointer;\n",
              "      display: none;\n",
              "      fill: #1967D2;\n",
              "      height: 32px;\n",
              "      padding: 0 0 0 0;\n",
              "      width: 32px;\n",
              "    }\n",
              "\n",
              "    .colab-df-convert:hover {\n",
              "      background-color: #E2EBFA;\n",
              "      box-shadow: 0px 1px 2px rgba(60, 64, 67, 0.3), 0px 1px 3px 1px rgba(60, 64, 67, 0.15);\n",
              "      fill: #174EA6;\n",
              "    }\n",
              "\n",
              "    [theme=dark] .colab-df-convert {\n",
              "      background-color: #3B4455;\n",
              "      fill: #D2E3FC;\n",
              "    }\n",
              "\n",
              "    [theme=dark] .colab-df-convert:hover {\n",
              "      background-color: #434B5C;\n",
              "      box-shadow: 0px 1px 3px 1px rgba(0, 0, 0, 0.15);\n",
              "      filter: drop-shadow(0px 1px 2px rgba(0, 0, 0, 0.3));\n",
              "      fill: #FFFFFF;\n",
              "    }\n",
              "  </style>\n",
              "\n",
              "      <script>\n",
              "        const buttonEl =\n",
              "          document.querySelector('#df-d054c60f-b68c-4c67-9a8b-ff73b987f481 button.colab-df-convert');\n",
              "        buttonEl.style.display =\n",
              "          google.colab.kernel.accessAllowed ? 'block' : 'none';\n",
              "\n",
              "        async function convertToInteractive(key) {\n",
              "          const element = document.querySelector('#df-d054c60f-b68c-4c67-9a8b-ff73b987f481');\n",
              "          const dataTable =\n",
              "            await google.colab.kernel.invokeFunction('convertToInteractive',\n",
              "                                                     [key], {});\n",
              "          if (!dataTable) return;\n",
              "\n",
              "          const docLinkHtml = 'Like what you see? Visit the ' +\n",
              "            '<a target=\"_blank\" href=https://colab.research.google.com/notebooks/data_table.ipynb>data table notebook</a>'\n",
              "            + ' to learn more about interactive tables.';\n",
              "          element.innerHTML = '';\n",
              "          dataTable['output_type'] = 'display_data';\n",
              "          await google.colab.output.renderOutput(dataTable, element);\n",
              "          const docLink = document.createElement('div');\n",
              "          docLink.innerHTML = docLinkHtml;\n",
              "          element.appendChild(docLink);\n",
              "        }\n",
              "      </script>\n",
              "    </div>\n",
              "  </div>\n",
              "  "
            ]
          },
          "metadata": {},
          "execution_count": 54
        }
      ],
      "source": [
        "df.describe()"
      ]
    },
    {
      "cell_type": "code",
      "execution_count": null,
      "metadata": {
        "id": "lWG_9tL3e7o9",
        "outputId": "c7c9dbd8-57e8-4358-a6b9-3daafc5bf3c2",
        "colab": {
          "base_uri": "https://localhost:8080/",
          "height": 488
        }
      },
      "outputs": [
        {
          "output_type": "stream",
          "name": "stderr",
          "text": [
            "<ipython-input-55-c017efa619e9>:1: UserWarning: \n",
            "\n",
            "`distplot` is a deprecated function and will be removed in seaborn v0.14.0.\n",
            "\n",
            "Please adapt your code to use either `displot` (a figure-level function with\n",
            "similar flexibility) or `histplot` (an axes-level function for histograms).\n",
            "\n",
            "For a guide to updating your code to use the new functions, please see\n",
            "https://gist.github.com/mwaskom/de44147ed2974457ad6372750bbe5751\n",
            "\n",
            "  sns.distplot(df.total_word)\n"
          ]
        },
        {
          "output_type": "execute_result",
          "data": {
            "text/plain": [
              "<Axes: xlabel='total_word', ylabel='Density'>"
            ]
          },
          "metadata": {},
          "execution_count": 55
        },
        {
          "output_type": "display_data",
          "data": {
            "text/plain": [
              "<Figure size 432x288 with 1 Axes>"
            ],
            "image/png": "[encoded data removed]"
          },
          "metadata": {
            "needs_background": "light"
          }
        }
      ],
      "source": [
        "sns.distplot(df.total_word)"
      ]
    },
    {
      "cell_type": "code",
      "execution_count": null,
      "metadata": {
        "id": "MdQ0y-EOe7o9"
      },
      "outputs": [],
      "source": [
        "df['splitted_tweet'] = [tweet.split(\" \") for tweet in df['tweet']]"
      ]
    },
    {
      "cell_type": "code",
      "execution_count": null,
      "metadata": {
        "id": "GhfaL9ERe7o9"
      },
      "outputs": [],
      "source": [
        "count_of_words = {}\n",
        "for splitted_tweet in df['splitted_tweet']:\n",
        "    for word in splitted_tweet:\n",
        "        try:\n",
        "            count_of_words[word] += 1\n",
        "        except KeyError:\n",
        "            count_of_words[word] = 1\n",
        "#     break"
      ]
    },
    {
      "cell_type": "code",
      "execution_count": null,
      "metadata": {
        "id": "sm9QlO2ee7o-",
        "outputId": "c4c93393-f216-426c-d303-d827d74f2387",
        "colab": {
          "base_uri": "https://localhost:8080/"
        }
      },
      "outputs": [
        {
          "output_type": "stream",
          "name": "stdout",
          "text": [
            "('tempat', 3148)\n"
          ]
        }
      ],
      "source": [
        "for x in count_of_words.items():\n",
        "    print(x)\n",
        "    break"
      ]
    },
    {
      "cell_type": "code",
      "execution_count": null,
      "metadata": {
        "id": "A_9hhweGe7o-",
        "outputId": "89a8a294-9071-4c7f-ec02-be5ba3d79ac0",
        "colab": {
          "base_uri": "https://localhost:8080/",
          "height": 330
        }
      },
      "outputs": [
        {
          "output_type": "execute_result",
          "data": {
            "text/plain": [
              "<Axes: xlabel='label'>"
            ]
          },
          "metadata": {},
          "execution_count": 59
        },
        {
          "output_type": "display_data",
          "data": {
            "text/plain": [
              "<Figure size 432x288 with 1 Axes>"
            ],
            "image/png": "[encoded data removed]"
          },
          "metadata": {
            "needs_background": "light"
          }
        }
      ],
      "source": [
        "df.groupby('label').total_word.sum().plot(kind='bar')"
      ]
    },
    {
      "cell_type": "code",
      "execution_count": null,
      "metadata": {
        "id": "6osY8N-7e7o-",
        "outputId": "44de7d08-55a3-403a-f352-e18a79103949",
        "colab": {
          "base_uri": "https://localhost:8080/",
          "height": 330
        }
      },
      "outputs": [
        {
          "output_type": "execute_result",
          "data": {
            "text/plain": [
              "<Axes: xlabel='label'>"
            ]
          },
          "metadata": {},
          "execution_count": 60
        },
        {
          "output_type": "display_data",
          "data": {
            "text/plain": [
              "<Figure size 432x288 with 1 Axes>"
            ],
            "image/png": "[encoded data removed]"
          },
          "metadata": {
            "needs_background": "light"
          }
        }
      ],
      "source": [
        "df.groupby('label').total_word.mean().plot(kind='bar')"
      ]
    },
    {
      "cell_type": "code",
      "execution_count": null,
      "metadata": {
        "id": "DBSlhJEVe7o_",
        "outputId": "866240db-002f-41a5-8d1a-c43e2d22a066",
        "colab": {
          "base_uri": "https://localhost:8080/",
          "height": 330
        }
      },
      "outputs": [
        {
          "output_type": "execute_result",
          "data": {
            "text/plain": [
              "<Axes: xlabel='label'>"
            ]
          },
          "metadata": {},
          "execution_count": 61
        },
        {
          "output_type": "display_data",
          "data": {
            "text/plain": [
              "<Figure size 432x288 with 1 Axes>"
            ],
            "image/png": "[encoded data removed]"
          },
          "metadata": {
            "needs_background": "light"
          }
        }
      ],
      "source": [
        "df.groupby('label').total_word.median().plot(kind='bar')"
      ]
    },
    {
      "cell_type": "markdown",
      "metadata": {
        "id": "S8nUNAn9wCyx"
      },
      "source": [
        "## Univariate Analysis"
      ]
    },
    {
      "cell_type": "markdown",
      "metadata": {
        "id": "9g6QhDvSRYIH"
      },
      "source": [
        "### Descriptive Statistic"
      ]
    },
    {
      "cell_type": "code",
      "execution_count": null,
      "metadata": {
        "id": "9ZjYvi3Ce7pA"
      },
      "outputs": [],
      "source": [
        "#df = df.drop_duplicates()"
      ]
    },
    {
      "cell_type": "code",
      "execution_count": null,
      "metadata": {
        "scrolled": true,
        "id": "qySq8rhze7pA",
        "outputId": "34562614-c3a6-45cc-cd1b-f83830ebad8c",
        "colab": {
          "base_uri": "https://localhost:8080/"
        }
      },
      "outputs": [
        {
          "output_type": "stream",
          "name": "stdout",
          "text": [
            "33.0604674796748\n",
            "189.55609756097562\n"
          ]
        }
      ],
      "source": [
        "print(df['total_word'].mean())\n",
        "print(df['total_char'].mean())"
      ]
    },
    {
      "cell_type": "code",
      "execution_count": null,
      "metadata": {
        "id": "mltDOmSfe7pA",
        "outputId": "8441b17d-c358-47c0-b26a-2ef437f4ee23",
        "colab": {
          "base_uri": "https://localhost:8080/"
        }
      },
      "outputs": [
        {
          "output_type": "execute_result",
          "data": {
            "text/plain": [
              "total_word     33.060467\n",
              "total_char    189.556098\n",
              "dtype: float64"
            ]
          },
          "metadata": {},
          "execution_count": 67
        }
      ],
      "source": [
        "df[['total_word','total_char']].mean()"
      ]
    },
    {
      "cell_type": "code",
      "execution_count": null,
      "metadata": {
        "colab": {
          "base_uri": "https://localhost:8080/"
        },
        "id": "3QvuuNYm4Ub5",
        "outputId": "c4597955-8afe-4536-84c7-3db518125d1a"
      },
      "outputs": [
        {
          "output_type": "execute_result",
          "data": {
            "text/plain": [
              "total_word     28.0\n",
              "total_char    160.0\n",
              "dtype: float64"
            ]
          },
          "metadata": {},
          "execution_count": 68
        }
      ],
      "source": [
        "df[['total_word','total_char']].median()"
      ]
    },
    {
      "cell_type": "code",
      "execution_count": null,
      "metadata": {
        "colab": {
          "base_uri": "https://localhost:8080/",
          "height": 81
        },
        "id": "9Dwyt7Bf4Yle",
        "outputId": "4cadbc5e-815f-4114-b31c-362edfba7bd3",
        "scrolled": true
      },
      "outputs": [
        {
          "output_type": "execute_result",
          "data": {
            "text/plain": [
              "   total_word  total_char\n",
              "0          25         145"
            ],
            "text/html": [
              "\n",
              "  <div id=\"df-ce69092c-5a0f-4fbf-8f03-094334dcac23\">\n",
              "    <div class=\"colab-df-container\">\n",
              "      <div>\n",
              "<style scoped>\n",
              "    .dataframe tbody tr th:only-of-type {\n",
              "        vertical-align: middle;\n",
              "    }\n",
              "\n",
              "    .dataframe tbody tr th {\n",
              "        vertical-align: top;\n",
              "    }\n",
              "\n",
              "    .dataframe thead th {\n",
              "        text-align: right;\n",
              "    }\n",
              "</style>\n",
              "<table border=\"1\" class=\"dataframe\">\n",
              "  <thead>\n",
              "    <tr style=\"text-align: right;\">\n",
              "      <th></th>\n",
              "      <th>total_word</th>\n",
              "      <th>total_char</th>\n",
              "    </tr>\n",
              "  </thead>\n",
              "  <tbody>\n",
              "    <tr>\n",
              "      <th>0</th>\n",
              "      <td>25</td>\n",
              "      <td>145</td>\n",
              "    </tr>\n",
              "  </tbody>\n",
              "</table>\n",
              "</div>\n",
              "      <button class=\"colab-df-convert\" onclick=\"convertToInteractive('df-ce69092c-5a0f-4fbf-8f03-094334dcac23')\"\n",
              "              title=\"Convert this dataframe to an interactive table.\"\n",
              "              style=\"display:none;\">\n",
              "        \n",
              "  <svg xmlns=\"http://www.w3.org/2000/svg\" height=\"24px\"viewBox=\"0 0 24 24\"\n",
              "       width=\"24px\">\n",
              "    <path d=\"M0 0h24v24H0V0z\" fill=\"none\"/>\n",
              "    <path d=\"M18.56 5.44l.94 2.06.94-2.06 2.06-.94-2.06-.94-.94-2.06-.94 2.06-2.06.94zm-11 1L8.5 8.5l.94-2.06 2.06-.94-2.06-.94L8.5 2.5l-.94 2.06-2.06.94zm10 10l.94 2.06.94-2.06 2.06-.94-2.06-.94-.94-2.06-.94 2.06-2.06.94z\"/><path d=\"M17.41 7.96l-1.37-1.37c-.4-.4-.92-.59-1.43-.59-.52 0-1.04.2-1.43.59L10.3 9.45l-7.72 7.72c-.78.78-.78 2.05 0 2.83L4 21.41c.39.39.9.59 1.41.59.51 0 1.02-.2 1.41-.59l7.78-7.78 2.81-2.81c.8-.78.8-2.07 0-2.86zM5.41 20L4 18.59l7.72-7.72 1.47 1.35L5.41 20z\"/>\n",
              "  </svg>\n",
              "      </button>\n",
              "      \n",
              "  <style>\n",
              "    .colab-df-container {\n",
              "      display:flex;\n",
              "      flex-wrap:wrap;\n",
              "      gap: 12px;\n",
              "    }\n",
              "\n",
              "    .colab-df-convert {\n",
              "      background-color: #E8F0FE;\n",
              "      border: none;\n",
              "      border-radius: 50%;\n",
              "      cursor: pointer;\n",
              "      display: none;\n",
              "      fill: #1967D2;\n",
              "      height: 32px;\n",
              "      padding: 0 0 0 0;\n",
              "      width: 32px;\n",
              "    }\n",
              "\n",
              "    .colab-df-convert:hover {\n",
              "      background-color: #E2EBFA;\n",
              "      box-shadow: 0px 1px 2px rgba(60, 64, 67, 0.3), 0px 1px 3px 1px rgba(60, 64, 67, 0.15);\n",
              "      fill: #174EA6;\n",
              "    }\n",
              "\n",
              "    [theme=dark] .colab-df-convert {\n",
              "      background-color: #3B4455;\n",
              "      fill: #D2E3FC;\n",
              "    }\n",
              "\n",
              "    [theme=dark] .colab-df-convert:hover {\n",
              "      background-color: #434B5C;\n",
              "      box-shadow: 0px 1px 3px 1px rgba(0, 0, 0, 0.15);\n",
              "      filter: drop-shadow(0px 1px 2px rgba(0, 0, 0, 0.3));\n",
              "      fill: #FFFFFF;\n",
              "    }\n",
              "  </style>\n",
              "\n",
              "      <script>\n",
              "        const buttonEl =\n",
              "          document.querySelector('#df-ce69092c-5a0f-4fbf-8f03-094334dcac23 button.colab-df-convert');\n",
              "        buttonEl.style.display =\n",
              "          google.colab.kernel.accessAllowed ? 'block' : 'none';\n",
              "\n",
              "        async function convertToInteractive(key) {\n",
              "          const element = document.querySelector('#df-ce69092c-5a0f-4fbf-8f03-094334dcac23');\n",
              "          const dataTable =\n",
              "            await google.colab.kernel.invokeFunction('convertToInteractive',\n",
              "                                                     [key], {});\n",
              "          if (!dataTable) return;\n",
              "\n",
              "          const docLinkHtml = 'Like what you see? Visit the ' +\n",
              "            '<a target=\"_blank\" href=https://colab.research.google.com/notebooks/data_table.ipynb>data table notebook</a>'\n",
              "            + ' to learn more about interactive tables.';\n",
              "          element.innerHTML = '';\n",
              "          dataTable['output_type'] = 'display_data';\n",
              "          await google.colab.output.renderOutput(dataTable, element);\n",
              "          const docLink = document.createElement('div');\n",
              "          docLink.innerHTML = docLinkHtml;\n",
              "          element.appendChild(docLink);\n",
              "        }\n",
              "      </script>\n",
              "    </div>\n",
              "  </div>\n",
              "  "
            ]
          },
          "metadata": {},
          "execution_count": 69
        }
      ],
      "source": [
        "df[['total_word','total_char']].mode()"
      ]
    },
    {
      "cell_type": "code",
      "execution_count": null,
      "metadata": {
        "id": "bQnnNDbj5XRN"
      },
      "outputs": [],
      "source": []
    },
    {
      "cell_type": "markdown",
      "metadata": {
        "id": "8o0_RBpJeJ2Z"
      },
      "source": [
        "#### Measures of Spread\n",
        "Merupakan suatu cara untuk mendeskripsikan seberapa menyebar data yang ada."
      ]
    },
    {
      "cell_type": "code",
      "execution_count": null,
      "metadata": {
        "colab": {
          "base_uri": "https://localhost:8080/"
        },
        "id": "e2QVyuWI449D",
        "outputId": "943c30d0-df98-48c3-d74f-a7842a603e66"
      },
      "outputs": [
        {
          "output_type": "execute_result",
          "data": {
            "text/plain": [
              "total_word    109\n",
              "total_char    564\n",
              "dtype: int64"
            ]
          },
          "metadata": {},
          "execution_count": 70
        }
      ],
      "source": [
        "df[['total_word','total_char']].max() - df[['total_word','total_char']].min()"
      ]
    },
    {
      "cell_type": "code",
      "execution_count": null,
      "metadata": {
        "id": "du2Fa2T35tAl"
      },
      "outputs": [],
      "source": []
    },
    {
      "cell_type": "markdown",
      "metadata": {
        "id": "A3Pft2BCZXjX"
      },
      "source": [
        "Hasil dibawah menunjukkan nilai sisi bawah dari \"total_char\" tidak memiliki outlier, sedangkan sisi atas dari \"total_char\" memiliki outlier."
      ]
    },
    {
      "cell_type": "code",
      "execution_count": null,
      "metadata": {
        "id": "3nFOwG8ue7pC"
      },
      "outputs": [],
      "source": [
        "import numpy as np"
      ]
    },
    {
      "cell_type": "code",
      "execution_count": null,
      "metadata": {
        "colab": {
          "base_uri": "https://localhost:8080/"
        },
        "id": "LjVL4hkaVZeF",
        "outputId": "020a5fc3-4692-4d84-a609-28e4f2f2a33a",
        "scrolled": false
      },
      "outputs": [
        {
          "output_type": "stream",
          "name": "stdout",
          "text": [
            "Quartile 1 Total Char: 90.0\n",
            "Quartile 1 Total Word: 16.0\n",
            "Quartile 2 Total Char: 160.0\n",
            "Quartile 2 Total Word: 28.0\n",
            "Quartile 3 Total Char: 276.25\n",
            "Quartile 3 Total Word: 48.0\n",
            "IQR Total Char: 186.25\n",
            "IQR Total Word: 32.0\n",
            "Lower Limit Total Char: -189.375\n",
            "Lower Limit Total Word: -32.0\n",
            "Upper Limit Total Char: 555.625\n",
            "Upper Limit Total Word: 96.0\n",
            "Bottom Outlier: []\n",
            "Upper Outlier: [3593, 2538, 8851, 3102]\n"
          ]
        }
      ],
      "source": [
        "# Cari nilai minimum\n",
        "\n",
        "\n",
        "# Cari nilai maksimum\n",
        "\n",
        "\n",
        "# Cari Quartile 1\n",
        "quartile_1_char = np.quantile(df['total_char'],0.25)\n",
        "quartile_1_word = np.quantile(df['total_word'],0.25)\n",
        "\n",
        "print(f'Quartile 1 Total Char: {quartile_1_char}')\n",
        "print(f'Quartile 1 Total Word: {quartile_1_word}')\n",
        "\n",
        "# Cari Quartile 2\n",
        "quartile_2_char = np.quantile(df['total_char'],0.5)\n",
        "quartile_2_word = np.quantile(df['total_word'],0.5)\n",
        "print(f'Quartile 2 Total Char: {quartile_2_char}')\n",
        "print(f'Quartile 2 Total Word: {quartile_2_word}')\n",
        "\n",
        "# Cari Quartile 3\n",
        "quartile_3_char = np.quantile(df['total_char'],0.75)\n",
        "quartile_3_word = np.quantile(df['total_word'],0.75)\n",
        "print(f'Quartile 3 Total Char: {quartile_3_char}')\n",
        "print(f'Quartile 3 Total Word: {quartile_3_word}')\n",
        "\n",
        "# Cari IQR\n",
        "iqr_char = quartile_3_char - quartile_1_char\n",
        "iqr_word = quartile_3_word - quartile_1_word\n",
        "print(f'IQR Total Char: {iqr_char}')\n",
        "print(f'IQR Total Word: {iqr_word}')\n",
        "\n",
        "# Cari batas bawah\n",
        "lower_limit_char = quartile_1_char - (1.5*iqr_char)\n",
        "lower_limit_word = quartile_1_word - (1.5*iqr_word)\n",
        "\n",
        "print(f'Lower Limit Total Char: {lower_limit_char}')\n",
        "print(f'Lower Limit Total Word: {lower_limit_word}')\n",
        "# Cari batas atas\n",
        "upper_limit_char = quartile_3_char + (1.5*iqr_char)\n",
        "upper_limit_word = quartile_3_word + (1.5*iqr_word)\n",
        "\n",
        "print(f'Upper Limit Total Char: {upper_limit_char}')\n",
        "print(f'Upper Limit Total Word: {upper_limit_word}')\n",
        "\n",
        "# Cek apakah ada outlier dari batas bawah\n",
        "bottom_outlier_from_total_char = df.loc[df['total_char']<=lower_limit_char].index.to_list()\n",
        "bottom_outlier_from_total_word = df.loc[df['total_word']<=lower_limit_word].index.to_list()\n",
        "bottom_outlier = bottom_outlier_from_total_char + bottom_outlier_from_total_word\n",
        "bottom_outlier = list(set(bottom_outlier))\n",
        "print(f'Bottom Outlier: {bottom_outlier}')\n",
        "\n",
        "# Cek apa ada outlier dari batas atas\n",
        "upper_outlier_from_total_char = df.loc[df['total_char']>=upper_limit_char].index.to_list()\n",
        "upper_outlier_from_total_word = df.loc[df['total_word']>=upper_limit_word].index.to_list()\n",
        "upper_outlier = upper_outlier_from_total_char + upper_outlier_from_total_word\n",
        "upper_outlier = list(set(upper_outlier))\n",
        "print(f'Upper Outlier: {upper_outlier}')"
      ]
    },
    {
      "cell_type": "code",
      "execution_count": null,
      "metadata": {
        "id": "-T2EFCgle7pC"
      },
      "outputs": [],
      "source": [
        "df = df.drop(upper_outlier)"
      ]
    },
    {
      "cell_type": "code",
      "execution_count": null,
      "metadata": {
        "id": "0_x2fLmle7pD",
        "outputId": "e59534c0-cdee-4981-cf48-666562c4a2ba",
        "colab": {
          "base_uri": "https://localhost:8080/"
        }
      },
      "outputs": [
        {
          "output_type": "execute_result",
          "data": {
            "text/plain": [
              "33.03385522570151"
            ]
          },
          "metadata": {},
          "execution_count": 74
        }
      ],
      "source": [
        "df['total_word'].mean()"
      ]
    },
    {
      "cell_type": "code",
      "execution_count": null,
      "metadata": {
        "id": "3o_8wWPTe7pD",
        "outputId": "cc3b10fd-2deb-463e-d6dd-396b02a80653",
        "colab": {
          "base_uri": "https://localhost:8080/",
          "height": 488
        }
      },
      "outputs": [
        {
          "output_type": "stream",
          "name": "stderr",
          "text": [
            "<ipython-input-75-1faf0f71cb33>:1: UserWarning: \n",
            "\n",
            "`distplot` is a deprecated function and will be removed in seaborn v0.14.0.\n",
            "\n",
            "Please adapt your code to use either `displot` (a figure-level function with\n",
            "similar flexibility) or `histplot` (an axes-level function for histograms).\n",
            "\n",
            "For a guide to updating your code to use the new functions, please see\n",
            "https://gist.github.com/mwaskom/de44147ed2974457ad6372750bbe5751\n",
            "\n",
            "  sns.distplot(df['total_word'])\n"
          ]
        },
        {
          "output_type": "execute_result",
          "data": {
            "text/plain": [
              "<Axes: xlabel='total_word', ylabel='Density'>"
            ]
          },
          "metadata": {},
          "execution_count": 75
        },
        {
          "output_type": "display_data",
          "data": {
            "text/plain": [
              "<Figure size 432x288 with 1 Axes>"
            ],
            "image/png": "[encoded data removed]"
          },
          "metadata": {
            "needs_background": "light"
          }
        }
      ],
      "source": [
        "sns.distplot(df['total_word'])"
      ]
    },
    {
      "cell_type": "code",
      "execution_count": null,
      "metadata": {
        "colab": {
          "base_uri": "https://localhost:8080/"
        },
        "id": "aDjgOORt6UHA",
        "outputId": "ba4682a8-e61a-4ef6-9197-ea1db19f122a"
      },
      "outputs": [
        {
          "output_type": "execute_result",
          "data": {
            "text/plain": [
              "total_char    14605.055325\n",
              "total_word      446.852641\n",
              "dtype: float64"
            ]
          },
          "metadata": {},
          "execution_count": 76
        }
      ],
      "source": [
        "df[['total_char', 'total_word']].var()"
      ]
    },
    {
      "cell_type": "code",
      "execution_count": null,
      "metadata": {
        "colab": {
          "base_uri": "https://localhost:8080/"
        },
        "id": "CBr8y_rA7Io9",
        "outputId": "d1da6dd5-94bc-4f6c-ecc1-6e1d33676792"
      },
      "outputs": [
        {
          "output_type": "execute_result",
          "data": {
            "text/plain": [
              "total_char    120.851377\n",
              "total_word     21.138889\n",
              "dtype: float64"
            ]
          },
          "metadata": {},
          "execution_count": 77
        }
      ],
      "source": [
        "df[['total_char', 'total_word']].std()"
      ]
    },
    {
      "cell_type": "markdown",
      "metadata": {
        "id": "RZsZrTfXLmeX"
      },
      "source": [
        "#### Measures of Describe Shape of Distribution\n",
        "Merupakan suatu cara untuk mendeskripsikan distribusi data berdasarkan suatu grafik."
      ]
    },
    {
      "cell_type": "code",
      "execution_count": null,
      "metadata": {
        "colab": {
          "base_uri": "https://localhost:8080/"
        },
        "id": "Zx-V5Ud0NPAK",
        "outputId": "73be5071-7367-4db8-b691-6adfe89bec3d"
      },
      "outputs": [
        {
          "output_type": "execute_result",
          "data": {
            "text/plain": [
              "total_char    0.561633\n",
              "total_word    0.534772\n",
              "dtype: float64"
            ]
          },
          "metadata": {},
          "execution_count": 78
        }
      ],
      "source": [
        "df[['total_char', 'total_word']].skew()"
      ]
    },
    {
      "cell_type": "markdown",
      "metadata": {
        "id": "QtxzX2j-bxc_"
      },
      "source": [
        "#### Pie"
      ]
    },
    {
      "cell_type": "code",
      "execution_count": null,
      "metadata": {
        "id": "m-cGe69n7QW_"
      },
      "outputs": [],
      "source": [
        "import matplotlib.pyplot as plt"
      ]
    },
    {
      "cell_type": "code",
      "execution_count": null,
      "metadata": {
        "id": "tkKz6e8Ke7pH",
        "outputId": "618ebb73-0ffd-48a7-fa53-34f583a60e38",
        "colab": {
          "base_uri": "https://localhost:8080/"
        }
      },
      "outputs": [
        {
          "output_type": "execute_result",
          "data": {
            "text/plain": [
              "positive    5758\n",
              "negative    3061\n",
              "neutral     1017\n",
              "Name: label, dtype: int64"
            ]
          },
          "metadata": {},
          "execution_count": 80
        }
      ],
      "source": [
        "df['label'].value_counts()"
      ]
    },
    {
      "cell_type": "code",
      "execution_count": null,
      "metadata": {
        "id": "S4ISzKBXe7pH",
        "outputId": "ddc5fc2e-38cf-41d2-e3da-28db06935d30",
        "colab": {
          "base_uri": "https://localhost:8080/",
          "height": 352
        }
      },
      "outputs": [
        {
          "output_type": "execute_result",
          "data": {
            "text/plain": [
              "([<matplotlib.patches.Wedge at 0x7f18e0ac6490>,\n",
              "  <matplotlib.patches.Wedge at 0x7f18e0a65370>,\n",
              "  <matplotlib.patches.Wedge at 0x7f18e09a8490>],\n",
              " [Text(-0.29159537105240846, 1.0606470381709499, 'positive'),\n",
              "  Text(-0.06215344486204681, -1.098242664119265, 'negative'),\n",
              "  Text(1.042476544718992, -0.3510593307558585, 'neutral')])"
            ]
          },
          "metadata": {},
          "execution_count": 81
        },
        {
          "output_type": "display_data",
          "data": {
            "text/plain": [
              "<Figure size 432x288 with 1 Axes>"
            ],
            "image/png": "[encoded data removed]"
          },
          "metadata": {}
        }
      ],
      "source": [
        "plt.pie(df['label'].value_counts(), labels=df['label'].value_counts().index)"
      ]
    },
    {
      "cell_type": "markdown",
      "metadata": {
        "id": "1d3-UwCUvQIr"
      },
      "source": [
        "#### Histogram"
      ]
    },
    {
      "cell_type": "code",
      "execution_count": null,
      "metadata": {
        "id": "MDoHAbARe7pH",
        "outputId": "f5c2b2ca-4f9a-4409-b0f4-2a532f1f96b8",
        "colab": {
          "base_uri": "https://localhost:8080/"
        }
      },
      "outputs": [
        {
          "output_type": "execute_result",
          "data": {
            "text/plain": [
              "[3,\n",
              " 3,\n",
              " 3,\n",
              " 4,\n",
              " 4,\n",
              " 4,\n",
              " 4,\n",
              " 4,\n",
              " 4,\n",
              " 4,\n",
              " 5,\n",
              " 5,\n",
              " 5,\n",
              " 5,\n",
              " 5,\n",
              " 5,\n",
              " 5,\n",
              " 5,\n",
              " 5,\n",
              " 5,\n",
              " 5,\n",
              " 5,\n",
              " 5,\n",
              " 5,\n",
              " 5,\n",
              " 5,\n",
              " 5,\n",
              " 5,\n",
              " 5,\n",
              " 5,\n",
              " 5,\n",
              " 5,\n",
              " 5,\n",
              " 5,\n",
              " 5,\n",
              " 5,\n",
              " 5,\n",
              " 5,\n",
              " 5,\n",
              " 5,\n",
              " 5,\n",
              " 5,\n",
              " 5,\n",
              " 5,\n",
              " 5,\n",
              " 5,\n",
              " 5,\n",
              " 5,\n",
              " 5,\n",
              " 5,\n",
              " 5,\n",
              " 5,\n",
              " 5,\n",
              " 6,\n",
              " 6,\n",
              " 6,\n",
              " 6,\n",
              " 6,\n",
              " 6,\n",
              " 6,\n",
              " 6,\n",
              " 6,\n",
              " 6,\n",
              " 6,\n",
              " 6,\n",
              " 6,\n",
              " 6,\n",
              " 6,\n",
              " 6,\n",
              " 6,\n",
              " 6,\n",
              " 6,\n",
              " 7,\n",
              " 7,\n",
              " 7,\n",
              " 7,\n",
              " 7,\n",
              " 7,\n",
              " 7,\n",
              " 7,\n",
              " 7,\n",
              " 7,\n",
              " 7,\n",
              " 7,\n",
              " 7,\n",
              " 7,\n",
              " 7,\n",
              " 7,\n",
              " 7,\n",
              " 7,\n",
              " 7,\n",
              " 7,\n",
              " 8,\n",
              " 8,\n",
              " 8,\n",
              " 8,\n",
              " 8,\n",
              " 8,\n",
              " 8,\n",
              " 8,\n",
              " 8,\n",
              " 8,\n",
              " 8,\n",
              " 9,\n",
              " 9,\n",
              " 9,\n",
              " 9,\n",
              " 9,\n",
              " 9,\n",
              " 9,\n",
              " 9,\n",
              " 9,\n",
              " 9,\n",
              " 9,\n",
              " 9,\n",
              " 9,\n",
              " 9,\n",
              " 9,\n",
              " 10,\n",
              " 10,\n",
              " 10,\n",
              " 10,\n",
              " 10,\n",
              " 10,\n",
              " 10,\n",
              " 10,\n",
              " 10,\n",
              " 10,\n",
              " 10,\n",
              " 10,\n",
              " 10,\n",
              " 11,\n",
              " 11,\n",
              " 11,\n",
              " 11,\n",
              " 11,\n",
              " 11,\n",
              " 11,\n",
              " 11,\n",
              " 11,\n",
              " 11,\n",
              " 11,\n",
              " 11,\n",
              " 11,\n",
              " 11,\n",
              " 11,\n",
              " 11,\n",
              " 11,\n",
              " 11,\n",
              " 11,\n",
              " 11,\n",
              " 11,\n",
              " 11,\n",
              " 11,\n",
              " 11,\n",
              " 11,\n",
              " 11,\n",
              " 11,\n",
              " 11,\n",
              " 11,\n",
              " 11,\n",
              " 11,\n",
              " 11,\n",
              " 11,\n",
              " 11,\n",
              " 11,\n",
              " 11,\n",
              " 11,\n",
              " 11,\n",
              " 11,\n",
              " 11,\n",
              " 11,\n",
              " 11,\n",
              " 11,\n",
              " 11,\n",
              " 11,\n",
              " 11,\n",
              " 11,\n",
              " 11,\n",
              " 11,\n",
              " 11,\n",
              " 12,\n",
              " 12,\n",
              " 12,\n",
              " 12,\n",
              " 12,\n",
              " 12,\n",
              " 12,\n",
              " 12,\n",
              " 12,\n",
              " 12,\n",
              " 12,\n",
              " 12,\n",
              " 12,\n",
              " 12,\n",
              " 12,\n",
              " 12,\n",
              " 12,\n",
              " 12,\n",
              " 12,\n",
              " 12,\n",
              " 12,\n",
              " 12,\n",
              " 12,\n",
              " 12,\n",
              " 12,\n",
              " 12,\n",
              " 13,\n",
              " 13,\n",
              " 13,\n",
              " 13,\n",
              " 13,\n",
              " 13,\n",
              " 13,\n",
              " 13,\n",
              " 13,\n",
              " 13,\n",
              " 13,\n",
              " 13,\n",
              " 13,\n",
              " 13,\n",
              " 13,\n",
              " 13,\n",
              " 13,\n",
              " 13,\n",
              " 13,\n",
              " 13,\n",
              " 13,\n",
              " 13,\n",
              " 13,\n",
              " 14,\n",
              " 14,\n",
              " 14,\n",
              " 14,\n",
              " 14,\n",
              " 14,\n",
              " 14,\n",
              " 14,\n",
              " 14,\n",
              " 14,\n",
              " 14,\n",
              " 14,\n",
              " 14,\n",
              " 14,\n",
              " 15,\n",
              " 15,\n",
              " 15,\n",
              " 15,\n",
              " 15,\n",
              " 15,\n",
              " 15,\n",
              " 15,\n",
              " 15,\n",
              " 15,\n",
              " 15,\n",
              " 15,\n",
              " 15,\n",
              " 15,\n",
              " 16,\n",
              " 16,\n",
              " 16,\n",
              " 16,\n",
              " 16,\n",
              " 17,\n",
              " 17,\n",
              " 17,\n",
              " 17,\n",
              " 17,\n",
              " 18,\n",
              " 18,\n",
              " 18,\n",
              " 18,\n",
              " 18,\n",
              " 18,\n",
              " 18,\n",
              " 19,\n",
              " 19,\n",
              " 19,\n",
              " 20,\n",
              " 20,\n",
              " 20,\n",
              " 20,\n",
              " 20,\n",
              " 20,\n",
              " 20,\n",
              " 20,\n",
              " 21,\n",
              " 21,\n",
              " 21,\n",
              " 21,\n",
              " 22,\n",
              " 22,\n",
              " 22,\n",
              " 22,\n",
              " 22,\n",
              " 22,\n",
              " 22,\n",
              " 22,\n",
              " 23,\n",
              " 23,\n",
              " 23,\n",
              " 23,\n",
              " 23,\n",
              " 23,\n",
              " 24,\n",
              " 24,\n",
              " 24,\n",
              " 24,\n",
              " 24,\n",
              " 24,\n",
              " 24,\n",
              " 24,\n",
              " 24,\n",
              " 25,\n",
              " 25,\n",
              " 25,\n",
              " 25,\n",
              " 25,\n",
              " 25,\n",
              " 25,\n",
              " 25,\n",
              " 25,\n",
              " 25,\n",
              " 26,\n",
              " 26,\n",
              " 26,\n",
              " 26,\n",
              " 26,\n",
              " 26,\n",
              " 26,\n",
              " 26,\n",
              " 26,\n",
              " 26,\n",
              " 27,\n",
              " 27,\n",
              " 27,\n",
              " 27,\n",
              " 27,\n",
              " 27,\n",
              " 27,\n",
              " 27,\n",
              " 27,\n",
              " 28,\n",
              " 28,\n",
              " 28,\n",
              " 28,\n",
              " 28,\n",
              " 28,\n",
              " 28,\n",
              " 28,\n",
              " 28,\n",
              " 28,\n",
              " 28,\n",
              " 28,\n",
              " 28,\n",
              " 28,\n",
              " 29,\n",
              " 29,\n",
              " 29,\n",
              " 29,\n",
              " 29,\n",
              " 29,\n",
              " 29,\n",
              " 29,\n",
              " 29,\n",
              " 29,\n",
              " 29,\n",
              " 30,\n",
              " 30,\n",
              " 30,\n",
              " 30,\n",
              " 30,\n",
              " 30,\n",
              " 30,\n",
              " 30,\n",
              " 30,\n",
              " 30,\n",
              " 30,\n",
              " 30,\n",
              " 30,\n",
              " 30,\n",
              " 30,\n",
              " 30,\n",
              " 30,\n",
              " 30,\n",
              " 30,\n",
              " 31,\n",
              " 31,\n",
              " 31,\n",
              " 31,\n",
              " 31,\n",
              " 31,\n",
              " 31,\n",
              " 31,\n",
              " 31,\n",
              " 31,\n",
              " 31,\n",
              " 31,\n",
              " 31,\n",
              " 31,\n",
              " 31,\n",
              " 32,\n",
              " 32,\n",
              " 32,\n",
              " 32,\n",
              " 32,\n",
              " 32,\n",
              " 32,\n",
              " 32,\n",
              " 32,\n",
              " 32,\n",
              " 32,\n",
              " 32,\n",
              " 32,\n",
              " 32,\n",
              " 32,\n",
              " 32,\n",
              " 32,\n",
              " 32,\n",
              " 32,\n",
              " 32,\n",
              " 32,\n",
              " 32,\n",
              " 32,\n",
              " 33,\n",
              " 33,\n",
              " 33,\n",
              " 33,\n",
              " 33,\n",
              " 33,\n",
              " 33,\n",
              " 33,\n",
              " 33,\n",
              " 33,\n",
              " 33,\n",
              " 33,\n",
              " 33,\n",
              " 33,\n",
              " 33,\n",
              " 33,\n",
              " 33,\n",
              " 33,\n",
              " 33,\n",
              " 33,\n",
              " 33,\n",
              " 33,\n",
              " 33,\n",
              " 33,\n",
              " 33,\n",
              " 34,\n",
              " 34,\n",
              " 34,\n",
              " 34,\n",
              " 34,\n",
              " 34,\n",
              " 34,\n",
              " 34,\n",
              " 34,\n",
              " 34,\n",
              " 34,\n",
              " 34,\n",
              " 34,\n",
              " 34,\n",
              " 34,\n",
              " 34,\n",
              " 34,\n",
              " 34,\n",
              " 34,\n",
              " 34,\n",
              " 34,\n",
              " 35,\n",
              " 35,\n",
              " 35,\n",
              " 35,\n",
              " 35,\n",
              " 35,\n",
              " 35,\n",
              " 35,\n",
              " 35,\n",
              " 35,\n",
              " 35,\n",
              " 35,\n",
              " 35,\n",
              " 35,\n",
              " 35,\n",
              " 35,\n",
              " 35,\n",
              " 35,\n",
              " 35,\n",
              " 36,\n",
              " 36,\n",
              " 36,\n",
              " 36,\n",
              " 36,\n",
              " 36,\n",
              " 36,\n",
              " 36,\n",
              " 36,\n",
              " 36,\n",
              " 36,\n",
              " 36,\n",
              " 36,\n",
              " 36,\n",
              " 36,\n",
              " 36,\n",
              " 36,\n",
              " 36,\n",
              " 36,\n",
              " 36,\n",
              " 36,\n",
              " 36,\n",
              " 36,\n",
              " 37,\n",
              " 37,\n",
              " 37,\n",
              " 37,\n",
              " 37,\n",
              " 37,\n",
              " 37,\n",
              " 37,\n",
              " 37,\n",
              " 37,\n",
              " 37,\n",
              " 37,\n",
              " 37,\n",
              " 37,\n",
              " 37,\n",
              " 37,\n",
              " 37,\n",
              " 37,\n",
              " 37,\n",
              " 37,\n",
              " 37,\n",
              " 37,\n",
              " 37,\n",
              " 37,\n",
              " 37,\n",
              " 37,\n",
              " 37,\n",
              " 37,\n",
              " 38,\n",
              " 38,\n",
              " 38,\n",
              " 38,\n",
              " 38,\n",
              " 38,\n",
              " 38,\n",
              " 38,\n",
              " 38,\n",
              " 38,\n",
              " 38,\n",
              " 38,\n",
              " 38,\n",
              " 38,\n",
              " 38,\n",
              " 38,\n",
              " 38,\n",
              " 38,\n",
              " 38,\n",
              " 38,\n",
              " 38,\n",
              " 38,\n",
              " 38,\n",
              " 38,\n",
              " 38,\n",
              " 38,\n",
              " 38,\n",
              " 38,\n",
              " 38,\n",
              " 38,\n",
              " 39,\n",
              " 39,\n",
              " 39,\n",
              " 39,\n",
              " 39,\n",
              " 39,\n",
              " 39,\n",
              " 39,\n",
              " 39,\n",
              " 39,\n",
              " 39,\n",
              " 39,\n",
              " 39,\n",
              " 39,\n",
              " 39,\n",
              " 39,\n",
              " 39,\n",
              " 39,\n",
              " 39,\n",
              " 39,\n",
              " 39,\n",
              " 39,\n",
              " 39,\n",
              " 39,\n",
              " 39,\n",
              " 39,\n",
              " 39,\n",
              " 39,\n",
              " 39,\n",
              " 39,\n",
              " 39,\n",
              " 39,\n",
              " 39,\n",
              " 39,\n",
              " 40,\n",
              " 40,\n",
              " 40,\n",
              " 40,\n",
              " 40,\n",
              " 40,\n",
              " 40,\n",
              " 40,\n",
              " 40,\n",
              " 40,\n",
              " 40,\n",
              " 40,\n",
              " 40,\n",
              " 40,\n",
              " 40,\n",
              " 40,\n",
              " 40,\n",
              " 40,\n",
              " 40,\n",
              " 40,\n",
              " 40,\n",
              " 40,\n",
              " 40,\n",
              " 40,\n",
              " 40,\n",
              " 40,\n",
              " 40,\n",
              " 40,\n",
              " 40,\n",
              " 40,\n",
              " 40,\n",
              " 40,\n",
              " 40,\n",
              " 40,\n",
              " 40,\n",
              " 40,\n",
              " 41,\n",
              " 41,\n",
              " 41,\n",
              " 41,\n",
              " 41,\n",
              " 41,\n",
              " 41,\n",
              " 41,\n",
              " 41,\n",
              " 41,\n",
              " 41,\n",
              " 41,\n",
              " 41,\n",
              " 41,\n",
              " 41,\n",
              " 41,\n",
              " 41,\n",
              " 41,\n",
              " 41,\n",
              " 41,\n",
              " 41,\n",
              " 41,\n",
              " 41,\n",
              " 41,\n",
              " 41,\n",
              " 41,\n",
              " 41,\n",
              " 41,\n",
              " 41,\n",
              " 41,\n",
              " 41,\n",
              " 41,\n",
              " 41,\n",
              " 41,\n",
              " 41,\n",
              " 41,\n",
              " 41,\n",
              " 42,\n",
              " 42,\n",
              " 42,\n",
              " 42,\n",
              " 42,\n",
              " 42,\n",
              " 42,\n",
              " 42,\n",
              " 42,\n",
              " 42,\n",
              " 42,\n",
              " 42,\n",
              " 42,\n",
              " 42,\n",
              " 42,\n",
              " 42,\n",
              " 42,\n",
              " 42,\n",
              " 42,\n",
              " 42,\n",
              " 42,\n",
              " 42,\n",
              " 42,\n",
              " 42,\n",
              " 42,\n",
              " 42,\n",
              " 42,\n",
              " 43,\n",
              " 43,\n",
              " 43,\n",
              " 43,\n",
              " 43,\n",
              " 43,\n",
              " 43,\n",
              " 43,\n",
              " 43,\n",
              " 43,\n",
              " 43,\n",
              " 43,\n",
              " 43,\n",
              " 43,\n",
              " 43,\n",
              " 43,\n",
              " 43,\n",
              " 43,\n",
              " 43,\n",
              " 43,\n",
              " 43,\n",
              " 43,\n",
              " 43,\n",
              " 43,\n",
              " 43,\n",
              " 43,\n",
              " 43,\n",
              " 43,\n",
              " 43,\n",
              " 43,\n",
              " 43,\n",
              " 43,\n",
              " 43,\n",
              " 43,\n",
              " 43,\n",
              " 44,\n",
              " 44,\n",
              " 44,\n",
              " 44,\n",
              " 44,\n",
              " 44,\n",
              " 44,\n",
              " 44,\n",
              " 44,\n",
              " 44,\n",
              " 44,\n",
              " 44,\n",
              " 44,\n",
              " 44,\n",
              " 44,\n",
              " 44,\n",
              " 44,\n",
              " 44,\n",
              " 44,\n",
              " 44,\n",
              " 44,\n",
              " 44,\n",
              " 44,\n",
              " 44,\n",
              " 44,\n",
              " 44,\n",
              " 44,\n",
              " 44,\n",
              " 45,\n",
              " 45,\n",
              " 45,\n",
              " 45,\n",
              " 45,\n",
              " 45,\n",
              " 45,\n",
              " 45,\n",
              " 45,\n",
              " 45,\n",
              " 45,\n",
              " 45,\n",
              " 45,\n",
              " 45,\n",
              " 45,\n",
              " 45,\n",
              " 45,\n",
              " 45,\n",
              " 45,\n",
              " 45,\n",
              " 45,\n",
              " 45,\n",
              " 45,\n",
              " 45,\n",
              " 45,\n",
              " 45,\n",
              " 45,\n",
              " 45,\n",
              " 45,\n",
              " 45,\n",
              " 45,\n",
              " 45,\n",
              " 45,\n",
              " 45,\n",
              " 45,\n",
              " 45,\n",
              " 45,\n",
              " 45,\n",
              " 46,\n",
              " 46,\n",
              " 46,\n",
              " 46,\n",
              " 46,\n",
              " 46,\n",
              " 46,\n",
              " 46,\n",
              " 46,\n",
              " 46,\n",
              " 46,\n",
              " 46,\n",
              " 46,\n",
              " 46,\n",
              " 46,\n",
              " 46,\n",
              " 46,\n",
              " 46,\n",
              " 46,\n",
              " 46,\n",
              " 46,\n",
              " 46,\n",
              " 46,\n",
              " 46,\n",
              " 46,\n",
              " 46,\n",
              " 46,\n",
              " 46,\n",
              " 46,\n",
              " 46,\n",
              " 46,\n",
              " 47,\n",
              " 47,\n",
              " 47,\n",
              " 47,\n",
              " 47,\n",
              " 47,\n",
              " 47,\n",
              " 47,\n",
              " 47,\n",
              " 47,\n",
              " 47,\n",
              " 47,\n",
              " 47,\n",
              " 47,\n",
              " 47,\n",
              " 47,\n",
              " 47,\n",
              " 47,\n",
              " 47,\n",
              " 47,\n",
              " 47,\n",
              " 47,\n",
              " 47,\n",
              " 47,\n",
              " 47,\n",
              " 47,\n",
              " 47,\n",
              " 48,\n",
              " 48,\n",
              " 48,\n",
              " 48,\n",
              " 48,\n",
              " 48,\n",
              " 48,\n",
              " 48,\n",
              " 48,\n",
              " 48,\n",
              " 48,\n",
              " 48,\n",
              " 48,\n",
              " 48,\n",
              " 48,\n",
              " 48,\n",
              " 48,\n",
              " 48,\n",
              " 48,\n",
              " 48,\n",
              " 48,\n",
              " 48,\n",
              " 48,\n",
              " 48,\n",
              " 48,\n",
              " 48,\n",
              " 48,\n",
              " 48,\n",
              " 49,\n",
              " 49,\n",
              " 49,\n",
              " 49,\n",
              " 49,\n",
              " 49,\n",
              " 49,\n",
              " 49,\n",
              " 49,\n",
              " 49,\n",
              " 49,\n",
              " 49,\n",
              " 49,\n",
              " 49,\n",
              " 49,\n",
              " 49,\n",
              " 49,\n",
              " 49,\n",
              " 49,\n",
              " 49,\n",
              " 49,\n",
              " 49,\n",
              " 49,\n",
              " 49,\n",
              " 49,\n",
              " 49,\n",
              " 49,\n",
              " 49,\n",
              " 49,\n",
              " 49,\n",
              " 49,\n",
              " 49,\n",
              " 49,\n",
              " 49,\n",
              " 49,\n",
              " 49,\n",
              " 49,\n",
              " 49,\n",
              " 49,\n",
              " 49,\n",
              " 49,\n",
              " 49,\n",
              " 49,\n",
              " 49,\n",
              " 50,\n",
              " 50,\n",
              " 50,\n",
              " 50,\n",
              " 50,\n",
              " 50,\n",
              " 50,\n",
              " 50,\n",
              " 50,\n",
              " 50,\n",
              " 50,\n",
              " 50,\n",
              " 50,\n",
              " 50,\n",
              " 50,\n",
              " 50,\n",
              " 50,\n",
              " 50,\n",
              " 50,\n",
              " 50,\n",
              " 50,\n",
              " 50,\n",
              " 50,\n",
              " 50,\n",
              " 50,\n",
              " 50,\n",
              " 50,\n",
              " 50,\n",
              " 50,\n",
              " 50,\n",
              " 50,\n",
              " 50,\n",
              " 50,\n",
              " 50,\n",
              " 50,\n",
              " 50,\n",
              " 50,\n",
              " 50,\n",
              " 50,\n",
              " 51,\n",
              " 51,\n",
              " 51,\n",
              " 51,\n",
              " 51,\n",
              " 51,\n",
              " 51,\n",
              " 51,\n",
              " 51,\n",
              " 51,\n",
              " 51,\n",
              " 51,\n",
              " 51,\n",
              " 51,\n",
              " 51,\n",
              " 51,\n",
              " 51,\n",
              " 51,\n",
              " 51,\n",
              " 51,\n",
              " 51,\n",
              " 51,\n",
              " 51,\n",
              " 51,\n",
              " 51,\n",
              " 51,\n",
              " ...]"
            ]
          },
          "metadata": {},
          "execution_count": 82
        }
      ],
      "source": [
        "sorted(df['total_char'])"
      ]
    },
    {
      "cell_type": "code",
      "execution_count": null,
      "metadata": {
        "colab": {
          "base_uri": "https://localhost:8080/",
          "height": 387
        },
        "id": "V89wAD5reP65",
        "outputId": "6f2e0738-46a6-4351-f228-0335448b8a3c"
      },
      "outputs": [
        {
          "output_type": "execute_result",
          "data": {
            "text/plain": [
              "(array([ 367.,  848.,  992.,  829., 1001.,  953.,  686.,  590.,  556.,\n",
              "         432.,  413.,  343.,  311.,  376.,  448.,  407.,  208.,   55.,\n",
              "          15.,    6.]),\n",
              " array([  3.  ,  29.55,  56.1 ,  82.65, 109.2 , 135.75, 162.3 , 188.85,\n",
              "        215.4 , 241.95, 268.5 , 295.05, 321.6 , 348.15, 374.7 , 401.25,\n",
              "        427.8 , 454.35, 480.9 , 507.45, 534.  ]),\n",
              " <BarContainer object of 20 artists>)"
            ]
          },
          "metadata": {},
          "execution_count": 83
        },
        {
          "output_type": "display_data",
          "data": {
            "text/plain": [
              "<Figure size 432x288 with 1 Axes>"
            ],
            "image/png": "[encoded data removed]"
          },
          "metadata": {
            "needs_background": "light"
          }
        }
      ],
      "source": [
        "plt.hist(df['total_char'],bins=20)"
      ]
    },
    {
      "cell_type": "markdown",
      "metadata": {
        "id": "nZ6S84HmbfGx"
      },
      "source": [
        "Berikut contoh visualisasi Histogram untuk melihat persebaran jumlah word (total_word).\n",
        "\n",
        "Berdasarkan gambar di bawah terlihat rata-rata panjang kata dari data teks yang kita miliki ada pada sekitar 20-40 kata."
      ]
    },
    {
      "cell_type": "code",
      "execution_count": null,
      "metadata": {
        "colab": {
          "base_uri": "https://localhost:8080/",
          "height": 369
        },
        "id": "WX2kripG2VpS",
        "outputId": "4aff695b-0832-4d35-deca-614c727d973e"
      },
      "outputs": [
        {
          "output_type": "execute_result",
          "data": {
            "text/plain": [
              "(array([ 421., 1049.,  956.,  692., 1058.,  970.,  590.,  613.,  567.,\n",
              "         385.,  431.,  375.,  356.,  340.,  533.,  339.,  108.,   33.,\n",
              "          13.,    7.]),\n",
              " array([ 1. ,  5.7, 10.4, 15.1, 19.8, 24.5, 29.2, 33.9, 38.6, 43.3, 48. ,\n",
              "        52.7, 57.4, 62.1, 66.8, 71.5, 76.2, 80.9, 85.6, 90.3, 95. ]),\n",
              " <BarContainer object of 20 artists>)"
            ]
          },
          "metadata": {},
          "execution_count": 84
        },
        {
          "output_type": "display_data",
          "data": {
            "text/plain": [
              "<Figure size 432x288 with 1 Axes>"
            ],
            "image/png": "[encoded data removed]"
          },
          "metadata": {
            "needs_background": "light"
          }
        }
      ],
      "source": [
        "plt.hist(df['total_word'],bins=20)"
      ]
    },
    {
      "cell_type": "markdown",
      "metadata": {
        "id": "nn-m7FUFeFu0"
      },
      "source": [
        "##### Histogram & Filter Sentiment"
      ]
    },
    {
      "cell_type": "code",
      "execution_count": null,
      "metadata": {
        "colab": {
          "base_uri": "https://localhost:8080/",
          "height": 337
        },
        "id": "75SJlj3udmsN",
        "outputId": "5bb2871f-e1d7-4b85-ba6d-56c26b8d212c"
      },
      "outputs": [
        {
          "output_type": "execute_result",
          "data": {
            "text/plain": [
              "(array([ 317.,  355., 1152.,  974.,  775.,  619.,  586.,  740.,  227.,\n",
              "          13.]),\n",
              " array([  4.,  57., 110., 163., 216., 269., 322., 375., 428., 481., 534.]),\n",
              " <BarContainer object of 10 artists>)"
            ]
          },
          "metadata": {},
          "execution_count": 85
        },
        {
          "output_type": "display_data",
          "data": {
            "text/plain": [
              "<Figure size 432x288 with 1 Axes>"
            ],
            "image/png": "[encoded data removed]"
          },
          "metadata": {
            "needs_background": "light"
          }
        }
      ],
      "source": [
        "plt.hist(df.loc[df.label == 'positive']['total_char'])"
      ]
    },
    {
      "cell_type": "code",
      "execution_count": null,
      "metadata": {
        "id": "QK9GRGRBe7pJ",
        "outputId": "a4129775-b82a-47e9-993c-2554ee1986d9",
        "colab": {
          "base_uri": "https://localhost:8080/",
          "height": 334
        }
      },
      "outputs": [
        {
          "output_type": "execute_result",
          "data": {
            "text/plain": [
              "(array([627., 913., 665., 274., 188., 133.,  92., 111.,  49.,   9.]),\n",
              " array([  3. ,  55.3, 107.6, 159.9, 212.2, 264.5, 316.8, 369.1, 421.4,\n",
              "        473.7, 526. ]),\n",
              " <BarContainer object of 10 artists>)"
            ]
          },
          "metadata": {},
          "execution_count": 86
        },
        {
          "output_type": "display_data",
          "data": {
            "text/plain": [
              "<Figure size 432x288 with 1 Axes>"
            ],
            "image/png": "[encoded data removed]"
          },
          "metadata": {
            "needs_background": "light"
          }
        }
      ],
      "source": [
        "plt.hist(df.loc[df.label == 'negative']['total_char'])"
      ]
    },
    {
      "cell_type": "code",
      "execution_count": null,
      "metadata": {
        "colab": {
          "base_uri": "https://localhost:8080/",
          "height": 334
        },
        "id": "wx55IZRMdwLU",
        "outputId": "7fe8e914-a280-484c-ea6e-7997952790da"
      },
      "outputs": [
        {
          "output_type": "execute_result",
          "data": {
            "text/plain": [
              "(array([255., 464., 161.,  71.,  26.,  24.,   7.,   2.,   4.,   3.]),\n",
              " array([ 17. ,  56.6,  96.2, 135.8, 175.4, 215. , 254.6, 294.2, 333.8,\n",
              "        373.4, 413. ]),\n",
              " <BarContainer object of 10 artists>)"
            ]
          },
          "metadata": {},
          "execution_count": 87
        },
        {
          "output_type": "display_data",
          "data": {
            "text/plain": [
              "<Figure size 432x288 with 1 Axes>"
            ],
            "image/png": "[encoded data removed]"
          },
          "metadata": {
            "needs_background": "light"
          }
        }
      ],
      "source": [
        "plt.hist(df.loc[df.label == 'neutral']['total_char'])"
      ]
    },
    {
      "cell_type": "code",
      "execution_count": null,
      "metadata": {
        "id": "4xWiUpERd2rC"
      },
      "outputs": [],
      "source": []
    },
    {
      "cell_type": "markdown",
      "metadata": {
        "id": "dhwRxyEof7fj"
      },
      "source": [
        "#### Wordcloud"
      ]
    },
    {
      "cell_type": "code",
      "execution_count": null,
      "metadata": {
        "scrolled": true,
        "id": "KMkr1nb6e7pJ",
        "outputId": "d0571e2c-490a-409a-e870-92bf2a655611",
        "colab": {
          "base_uri": "https://localhost:8080/"
        }
      },
      "outputs": [
        {
          "output_type": "stream",
          "name": "stdout",
          "text": [
            "Looking in indexes: https://pypi.org/simple, https://us-python.pkg.dev/colab-wheels/public/simple/\n",
            "Requirement already satisfied: wordcloud in /usr/local/lib/python3.9/dist-packages (1.8.2.2)\n",
            "Requirement already satisfied: pillow in /usr/local/lib/python3.9/dist-packages (from wordcloud) (8.4.0)\n",
            "Requirement already satisfied: numpy>=1.6.1 in /usr/local/lib/python3.9/dist-packages (from wordcloud) (1.22.4)\n",
            "Requirement already satisfied: matplotlib in /usr/local/lib/python3.9/dist-packages (from wordcloud) (3.7.1)\n",
            "Requirement already satisfied: importlib-resources>=3.2.0 in /usr/local/lib/python3.9/dist-packages (from matplotlib->wordcloud) (5.12.0)\n",
            "Requirement already satisfied: contourpy>=1.0.1 in /usr/local/lib/python3.9/dist-packages (from matplotlib->wordcloud) (1.0.7)\n",
            "Requirement already satisfied: fonttools>=4.22.0 in /usr/local/lib/python3.9/dist-packages (from matplotlib->wordcloud) (4.39.0)\n",
            "Requirement already satisfied: python-dateutil>=2.7 in /usr/local/lib/python3.9/dist-packages (from matplotlib->wordcloud) (2.8.2)\n",
            "Requirement already satisfied: cycler>=0.10 in /usr/local/lib/python3.9/dist-packages (from matplotlib->wordcloud) (0.11.0)\n",
            "Requirement already satisfied: kiwisolver>=1.0.1 in /usr/local/lib/python3.9/dist-packages (from matplotlib->wordcloud) (1.4.4)\n",
            "Requirement already satisfied: packaging>=20.0 in /usr/local/lib/python3.9/dist-packages (from matplotlib->wordcloud) (23.0)\n",
            "Requirement already satisfied: pyparsing>=2.3.1 in /usr/local/lib/python3.9/dist-packages (from matplotlib->wordcloud) (3.0.9)\n",
            "Requirement already satisfied: zipp>=3.1.0 in /usr/local/lib/python3.9/dist-packages (from importlib-resources>=3.2.0->matplotlib->wordcloud) (3.15.0)\n",
            "Requirement already satisfied: six>=1.5 in /usr/local/lib/python3.9/dist-packages (from python-dateutil>=2.7->matplotlib->wordcloud) (1.15.0)\n"
          ]
        }
      ],
      "source": [
        "!pip install wordcloud"
      ]
    },
    {
      "cell_type": "code",
      "execution_count": null,
      "metadata": {
        "id": "ULgqyMDNe7pK"
      },
      "outputs": [],
      "source": [
        "from wordcloud import WordCloud"
      ]
    },
    {
      "cell_type": "code",
      "execution_count": null,
      "metadata": {
        "id": "GiGZaGjBf32m"
      },
      "outputs": [],
      "source": [
        "# Visualisasi Wordcloud\n",
        "full_text = \" \".join(df['tweet'])\n",
        "wordcloud = WordCloud().generate(full_text)"
      ]
    },
    {
      "cell_type": "code",
      "execution_count": null,
      "metadata": {
        "id": "3C6_tNgxe7pK",
        "outputId": "3370dacf-3f97-48dc-a7e8-5dc6643c22dd",
        "colab": {
          "base_uri": "https://localhost:8080/",
          "height": 219
        }
      },
      "outputs": [
        {
          "output_type": "display_data",
          "data": {
            "text/plain": [
              "<Figure size 432x288 with 1 Axes>"
            ],
            "image/png": "[encoded data removed]"
          },
          "metadata": {
            "needs_background": "light"
          }
        }
      ],
      "source": [
        "plt.imshow(wordcloud)\n",
        "plt.show()"
      ]
    },
    {
      "cell_type": "markdown",
      "metadata": {
        "id": "GbrOPaJZgjt3"
      },
      "source": [
        "##### Wordcloud & Filter Sentiment"
      ]
    },
    {
      "cell_type": "code",
      "execution_count": null,
      "metadata": {
        "colab": {
          "base_uri": "https://localhost:8080/",
          "height": 219
        },
        "id": "dyf0Axf1gorN",
        "outputId": "2076329e-5a2d-45f0-e566-fefde4b5a86b"
      },
      "outputs": [
        {
          "output_type": "display_data",
          "data": {
            "text/plain": [
              "<Figure size 432x288 with 1 Axes>"
            ],
            "image/png": "[encoded data removed]"
          },
          "metadata": {
            "needs_background": "light"
          }
        }
      ],
      "source": [
        "# Visualisasi Wordcloud sentiment negatif\n",
        "full_text = \" \".join(df.loc[df.label == 'negative']['tweet'])\n",
        "wordcloud = WordCloud().generate(full_text)\n",
        "\n",
        "plt.imshow(wordcloud)\n",
        "plt.show()"
      ]
    },
    {
      "cell_type": "code",
      "execution_count": null,
      "metadata": {
        "colab": {
          "base_uri": "https://localhost:8080/",
          "height": 219
        },
        "id": "IXnEadW5gywP",
        "outputId": "14ae6960-e820-4bf8-8b96-0d7d2bbfd8d9"
      },
      "outputs": [
        {
          "output_type": "display_data",
          "data": {
            "text/plain": [
              "<Figure size 432x288 with 1 Axes>"
            ],
            "image/png": "[encoded data removed]"
          },
          "metadata": {
            "needs_background": "light"
          }
        }
      ],
      "source": [
        "# Visualisasi Wordcloud sentiment neutral\n",
        "\n",
        "full_text = \" \".join(df.loc[df.label == 'neutral']['tweet'])\n",
        "wordcloud = WordCloud().generate(full_text)\n",
        "\n",
        "plt.imshow(wordcloud)\n",
        "plt.show()"
      ]
    },
    {
      "cell_type": "code",
      "execution_count": null,
      "metadata": {
        "colab": {
          "base_uri": "https://localhost:8080/",
          "height": 219
        },
        "id": "E_L77A_ahBYH",
        "outputId": "74e411b4-8851-4421-e234-8041f1c44e84"
      },
      "outputs": [
        {
          "output_type": "display_data",
          "data": {
            "text/plain": [
              "<Figure size 432x288 with 1 Axes>"
            ],
            "image/png": "[encoded data removed]"
          },
          "metadata": {
            "needs_background": "light"
          }
        }
      ],
      "source": [
        "# Visualisasi Wordcloud sentiment positif\n",
        "full_text = \" \".join(df.loc[df.label == 'positive']['tweet'])\n",
        "wordcloud = WordCloud().generate(full_text)\n",
        "\n",
        "plt.imshow(wordcloud)\n",
        "plt.show()"
      ]
    },
    {
      "cell_type": "markdown",
      "metadata": {
        "id": "vrEgt214e7pM"
      },
      "source": [
        "# Analisa Korelasi Kata 'Enak' dengan label positive"
      ]
    },
    {
      "cell_type": "code",
      "execution_count": null,
      "metadata": {
        "id": "1mmAfjaze7pM"
      },
      "outputs": [],
      "source": [
        "df['apakah_ada_kata_enak'] = df['tweet'].apply(lambda x: 1 if \"saya\" in x else 0)"
      ]
    },
    {
      "cell_type": "code",
      "execution_count": null,
      "metadata": {
        "id": "NMCpUdrGe7pM"
      },
      "outputs": [],
      "source": [
        "df['is_label_positive'] = df['label'].apply(lambda x: 1 if x == \"positive\" else 0)"
      ]
    },
    {
      "cell_type": "code",
      "execution_count": null,
      "metadata": {
        "id": "-Vk-FqAge7pM",
        "outputId": "c731251c-8a9b-46b7-b7a7-700ade6e0621",
        "colab": {
          "base_uri": "https://localhost:8080/",
          "height": 112
        }
      },
      "outputs": [
        {
          "output_type": "execute_result",
          "data": {
            "text/plain": [
              "                      apakah_ada_kata_enak  is_label_positive\n",
              "apakah_ada_kata_enak              1.000000           0.174012\n",
              "is_label_positive                 0.174012           1.000000"
            ],
            "text/html": [
              "\n",
              "  <div id=\"df-3948a131-5d70-48f2-ae87-6e92a8a88236\">\n",
              "    <div class=\"colab-df-container\">\n",
              "      <div>\n",
              "<style scoped>\n",
              "    .dataframe tbody tr th:only-of-type {\n",
              "        vertical-align: middle;\n",
              "    }\n",
              "\n",
              "    .dataframe tbody tr th {\n",
              "        vertical-align: top;\n",
              "    }\n",
              "\n",
              "    .dataframe thead th {\n",
              "        text-align: right;\n",
              "    }\n",
              "</style>\n",
              "<table border=\"1\" class=\"dataframe\">\n",
              "  <thead>\n",
              "    <tr style=\"text-align: right;\">\n",
              "      <th></th>\n",
              "      <th>apakah_ada_kata_enak</th>\n",
              "      <th>is_label_positive</th>\n",
              "    </tr>\n",
              "  </thead>\n",
              "  <tbody>\n",
              "    <tr>\n",
              "      <th>apakah_ada_kata_enak</th>\n",
              "      <td>1.000000</td>\n",
              "      <td>0.174012</td>\n",
              "    </tr>\n",
              "    <tr>\n",
              "      <th>is_label_positive</th>\n",
              "      <td>0.174012</td>\n",
              "      <td>1.000000</td>\n",
              "    </tr>\n",
              "  </tbody>\n",
              "</table>\n",
              "</div>\n",
              "      <button class=\"colab-df-convert\" onclick=\"convertToInteractive('df-3948a131-5d70-48f2-ae87-6e92a8a88236')\"\n",
              "              title=\"Convert this dataframe to an interactive table.\"\n",
              "              style=\"display:none;\">\n",
              "        \n",
              "  <svg xmlns=\"http://www.w3.org/2000/svg\" height=\"24px\"viewBox=\"0 0 24 24\"\n",
              "       width=\"24px\">\n",
              "    <path d=\"M0 0h24v24H0V0z\" fill=\"none\"/>\n",
              "    <path d=\"M18.56 5.44l.94 2.06.94-2.06 2.06-.94-2.06-.94-.94-2.06-.94 2.06-2.06.94zm-11 1L8.5 8.5l.94-2.06 2.06-.94-2.06-.94L8.5 2.5l-.94 2.06-2.06.94zm10 10l.94 2.06.94-2.06 2.06-.94-2.06-.94-.94-2.06-.94 2.06-2.06.94z\"/><path d=\"M17.41 7.96l-1.37-1.37c-.4-.4-.92-.59-1.43-.59-.52 0-1.04.2-1.43.59L10.3 9.45l-7.72 7.72c-.78.78-.78 2.05 0 2.83L4 21.41c.39.39.9.59 1.41.59.51 0 1.02-.2 1.41-.59l7.78-7.78 2.81-2.81c.8-.78.8-2.07 0-2.86zM5.41 20L4 18.59l7.72-7.72 1.47 1.35L5.41 20z\"/>\n",
              "  </svg>\n",
              "      </button>\n",
              "      \n",
              "  <style>\n",
              "    .colab-df-container {\n",
              "      display:flex;\n",
              "      flex-wrap:wrap;\n",
              "      gap: 12px;\n",
              "    }\n",
              "\n",
              "    .colab-df-convert {\n",
              "      background-color: #E8F0FE;\n",
              "      border: none;\n",
              "      border-radius: 50%;\n",
              "      cursor: pointer;\n",
              "      display: none;\n",
              "      fill: #1967D2;\n",
              "      height: 32px;\n",
              "      padding: 0 0 0 0;\n",
              "      width: 32px;\n",
              "    }\n",
              "\n",
              "    .colab-df-convert:hover {\n",
              "      background-color: #E2EBFA;\n",
              "      box-shadow: 0px 1px 2px rgba(60, 64, 67, 0.3), 0px 1px 3px 1px rgba(60, 64, 67, 0.15);\n",
              "      fill: #174EA6;\n",
              "    }\n",
              "\n",
              "    [theme=dark] .colab-df-convert {\n",
              "      background-color: #3B4455;\n",
              "      fill: #D2E3FC;\n",
              "    }\n",
              "\n",
              "    [theme=dark] .colab-df-convert:hover {\n",
              "      background-color: #434B5C;\n",
              "      box-shadow: 0px 1px 3px 1px rgba(0, 0, 0, 0.15);\n",
              "      filter: drop-shadow(0px 1px 2px rgba(0, 0, 0, 0.3));\n",
              "      fill: #FFFFFF;\n",
              "    }\n",
              "  </style>\n",
              "\n",
              "      <script>\n",
              "        const buttonEl =\n",
              "          document.querySelector('#df-3948a131-5d70-48f2-ae87-6e92a8a88236 button.colab-df-convert');\n",
              "        buttonEl.style.display =\n",
              "          google.colab.kernel.accessAllowed ? 'block' : 'none';\n",
              "\n",
              "        async function convertToInteractive(key) {\n",
              "          const element = document.querySelector('#df-3948a131-5d70-48f2-ae87-6e92a8a88236');\n",
              "          const dataTable =\n",
              "            await google.colab.kernel.invokeFunction('convertToInteractive',\n",
              "                                                     [key], {});\n",
              "          if (!dataTable) return;\n",
              "\n",
              "          const docLinkHtml = 'Like what you see? Visit the ' +\n",
              "            '<a target=\"_blank\" href=https://colab.research.google.com/notebooks/data_table.ipynb>data table notebook</a>'\n",
              "            + ' to learn more about interactive tables.';\n",
              "          element.innerHTML = '';\n",
              "          dataTable['output_type'] = 'display_data';\n",
              "          await google.colab.output.renderOutput(dataTable, element);\n",
              "          const docLink = document.createElement('div');\n",
              "          docLink.innerHTML = docLinkHtml;\n",
              "          element.appendChild(docLink);\n",
              "        }\n",
              "      </script>\n",
              "    </div>\n",
              "  </div>\n",
              "  "
            ]
          },
          "metadata": {},
          "execution_count": 97
        }
      ],
      "source": [
        "df[['apakah_ada_kata_enak', 'is_label_positive']].corr()"
      ]
    },
    {
      "cell_type": "code",
      "execution_count": null,
      "metadata": {
        "id": "Azs0V1m0e7pN",
        "outputId": "74421023-f962-4f54-84bc-d23ee95ebf77",
        "colab": {
          "base_uri": "https://localhost:8080/",
          "height": 424
        }
      },
      "outputs": [
        {
          "output_type": "execute_result",
          "data": {
            "text/plain": [
              "                                                  tweet\n",
              "0     tempat yang nyaman untuk berkumpul dengan tema...\n",
              "1     memang banyak bacot sih , omongan doang gede b...\n",
              "2     buat yang berkunjung ke bandung , yang ingin m...\n",
              "3     restoran menyajikan makanan khas sunda yang en...\n",
              "4     kalau travelling ke bandung , wajib makan bata...\n",
              "...                                                 ...\n",
              "9894  tiap kegaduhan melanda presiden sowan ke prabo...\n",
              "9895  warung nasi ampera memiliki konsep rumah makan...\n",
              "9896  mbak della sangat baik dan ramah , makanna nya...\n",
              "9897  suasana nya sangat romantis jika makan malam d...\n",
              "9899  mau itu pak ridwan kamil atau pak dedi mulyadi...\n",
              "\n",
              "[9836 rows x 1 columns]"
            ],
            "text/html": [
              "\n",
              "  <div id=\"df-9af007b4-df79-487a-924c-61088df92b75\">\n",
              "    <div class=\"colab-df-container\">\n",
              "      <div>\n",
              "<style scoped>\n",
              "    .dataframe tbody tr th:only-of-type {\n",
              "        vertical-align: middle;\n",
              "    }\n",
              "\n",
              "    .dataframe tbody tr th {\n",
              "        vertical-align: top;\n",
              "    }\n",
              "\n",
              "    .dataframe thead th {\n",
              "        text-align: right;\n",
              "    }\n",
              "</style>\n",
              "<table border=\"1\" class=\"dataframe\">\n",
              "  <thead>\n",
              "    <tr style=\"text-align: right;\">\n",
              "      <th></th>\n",
              "      <th>tweet</th>\n",
              "    </tr>\n",
              "  </thead>\n",
              "  <tbody>\n",
              "    <tr>\n",
              "      <th>0</th>\n",
              "      <td>tempat yang nyaman untuk berkumpul dengan tema...</td>\n",
              "    </tr>\n",
              "    <tr>\n",
              "      <th>1</th>\n",
              "      <td>memang banyak bacot sih , omongan doang gede b...</td>\n",
              "    </tr>\n",
              "    <tr>\n",
              "      <th>2</th>\n",
              "      <td>buat yang berkunjung ke bandung , yang ingin m...</td>\n",
              "    </tr>\n",
              "    <tr>\n",
              "      <th>3</th>\n",
              "      <td>restoran menyajikan makanan khas sunda yang en...</td>\n",
              "    </tr>\n",
              "    <tr>\n",
              "      <th>4</th>\n",
              "      <td>kalau travelling ke bandung , wajib makan bata...</td>\n",
              "    </tr>\n",
              "    <tr>\n",
              "      <th>...</th>\n",
              "      <td>...</td>\n",
              "    </tr>\n",
              "    <tr>\n",
              "      <th>9894</th>\n",
              "      <td>tiap kegaduhan melanda presiden sowan ke prabo...</td>\n",
              "    </tr>\n",
              "    <tr>\n",
              "      <th>9895</th>\n",
              "      <td>warung nasi ampera memiliki konsep rumah makan...</td>\n",
              "    </tr>\n",
              "    <tr>\n",
              "      <th>9896</th>\n",
              "      <td>mbak della sangat baik dan ramah , makanna nya...</td>\n",
              "    </tr>\n",
              "    <tr>\n",
              "      <th>9897</th>\n",
              "      <td>suasana nya sangat romantis jika makan malam d...</td>\n",
              "    </tr>\n",
              "    <tr>\n",
              "      <th>9899</th>\n",
              "      <td>mau itu pak ridwan kamil atau pak dedi mulyadi...</td>\n",
              "    </tr>\n",
              "  </tbody>\n",
              "</table>\n",
              "<p>9836 rows × 1 columns</p>\n",
              "</div>\n",
              "      <button class=\"colab-df-convert\" onclick=\"convertToInteractive('df-9af007b4-df79-487a-924c-61088df92b75')\"\n",
              "              title=\"Convert this dataframe to an interactive table.\"\n",
              "              style=\"display:none;\">\n",
              "        \n",
              "  <svg xmlns=\"http://www.w3.org/2000/svg\" height=\"24px\"viewBox=\"0 0 24 24\"\n",
              "       width=\"24px\">\n",
              "    <path d=\"M0 0h24v24H0V0z\" fill=\"none\"/>\n",
              "    <path d=\"M18.56 5.44l.94 2.06.94-2.06 2.06-.94-2.06-.94-.94-2.06-.94 2.06-2.06.94zm-11 1L8.5 8.5l.94-2.06 2.06-.94-2.06-.94L8.5 2.5l-.94 2.06-2.06.94zm10 10l.94 2.06.94-2.06 2.06-.94-2.06-.94-.94-2.06-.94 2.06-2.06.94z\"/><path d=\"M17.41 7.96l-1.37-1.37c-.4-.4-.92-.59-1.43-.59-.52 0-1.04.2-1.43.59L10.3 9.45l-7.72 7.72c-.78.78-.78 2.05 0 2.83L4 21.41c.39.39.9.59 1.41.59.51 0 1.02-.2 1.41-.59l7.78-7.78 2.81-2.81c.8-.78.8-2.07 0-2.86zM5.41 20L4 18.59l7.72-7.72 1.47 1.35L5.41 20z\"/>\n",
              "  </svg>\n",
              "      </button>\n",
              "      \n",
              "  <style>\n",
              "    .colab-df-container {\n",
              "      display:flex;\n",
              "      flex-wrap:wrap;\n",
              "      gap: 12px;\n",
              "    }\n",
              "\n",
              "    .colab-df-convert {\n",
              "      background-color: #E8F0FE;\n",
              "      border: none;\n",
              "      border-radius: 50%;\n",
              "      cursor: pointer;\n",
              "      display: none;\n",
              "      fill: #1967D2;\n",
              "      height: 32px;\n",
              "      padding: 0 0 0 0;\n",
              "      width: 32px;\n",
              "    }\n",
              "\n",
              "    .colab-df-convert:hover {\n",
              "      background-color: #E2EBFA;\n",
              "      box-shadow: 0px 1px 2px rgba(60, 64, 67, 0.3), 0px 1px 3px 1px rgba(60, 64, 67, 0.15);\n",
              "      fill: #174EA6;\n",
              "    }\n",
              "\n",
              "    [theme=dark] .colab-df-convert {\n",
              "      background-color: #3B4455;\n",
              "      fill: #D2E3FC;\n",
              "    }\n",
              "\n",
              "    [theme=dark] .colab-df-convert:hover {\n",
              "      background-color: #434B5C;\n",
              "      box-shadow: 0px 1px 3px 1px rgba(0, 0, 0, 0.15);\n",
              "      filter: drop-shadow(0px 1px 2px rgba(0, 0, 0, 0.3));\n",
              "      fill: #FFFFFF;\n",
              "    }\n",
              "  </style>\n",
              "\n",
              "      <script>\n",
              "        const buttonEl =\n",
              "          document.querySelector('#df-9af007b4-df79-487a-924c-61088df92b75 button.colab-df-convert');\n",
              "        buttonEl.style.display =\n",
              "          google.colab.kernel.accessAllowed ? 'block' : 'none';\n",
              "\n",
              "        async function convertToInteractive(key) {\n",
              "          const element = document.querySelector('#df-9af007b4-df79-487a-924c-61088df92b75');\n",
              "          const dataTable =\n",
              "            await google.colab.kernel.invokeFunction('convertToInteractive',\n",
              "                                                     [key], {});\n",
              "          if (!dataTable) return;\n",
              "\n",
              "          const docLinkHtml = 'Like what you see? Visit the ' +\n",
              "            '<a target=\"_blank\" href=https://colab.research.google.com/notebooks/data_table.ipynb>data table notebook</a>'\n",
              "            + ' to learn more about interactive tables.';\n",
              "          element.innerHTML = '';\n",
              "          dataTable['output_type'] = 'display_data';\n",
              "          await google.colab.output.renderOutput(dataTable, element);\n",
              "          const docLink = document.createElement('div');\n",
              "          docLink.innerHTML = docLinkHtml;\n",
              "          element.appendChild(docLink);\n",
              "        }\n",
              "      </script>\n",
              "    </div>\n",
              "  </div>\n",
              "  "
            ]
          },
          "metadata": {},
          "execution_count": 98
        }
      ],
      "source": [
        "df[['tweet']]"
      ]
    },
    {
      "cell_type": "markdown",
      "metadata": {
        "id": "2ftlqNRX2i6U"
      },
      "source": [
        "## Bivariate Analysis"
      ]
    },
    {
      "cell_type": "markdown",
      "metadata": {
        "id": "0qsSiQBbo-xb"
      },
      "source": [
        "### Descriptive Statistic"
      ]
    },
    {
      "cell_type": "markdown",
      "metadata": {
        "id": "KqfuRxT6nUgD"
      },
      "source": [
        "Untuk melakukan Bivariate Analysis kita bisa mengkombinasikan pendekatan statistik dan visualisasi sama seperti Univariate Analysis."
      ]
    },
    {
      "cell_type": "markdown",
      "metadata": {
        "id": "4IyJfpyRozkb"
      },
      "source": [
        "#### Pearson Correlation\n",
        "Pearson Correlation mengukur linear dependence antara 2 variabel X dan Y.\n",
        "Hasilnya berupa angka diantara -1 dan 1, dimana:\n",
        "- 1: total positive linear correlation,\n",
        "- 0: no linear correlation, the two variables most likely do not affect each other\n",
        "- -1: total negative linear correlation.\n",
        "\n",
        "Pada hasil di bawah, antara \"total_word\" dan \"total_char\" memiliki korelasi positif karena mendekati nilai 1:\n",
        "\n",
        "\n",
        "\n",
        "*   \"total_world\" -> \"total_char\": 0.99\n",
        "*   \"total_char\" -> \"total_world\": 0.99\n",
        "\n"
      ]
    },
    {
      "cell_type": "code",
      "execution_count": null,
      "metadata": {
        "colab": {
          "base_uri": "https://localhost:8080/",
          "height": 112
        },
        "id": "5cjzRlWTjxT2",
        "outputId": "e96098da-b197-4045-a60a-b8bfc2e61a07"
      },
      "outputs": [
        {
          "output_type": "execute_result",
          "data": {
            "text/plain": [
              "            total_word  total_char\n",
              "total_word    1.000000    0.991349\n",
              "total_char    0.991349    1.000000"
            ],
            "text/html": [
              "\n",
              "  <div id=\"df-3b128c0b-6c11-4148-b00a-4a78e85e02ca\">\n",
              "    <div class=\"colab-df-container\">\n",
              "      <div>\n",
              "<style scoped>\n",
              "    .dataframe tbody tr th:only-of-type {\n",
              "        vertical-align: middle;\n",
              "    }\n",
              "\n",
              "    .dataframe tbody tr th {\n",
              "        vertical-align: top;\n",
              "    }\n",
              "\n",
              "    .dataframe thead th {\n",
              "        text-align: right;\n",
              "    }\n",
              "</style>\n",
              "<table border=\"1\" class=\"dataframe\">\n",
              "  <thead>\n",
              "    <tr style=\"text-align: right;\">\n",
              "      <th></th>\n",
              "      <th>total_word</th>\n",
              "      <th>total_char</th>\n",
              "    </tr>\n",
              "  </thead>\n",
              "  <tbody>\n",
              "    <tr>\n",
              "      <th>total_word</th>\n",
              "      <td>1.000000</td>\n",
              "      <td>0.991349</td>\n",
              "    </tr>\n",
              "    <tr>\n",
              "      <th>total_char</th>\n",
              "      <td>0.991349</td>\n",
              "      <td>1.000000</td>\n",
              "    </tr>\n",
              "  </tbody>\n",
              "</table>\n",
              "</div>\n",
              "      <button class=\"colab-df-convert\" onclick=\"convertToInteractive('df-3b128c0b-6c11-4148-b00a-4a78e85e02ca')\"\n",
              "              title=\"Convert this dataframe to an interactive table.\"\n",
              "              style=\"display:none;\">\n",
              "        \n",
              "  <svg xmlns=\"http://www.w3.org/2000/svg\" height=\"24px\"viewBox=\"0 0 24 24\"\n",
              "       width=\"24px\">\n",
              "    <path d=\"M0 0h24v24H0V0z\" fill=\"none\"/>\n",
              "    <path d=\"M18.56 5.44l.94 2.06.94-2.06 2.06-.94-2.06-.94-.94-2.06-.94 2.06-2.06.94zm-11 1L8.5 8.5l.94-2.06 2.06-.94-2.06-.94L8.5 2.5l-.94 2.06-2.06.94zm10 10l.94 2.06.94-2.06 2.06-.94-2.06-.94-.94-2.06-.94 2.06-2.06.94z\"/><path d=\"M17.41 7.96l-1.37-1.37c-.4-.4-.92-.59-1.43-.59-.52 0-1.04.2-1.43.59L10.3 9.45l-7.72 7.72c-.78.78-.78 2.05 0 2.83L4 21.41c.39.39.9.59 1.41.59.51 0 1.02-.2 1.41-.59l7.78-7.78 2.81-2.81c.8-.78.8-2.07 0-2.86zM5.41 20L4 18.59l7.72-7.72 1.47 1.35L5.41 20z\"/>\n",
              "  </svg>\n",
              "      </button>\n",
              "      \n",
              "  <style>\n",
              "    .colab-df-container {\n",
              "      display:flex;\n",
              "      flex-wrap:wrap;\n",
              "      gap: 12px;\n",
              "    }\n",
              "\n",
              "    .colab-df-convert {\n",
              "      background-color: #E8F0FE;\n",
              "      border: none;\n",
              "      border-radius: 50%;\n",
              "      cursor: pointer;\n",
              "      display: none;\n",
              "      fill: #1967D2;\n",
              "      height: 32px;\n",
              "      padding: 0 0 0 0;\n",
              "      width: 32px;\n",
              "    }\n",
              "\n",
              "    .colab-df-convert:hover {\n",
              "      background-color: #E2EBFA;\n",
              "      box-shadow: 0px 1px 2px rgba(60, 64, 67, 0.3), 0px 1px 3px 1px rgba(60, 64, 67, 0.15);\n",
              "      fill: #174EA6;\n",
              "    }\n",
              "\n",
              "    [theme=dark] .colab-df-convert {\n",
              "      background-color: #3B4455;\n",
              "      fill: #D2E3FC;\n",
              "    }\n",
              "\n",
              "    [theme=dark] .colab-df-convert:hover {\n",
              "      background-color: #434B5C;\n",
              "      box-shadow: 0px 1px 3px 1px rgba(0, 0, 0, 0.15);\n",
              "      filter: drop-shadow(0px 1px 2px rgba(0, 0, 0, 0.3));\n",
              "      fill: #FFFFFF;\n",
              "    }\n",
              "  </style>\n",
              "\n",
              "      <script>\n",
              "        const buttonEl =\n",
              "          document.querySelector('#df-3b128c0b-6c11-4148-b00a-4a78e85e02ca button.colab-df-convert');\n",
              "        buttonEl.style.display =\n",
              "          google.colab.kernel.accessAllowed ? 'block' : 'none';\n",
              "\n",
              "        async function convertToInteractive(key) {\n",
              "          const element = document.querySelector('#df-3b128c0b-6c11-4148-b00a-4a78e85e02ca');\n",
              "          const dataTable =\n",
              "            await google.colab.kernel.invokeFunction('convertToInteractive',\n",
              "                                                     [key], {});\n",
              "          if (!dataTable) return;\n",
              "\n",
              "          const docLinkHtml = 'Like what you see? Visit the ' +\n",
              "            '<a target=\"_blank\" href=https://colab.research.google.com/notebooks/data_table.ipynb>data table notebook</a>'\n",
              "            + ' to learn more about interactive tables.';\n",
              "          element.innerHTML = '';\n",
              "          dataTable['output_type'] = 'display_data';\n",
              "          await google.colab.output.renderOutput(dataTable, element);\n",
              "          const docLink = document.createElement('div');\n",
              "          docLink.innerHTML = docLinkHtml;\n",
              "          element.appendChild(docLink);\n",
              "        }\n",
              "      </script>\n",
              "    </div>\n",
              "  </div>\n",
              "  "
            ]
          },
          "metadata": {},
          "execution_count": 99
        }
      ],
      "source": [
        "df[['total_word','total_char']].corr()"
      ]
    },
    {
      "cell_type": "markdown",
      "metadata": {
        "id": "vrDrWBXUp3w6"
      },
      "source": [
        "### Visualization"
      ]
    },
    {
      "cell_type": "markdown",
      "metadata": {
        "id": "9JaTg8AUqIBu"
      },
      "source": [
        "#### Scatter"
      ]
    },
    {
      "cell_type": "markdown",
      "metadata": {
        "id": "XaTkuq3tp-eH"
      },
      "source": [
        "Angka korelasi positif sebelumnya terkonfirmasi dari visualisasi scatter di bawah. Terlihat pola yang dihasilkan linier dari pojok kiri bawah ke pojok kanan atas."
      ]
    },
    {
      "cell_type": "code",
      "execution_count": null,
      "metadata": {
        "colab": {
          "base_uri": "https://localhost:8080/",
          "height": 282
        },
        "id": "r6RFSL812k4-",
        "outputId": "609af2dc-22e6-423f-9508-864a73e2ed35"
      },
      "outputs": [
        {
          "output_type": "execute_result",
          "data": {
            "text/plain": [
              "<matplotlib.collections.PathCollection at 0x7f18debf4d90>"
            ]
          },
          "metadata": {},
          "execution_count": 100
        },
        {
          "output_type": "display_data",
          "data": {
            "text/plain": [
              "<Figure size 432x288 with 1 Axes>"
            ],
            "image/png": "[encoded data removed]"
          },
          "metadata": {
            "needs_background": "light"
          }
        }
      ],
      "source": [
        "plt.scatter(x=df['total_word'], y=df['total_char'])"
      ]
    },
    {
      "cell_type": "markdown",
      "metadata": {
        "id": "bNDtaUSDqcI8"
      },
      "source": [
        "#### Bar"
      ]
    },
    {
      "cell_type": "markdown",
      "metadata": {
        "id": "G8KMy48Bqnh9"
      },
      "source": [
        "##### Total Word + Label\n",
        "\n",
        "Kita bisa melihat kombinasi visualisasi antara total_word dan label untuk mencari tahu sentimen apa yang memiliki kata yang paling panjang.\n",
        "\n",
        "Pada visualisasi di bawah sentimen positif memiliki kata yang paling panjang"
      ]
    },
    {
      "cell_type": "code",
      "execution_count": null,
      "metadata": {
        "colab": {
          "base_uri": "https://localhost:8080/",
          "height": 282
        },
        "id": "4-k_41WH267J",
        "outputId": "9c34f13b-99af-4665-e192-784ecd4d864b"
      },
      "outputs": [
        {
          "output_type": "execute_result",
          "data": {
            "text/plain": [
              "<BarContainer object of 93 artists>"
            ]
          },
          "metadata": {},
          "execution_count": 101
        },
        {
          "output_type": "display_data",
          "data": {
            "text/plain": [
              "<Figure size 432x288 with 1 Axes>"
            ],
            "image/png": "[encoded data removed]"
          },
          "metadata": {
            "needs_background": "light"
          }
        }
      ],
      "source": [
        "plt.bar(df['total_word'].value_counts().index, df['total_word'].value_counts())"
      ]
    },
    {
      "cell_type": "markdown",
      "metadata": {
        "id": "rc0vxwMsrJkB"
      },
      "source": [
        "##### Total Char + Label\n",
        "\n",
        "Kita bisa melihat kombinasi visualisasi antara total_char dan label untuk mencari tahu sentimen apa yang memiliki kata yang paling panjang.\n",
        "\n",
        "Pada visualisasi di bawah sentimen positif memiliki karakter yang paling panjang"
      ]
    },
    {
      "cell_type": "code",
      "execution_count": null,
      "metadata": {
        "colab": {
          "base_uri": "https://localhost:8080/",
          "height": 282
        },
        "id": "h_dN1QhQi_mM",
        "outputId": "a53ee308-a564-4c05-f897-4046b8aed6e8"
      },
      "outputs": [
        {
          "output_type": "execute_result",
          "data": {
            "text/plain": [
              "<BarContainer object of 9836 artists>"
            ]
          },
          "metadata": {},
          "execution_count": 102
        },
        {
          "output_type": "display_data",
          "data": {
            "text/plain": [
              "<Figure size 432x288 with 1 Axes>"
            ],
            "image/png": "[encoded data removed]"
          },
          "metadata": {
            "needs_background": "light"
          }
        }
      ],
      "source": [
        "plt.bar(df['label'], df['total_char'])"
      ]
    }
  ],
  "metadata": {
    "colab": {
      "provenance": []
    },
    "kernelspec": {
      "display_name": "Python 3 (ipykernel)",
      "language": "python",
      "name": "python3"
    },
    "language_info": {
      "codemirror_mode": {
        "name": "ipython",
        "version": 3
      },
      "file_extension": ".py",
      "mimetype": "text/x-python",
      "name": "python",
      "nbconvert_exporter": "python",
      "pygments_lexer": "ipython3",
      "version": "3.9.13"
    },
    "vscode": {
      "interpreter": {
        "hash": "bbe054f82611da69a236c20d185807936886c22cfa3db0ebeb109fb4db8ace57"
      }
    }
  },
  "nbformat": 4,
  "nbformat_minor": 0
}